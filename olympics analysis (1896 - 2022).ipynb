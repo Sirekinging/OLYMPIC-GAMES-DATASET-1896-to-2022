{
 "cells": [
  {
   "cell_type": "markdown",
   "id": "18147ed4-0138-44a5-8b26-f7c04f26adb4",
   "metadata": {
    "tags": []
   },
   "source": [
    "![purple-divider](https://user-images.githubusercontent.com/7065401/52071927-c1cd7100-2562-11e9-908a-dde91ba14e59.png)\n",
    "\n",
    "# DATA ANALYSIS OF OLYMPIC GAMES (1896 to 2022) DATASET USING `PYTHON`\n",
    "\n",
    "![purple-divider](https://user-images.githubusercontent.com/7065401/52071927-c1cd7100-2562-11e9-908a-dde91ba14e59.png)"
   ]
  },
  {
   "cell_type": "code",
   "execution_count": 2,
   "id": "314c2846-0c51-4560-8b93-58a88f1360b4",
   "metadata": {
    "tags": []
   },
   "outputs": [],
   "source": [
    "import pandas as pd\n",
    "import matplotlib.pyplot as plt\n",
    "import numpy as np\n",
    "import seaborn as sns"
   ]
  },
  {
   "cell_type": "code",
   "execution_count": 3,
   "id": "2f3c0d12-4027-41d4-9cd3-9b03ea5a277a",
   "metadata": {
    "tags": []
   },
   "outputs": [],
   "source": [
    "athletes = pd.read_csv('olympic_athletes.csv')\n",
    "hosts = pd.read_csv('olympic_hosts.csv')\n",
    "medals = pd.read_csv('olympic_medals.csv')\n",
    "results = pd.read_csv('olympic_results.csv')"
   ]
  },
  {
   "cell_type": "markdown",
   "id": "b2a2f38b-a9e2-4b3d-92b4-71a131422cb5",
   "metadata": {
    "jp-MarkdownHeadingCollapsed": true,
    "tags": []
   },
   "source": [
    "## Athletes Information"
   ]
  },
  {
   "cell_type": "code",
   "execution_count": 4,
   "id": "58371723-a163-4f73-8e1b-0e6bf2919a33",
   "metadata": {
    "tags": []
   },
   "outputs": [
    {
     "data": {
      "text/html": [
       "<div>\n",
       "<style scoped>\n",
       "    .dataframe tbody tr th:only-of-type {\n",
       "        vertical-align: middle;\n",
       "    }\n",
       "\n",
       "    .dataframe tbody tr th {\n",
       "        vertical-align: top;\n",
       "    }\n",
       "\n",
       "    .dataframe thead th {\n",
       "        text-align: right;\n",
       "    }\n",
       "</style>\n",
       "<table border=\"1\" class=\"dataframe\">\n",
       "  <thead>\n",
       "    <tr style=\"text-align: right;\">\n",
       "      <th></th>\n",
       "      <th>athlete_url</th>\n",
       "      <th>athlete_full_name</th>\n",
       "      <th>games_participations</th>\n",
       "      <th>first_game</th>\n",
       "      <th>athlete_year_birth</th>\n",
       "      <th>athlete_medals</th>\n",
       "      <th>bio</th>\n",
       "    </tr>\n",
       "  </thead>\n",
       "  <tbody>\n",
       "    <tr>\n",
       "      <th>0</th>\n",
       "      <td>https://olympics.com/en/athletes/cooper-woods-...</td>\n",
       "      <td>Cooper WOODS-TOPALOVIC</td>\n",
       "      <td>1</td>\n",
       "      <td>Beijing 2022</td>\n",
       "      <td>2000.0</td>\n",
       "      <td>NaN</td>\n",
       "      <td>NaN</td>\n",
       "    </tr>\n",
       "    <tr>\n",
       "      <th>1</th>\n",
       "      <td>https://olympics.com/en/athletes/elofsson</td>\n",
       "      <td>Felix ELOFSSON</td>\n",
       "      <td>2</td>\n",
       "      <td>PyeongChang 2018</td>\n",
       "      <td>1995.0</td>\n",
       "      <td>NaN</td>\n",
       "      <td>NaN</td>\n",
       "    </tr>\n",
       "    <tr>\n",
       "      <th>2</th>\n",
       "      <td>https://olympics.com/en/athletes/dylan-walczyk</td>\n",
       "      <td>Dylan WALCZYK</td>\n",
       "      <td>1</td>\n",
       "      <td>Beijing 2022</td>\n",
       "      <td>1993.0</td>\n",
       "      <td>NaN</td>\n",
       "      <td>NaN</td>\n",
       "    </tr>\n",
       "    <tr>\n",
       "      <th>3</th>\n",
       "      <td>https://olympics.com/en/athletes/olli-penttala</td>\n",
       "      <td>Olli PENTTALA</td>\n",
       "      <td>1</td>\n",
       "      <td>Beijing 2022</td>\n",
       "      <td>1995.0</td>\n",
       "      <td>NaN</td>\n",
       "      <td>NaN</td>\n",
       "    </tr>\n",
       "    <tr>\n",
       "      <th>4</th>\n",
       "      <td>https://olympics.com/en/athletes/reikherd</td>\n",
       "      <td>Dmitriy REIKHERD</td>\n",
       "      <td>1</td>\n",
       "      <td>Beijing 2022</td>\n",
       "      <td>1989.0</td>\n",
       "      <td>NaN</td>\n",
       "      <td>NaN</td>\n",
       "    </tr>\n",
       "  </tbody>\n",
       "</table>\n",
       "</div>"
      ],
      "text/plain": [
       "                                         athlete_url       athlete_full_name  \\\n",
       "0  https://olympics.com/en/athletes/cooper-woods-...  Cooper WOODS-TOPALOVIC   \n",
       "1          https://olympics.com/en/athletes/elofsson          Felix ELOFSSON   \n",
       "2     https://olympics.com/en/athletes/dylan-walczyk           Dylan WALCZYK   \n",
       "3     https://olympics.com/en/athletes/olli-penttala           Olli PENTTALA   \n",
       "4          https://olympics.com/en/athletes/reikherd        Dmitriy REIKHERD   \n",
       "\n",
       "   games_participations        first_game  athlete_year_birth athlete_medals  \\\n",
       "0                     1      Beijing 2022              2000.0            NaN   \n",
       "1                     2  PyeongChang 2018              1995.0            NaN   \n",
       "2                     1      Beijing 2022              1993.0            NaN   \n",
       "3                     1      Beijing 2022              1995.0            NaN   \n",
       "4                     1      Beijing 2022              1989.0            NaN   \n",
       "\n",
       "   bio  \n",
       "0  NaN  \n",
       "1  NaN  \n",
       "2  NaN  \n",
       "3  NaN  \n",
       "4  NaN  "
      ]
     },
     "execution_count": 4,
     "metadata": {},
     "output_type": "execute_result"
    }
   ],
   "source": [
    "athletes.head()"
   ]
  },
  {
   "cell_type": "code",
   "execution_count": 5,
   "id": "6b7092bb-2db0-4c08-9015-b15103b388ab",
   "metadata": {
    "tags": []
   },
   "outputs": [
    {
     "name": "stdout",
     "output_type": "stream",
     "text": [
      "<class 'pandas.core.frame.DataFrame'>\n",
      "RangeIndex: 75904 entries, 0 to 75903\n",
      "Data columns (total 7 columns):\n",
      " #   Column                Non-Null Count  Dtype  \n",
      "---  ------                --------------  -----  \n",
      " 0   athlete_url           75904 non-null  object \n",
      " 1   athlete_full_name     75904 non-null  object \n",
      " 2   games_participations  75904 non-null  int64  \n",
      " 3   first_game            75882 non-null  object \n",
      " 4   athlete_year_birth    73448 non-null  float64\n",
      " 5   athlete_medals        15352 non-null  object \n",
      " 6   bio                   22842 non-null  object \n",
      "dtypes: float64(1), int64(1), object(5)\n",
      "memory usage: 4.1+ MB\n"
     ]
    }
   ],
   "source": [
    "athletes.info()"
   ]
  },
  {
   "cell_type": "markdown",
   "id": "fbaf9e71-83e5-4325-b1a5-085923924631",
   "metadata": {},
   "source": [
    "#### Athlete's Column-name description\n",
    "\n",
    "1) `athlete_url` - The athlete domain name\n",
    "\n",
    "2) `athlete_full_name` - Name of the athlete\n",
    "\n",
    "3) `games_participations` - The number of games participated in\n",
    "\n",
    "4) `first_game` - The athlete's first game\n",
    "\n",
    "5) `athlete_year_birth` - Athlete's birth year\n",
    "\n",
    "6) `athlete_medals` - Medals won by athlete\n",
    "\n",
    "7) `bio` - Athlete's biography"
   ]
  },
  {
   "cell_type": "code",
   "execution_count": null,
   "id": "0f5b61c5-f034-4fcf-844a-1b79d06527aa",
   "metadata": {},
   "outputs": [],
   "source": []
  },
  {
   "cell_type": "markdown",
   "id": "29345d5c-05e8-4d04-bdc3-1b2b170f5797",
   "metadata": {},
   "source": [
    "![green-divider](https://user-images.githubusercontent.com/7065401/52071924-c003ad80-2562-11e9-8297-1c6595f8a7ff.png)"
   ]
  },
  {
   "cell_type": "markdown",
   "id": "418490d2-e43e-4211-977f-a74bdf665594",
   "metadata": {
    "jp-MarkdownHeadingCollapsed": true,
    "tags": []
   },
   "source": [
    "## Hosts Information"
   ]
  },
  {
   "cell_type": "code",
   "execution_count": 6,
   "id": "247bd59a-032d-43a0-bb29-51bcff9d442f",
   "metadata": {
    "tags": []
   },
   "outputs": [
    {
     "data": {
      "text/html": [
       "<div>\n",
       "<style scoped>\n",
       "    .dataframe tbody tr th:only-of-type {\n",
       "        vertical-align: middle;\n",
       "    }\n",
       "\n",
       "    .dataframe tbody tr th {\n",
       "        vertical-align: top;\n",
       "    }\n",
       "\n",
       "    .dataframe thead th {\n",
       "        text-align: right;\n",
       "    }\n",
       "</style>\n",
       "<table border=\"1\" class=\"dataframe\">\n",
       "  <thead>\n",
       "    <tr style=\"text-align: right;\">\n",
       "      <th></th>\n",
       "      <th>game_slug</th>\n",
       "      <th>game_end_date</th>\n",
       "      <th>game_start_date</th>\n",
       "      <th>game_location</th>\n",
       "      <th>game_name</th>\n",
       "      <th>game_season</th>\n",
       "      <th>game_year</th>\n",
       "    </tr>\n",
       "  </thead>\n",
       "  <tbody>\n",
       "    <tr>\n",
       "      <th>0</th>\n",
       "      <td>beijing-2022</td>\n",
       "      <td>2022-02-20T12:00:00Z</td>\n",
       "      <td>2022-02-04T15:00:00Z</td>\n",
       "      <td>China</td>\n",
       "      <td>Beijing 2022</td>\n",
       "      <td>Winter</td>\n",
       "      <td>2022</td>\n",
       "    </tr>\n",
       "    <tr>\n",
       "      <th>1</th>\n",
       "      <td>tokyo-2020</td>\n",
       "      <td>2021-08-08T14:00:00Z</td>\n",
       "      <td>2021-07-23T11:00:00Z</td>\n",
       "      <td>Japan</td>\n",
       "      <td>Tokyo 2020</td>\n",
       "      <td>Summer</td>\n",
       "      <td>2020</td>\n",
       "    </tr>\n",
       "    <tr>\n",
       "      <th>2</th>\n",
       "      <td>pyeongchang-2018</td>\n",
       "      <td>2018-02-25T08:00:00Z</td>\n",
       "      <td>2018-02-08T23:00:00Z</td>\n",
       "      <td>Republic of Korea</td>\n",
       "      <td>PyeongChang 2018</td>\n",
       "      <td>Winter</td>\n",
       "      <td>2018</td>\n",
       "    </tr>\n",
       "    <tr>\n",
       "      <th>3</th>\n",
       "      <td>rio-2016</td>\n",
       "      <td>2016-08-21T21:00:00Z</td>\n",
       "      <td>2016-08-05T12:00:00Z</td>\n",
       "      <td>Brazil</td>\n",
       "      <td>Rio 2016</td>\n",
       "      <td>Summer</td>\n",
       "      <td>2016</td>\n",
       "    </tr>\n",
       "    <tr>\n",
       "      <th>4</th>\n",
       "      <td>sochi-2014</td>\n",
       "      <td>2014-02-23T16:00:00Z</td>\n",
       "      <td>2014-02-07T04:00:00Z</td>\n",
       "      <td>Russian Federation</td>\n",
       "      <td>Sochi 2014</td>\n",
       "      <td>Winter</td>\n",
       "      <td>2014</td>\n",
       "    </tr>\n",
       "  </tbody>\n",
       "</table>\n",
       "</div>"
      ],
      "text/plain": [
       "          game_slug         game_end_date       game_start_date  \\\n",
       "0      beijing-2022  2022-02-20T12:00:00Z  2022-02-04T15:00:00Z   \n",
       "1        tokyo-2020  2021-08-08T14:00:00Z  2021-07-23T11:00:00Z   \n",
       "2  pyeongchang-2018  2018-02-25T08:00:00Z  2018-02-08T23:00:00Z   \n",
       "3          rio-2016  2016-08-21T21:00:00Z  2016-08-05T12:00:00Z   \n",
       "4        sochi-2014  2014-02-23T16:00:00Z  2014-02-07T04:00:00Z   \n",
       "\n",
       "        game_location         game_name game_season  game_year  \n",
       "0               China      Beijing 2022      Winter       2022  \n",
       "1               Japan        Tokyo 2020      Summer       2020  \n",
       "2   Republic of Korea  PyeongChang 2018      Winter       2018  \n",
       "3              Brazil          Rio 2016      Summer       2016  \n",
       "4  Russian Federation        Sochi 2014      Winter       2014  "
      ]
     },
     "execution_count": 6,
     "metadata": {},
     "output_type": "execute_result"
    }
   ],
   "source": [
    "hosts.head()"
   ]
  },
  {
   "cell_type": "code",
   "execution_count": 7,
   "id": "99db7012-f69a-41e2-9949-d8e592789982",
   "metadata": {
    "tags": []
   },
   "outputs": [
    {
     "name": "stdout",
     "output_type": "stream",
     "text": [
      "<class 'pandas.core.frame.DataFrame'>\n",
      "RangeIndex: 53 entries, 0 to 52\n",
      "Data columns (total 7 columns):\n",
      " #   Column           Non-Null Count  Dtype \n",
      "---  ------           --------------  ----- \n",
      " 0   game_slug        53 non-null     object\n",
      " 1   game_end_date    53 non-null     object\n",
      " 2   game_start_date  53 non-null     object\n",
      " 3   game_location    53 non-null     object\n",
      " 4   game_name        53 non-null     object\n",
      " 5   game_season      53 non-null     object\n",
      " 6   game_year        53 non-null     int64 \n",
      "dtypes: int64(1), object(6)\n",
      "memory usage: 3.0+ KB\n"
     ]
    }
   ],
   "source": [
    "hosts.info()"
   ]
  },
  {
   "cell_type": "markdown",
   "id": "22707c67-d3ac-4b9b-9d5f-7aaa2ba21123",
   "metadata": {},
   "source": [
    "#### Host's Column-name description\n",
    "\n",
    "1) `game_slug` - Event title alias\n",
    "\n",
    "2) `game_end_date` - Event end date\n",
    "\n",
    "3) `game_start_date` - Event start date\n",
    "\n",
    "4) `game_location` - Location of event\n",
    "\n",
    "5) `game_name` - Event title\n",
    "\n",
    "6) `game_season` - Season of event\n",
    "\n",
    "7) `game_year` - Year the event took place"
   ]
  },
  {
   "cell_type": "code",
   "execution_count": null,
   "id": "00789440-2167-4278-b277-676b431181ae",
   "metadata": {},
   "outputs": [],
   "source": []
  },
  {
   "cell_type": "markdown",
   "id": "6943b1cb-5641-4475-a9d8-67f5f75e5d3a",
   "metadata": {},
   "source": [
    "![green-divider](https://user-images.githubusercontent.com/7065401/52071924-c003ad80-2562-11e9-8297-1c6595f8a7ff.png)"
   ]
  },
  {
   "cell_type": "markdown",
   "id": "7cf74170-5c20-4863-af99-c51fdd240041",
   "metadata": {
    "jp-MarkdownHeadingCollapsed": true,
    "tags": []
   },
   "source": [
    "## Medals Information"
   ]
  },
  {
   "cell_type": "code",
   "execution_count": 8,
   "id": "88931be1-bdf7-42c9-b220-be4fcf98ea0a",
   "metadata": {
    "tags": []
   },
   "outputs": [
    {
     "data": {
      "text/html": [
       "<div>\n",
       "<style scoped>\n",
       "    .dataframe tbody tr th:only-of-type {\n",
       "        vertical-align: middle;\n",
       "    }\n",
       "\n",
       "    .dataframe tbody tr th {\n",
       "        vertical-align: top;\n",
       "    }\n",
       "\n",
       "    .dataframe thead th {\n",
       "        text-align: right;\n",
       "    }\n",
       "</style>\n",
       "<table border=\"1\" class=\"dataframe\">\n",
       "  <thead>\n",
       "    <tr style=\"text-align: right;\">\n",
       "      <th></th>\n",
       "      <th>discipline_title</th>\n",
       "      <th>slug_game</th>\n",
       "      <th>event_title</th>\n",
       "      <th>event_gender</th>\n",
       "      <th>medal_type</th>\n",
       "      <th>participant_type</th>\n",
       "      <th>participant_title</th>\n",
       "      <th>athlete_url</th>\n",
       "      <th>athlete_full_name</th>\n",
       "      <th>country_name</th>\n",
       "      <th>country_code</th>\n",
       "      <th>country_3_letter_code</th>\n",
       "    </tr>\n",
       "  </thead>\n",
       "  <tbody>\n",
       "    <tr>\n",
       "      <th>0</th>\n",
       "      <td>Curling</td>\n",
       "      <td>beijing-2022</td>\n",
       "      <td>Mixed Doubles</td>\n",
       "      <td>Mixed</td>\n",
       "      <td>GOLD</td>\n",
       "      <td>GameTeam</td>\n",
       "      <td>Italy</td>\n",
       "      <td>https://olympics.com/en/athletes/stefania-cons...</td>\n",
       "      <td>Stefania CONSTANTINI</td>\n",
       "      <td>Italy</td>\n",
       "      <td>IT</td>\n",
       "      <td>ITA</td>\n",
       "    </tr>\n",
       "    <tr>\n",
       "      <th>1</th>\n",
       "      <td>Curling</td>\n",
       "      <td>beijing-2022</td>\n",
       "      <td>Mixed Doubles</td>\n",
       "      <td>Mixed</td>\n",
       "      <td>GOLD</td>\n",
       "      <td>GameTeam</td>\n",
       "      <td>Italy</td>\n",
       "      <td>https://olympics.com/en/athletes/amos-mosaner</td>\n",
       "      <td>Amos MOSANER</td>\n",
       "      <td>Italy</td>\n",
       "      <td>IT</td>\n",
       "      <td>ITA</td>\n",
       "    </tr>\n",
       "    <tr>\n",
       "      <th>2</th>\n",
       "      <td>Curling</td>\n",
       "      <td>beijing-2022</td>\n",
       "      <td>Mixed Doubles</td>\n",
       "      <td>Mixed</td>\n",
       "      <td>SILVER</td>\n",
       "      <td>GameTeam</td>\n",
       "      <td>Norway</td>\n",
       "      <td>https://olympics.com/en/athletes/kristin-skaslien</td>\n",
       "      <td>Kristin SKASLIEN</td>\n",
       "      <td>Norway</td>\n",
       "      <td>NO</td>\n",
       "      <td>NOR</td>\n",
       "    </tr>\n",
       "    <tr>\n",
       "      <th>3</th>\n",
       "      <td>Curling</td>\n",
       "      <td>beijing-2022</td>\n",
       "      <td>Mixed Doubles</td>\n",
       "      <td>Mixed</td>\n",
       "      <td>SILVER</td>\n",
       "      <td>GameTeam</td>\n",
       "      <td>Norway</td>\n",
       "      <td>https://olympics.com/en/athletes/magnus-nedreg...</td>\n",
       "      <td>Magnus NEDREGOTTEN</td>\n",
       "      <td>Norway</td>\n",
       "      <td>NO</td>\n",
       "      <td>NOR</td>\n",
       "    </tr>\n",
       "    <tr>\n",
       "      <th>4</th>\n",
       "      <td>Curling</td>\n",
       "      <td>beijing-2022</td>\n",
       "      <td>Mixed Doubles</td>\n",
       "      <td>Mixed</td>\n",
       "      <td>BRONZE</td>\n",
       "      <td>GameTeam</td>\n",
       "      <td>Sweden</td>\n",
       "      <td>https://olympics.com/en/athletes/almida-de-val</td>\n",
       "      <td>Almida DE VAL</td>\n",
       "      <td>Sweden</td>\n",
       "      <td>SE</td>\n",
       "      <td>SWE</td>\n",
       "    </tr>\n",
       "  </tbody>\n",
       "</table>\n",
       "</div>"
      ],
      "text/plain": [
       "  discipline_title     slug_game    event_title event_gender medal_type  \\\n",
       "0          Curling  beijing-2022  Mixed Doubles        Mixed       GOLD   \n",
       "1          Curling  beijing-2022  Mixed Doubles        Mixed       GOLD   \n",
       "2          Curling  beijing-2022  Mixed Doubles        Mixed     SILVER   \n",
       "3          Curling  beijing-2022  Mixed Doubles        Mixed     SILVER   \n",
       "4          Curling  beijing-2022  Mixed Doubles        Mixed     BRONZE   \n",
       "\n",
       "  participant_type participant_title  \\\n",
       "0         GameTeam             Italy   \n",
       "1         GameTeam             Italy   \n",
       "2         GameTeam            Norway   \n",
       "3         GameTeam            Norway   \n",
       "4         GameTeam            Sweden   \n",
       "\n",
       "                                         athlete_url     athlete_full_name  \\\n",
       "0  https://olympics.com/en/athletes/stefania-cons...  Stefania CONSTANTINI   \n",
       "1      https://olympics.com/en/athletes/amos-mosaner          Amos MOSANER   \n",
       "2  https://olympics.com/en/athletes/kristin-skaslien      Kristin SKASLIEN   \n",
       "3  https://olympics.com/en/athletes/magnus-nedreg...    Magnus NEDREGOTTEN   \n",
       "4     https://olympics.com/en/athletes/almida-de-val         Almida DE VAL   \n",
       "\n",
       "  country_name country_code country_3_letter_code  \n",
       "0        Italy           IT                   ITA  \n",
       "1        Italy           IT                   ITA  \n",
       "2       Norway           NO                   NOR  \n",
       "3       Norway           NO                   NOR  \n",
       "4       Sweden           SE                   SWE  "
      ]
     },
     "execution_count": 8,
     "metadata": {},
     "output_type": "execute_result"
    }
   ],
   "source": [
    "medals.head()"
   ]
  },
  {
   "cell_type": "code",
   "execution_count": 9,
   "id": "f68b5a6d-095e-4421-8722-2060569e3436",
   "metadata": {
    "tags": []
   },
   "outputs": [
    {
     "name": "stdout",
     "output_type": "stream",
     "text": [
      "<class 'pandas.core.frame.DataFrame'>\n",
      "RangeIndex: 21697 entries, 0 to 21696\n",
      "Data columns (total 12 columns):\n",
      " #   Column                 Non-Null Count  Dtype \n",
      "---  ------                 --------------  ----- \n",
      " 0   discipline_title       21697 non-null  object\n",
      " 1   slug_game              21697 non-null  object\n",
      " 2   event_title            21697 non-null  object\n",
      " 3   event_gender           21697 non-null  object\n",
      " 4   medal_type             21697 non-null  object\n",
      " 5   participant_type       21697 non-null  object\n",
      " 6   participant_title      6584 non-null   object\n",
      " 7   athlete_url            17027 non-null  object\n",
      " 8   athlete_full_name      18073 non-null  object\n",
      " 9   country_name           21697 non-null  object\n",
      " 10  country_code           20195 non-null  object\n",
      " 11  country_3_letter_code  21697 non-null  object\n",
      "dtypes: object(12)\n",
      "memory usage: 2.0+ MB\n"
     ]
    }
   ],
   "source": [
    "medals.info()"
   ]
  },
  {
   "cell_type": "markdown",
   "id": "c54c2c17-c29b-4128-b384-1cda0617df9a",
   "metadata": {
    "tags": []
   },
   "source": [
    "#### Medals Column-name description\n",
    "\n",
    "1) `discipline_title` - Game name\n",
    "\n",
    "2) `slug_game` - Event title alias\n",
    "\n",
    "3) `event_title` - Game description / Participating Individuals gender\n",
    "\n",
    "4) `event_gender` - Participating Individuals gender\n",
    "\n",
    "5) `medal_type` - Type of medal won\n",
    "\n",
    "6) `participant_type` - Athlete who participated individually or as a group\n",
    "\n",
    "7) `participant_title` - Participant's alias\n",
    "\n",
    "8) `athlete_url` - The athlete domain name\n",
    "\n",
    "9) `athlete_full_name` - Name of the athlete\n",
    "\n",
    "10) `country_name` - The Athlete's country\n",
    "\n",
    "11) `country_code` - Country code \n",
    "\n",
    "12) `country_3_letter_code` - Country's 3 letter code"
   ]
  },
  {
   "cell_type": "code",
   "execution_count": null,
   "id": "0ccf40d6-38d6-4a2a-bb9f-42a9aa3f5811",
   "metadata": {},
   "outputs": [],
   "source": []
  },
  {
   "cell_type": "markdown",
   "id": "f11f7e67-ec17-4956-8e4e-7666c55d1956",
   "metadata": {},
   "source": [
    "![green-divider](https://user-images.githubusercontent.com/7065401/52071924-c003ad80-2562-11e9-8297-1c6595f8a7ff.png)"
   ]
  },
  {
   "cell_type": "markdown",
   "id": "8ddcdfd6-68d8-4734-b7e1-cc8ce290e9c0",
   "metadata": {
    "jp-MarkdownHeadingCollapsed": true,
    "tags": []
   },
   "source": [
    "## Results Information"
   ]
  },
  {
   "cell_type": "code",
   "execution_count": 10,
   "id": "945616eb-76cf-4287-985c-98c406a2eb04",
   "metadata": {
    "tags": []
   },
   "outputs": [
    {
     "data": {
      "text/html": [
       "<div>\n",
       "<style scoped>\n",
       "    .dataframe tbody tr th:only-of-type {\n",
       "        vertical-align: middle;\n",
       "    }\n",
       "\n",
       "    .dataframe tbody tr th {\n",
       "        vertical-align: top;\n",
       "    }\n",
       "\n",
       "    .dataframe thead th {\n",
       "        text-align: right;\n",
       "    }\n",
       "</style>\n",
       "<table border=\"1\" class=\"dataframe\">\n",
       "  <thead>\n",
       "    <tr style=\"text-align: right;\">\n",
       "      <th></th>\n",
       "      <th>discipline_title</th>\n",
       "      <th>event_title</th>\n",
       "      <th>slug_game</th>\n",
       "      <th>participant_type</th>\n",
       "      <th>medal_type</th>\n",
       "      <th>athletes</th>\n",
       "      <th>rank_equal</th>\n",
       "      <th>rank_position</th>\n",
       "      <th>country_name</th>\n",
       "      <th>country_code</th>\n",
       "      <th>country_3_letter_code</th>\n",
       "      <th>athlete_url</th>\n",
       "      <th>athlete_full_name</th>\n",
       "      <th>value_unit</th>\n",
       "      <th>value_type</th>\n",
       "    </tr>\n",
       "  </thead>\n",
       "  <tbody>\n",
       "    <tr>\n",
       "      <th>0</th>\n",
       "      <td>Curling</td>\n",
       "      <td>Mixed Doubles</td>\n",
       "      <td>beijing-2022</td>\n",
       "      <td>GameTeam</td>\n",
       "      <td>GOLD</td>\n",
       "      <td>[('Stefania CONSTANTINI', 'https://olympics.co...</td>\n",
       "      <td>False</td>\n",
       "      <td>1</td>\n",
       "      <td>Italy</td>\n",
       "      <td>IT</td>\n",
       "      <td>ITA</td>\n",
       "      <td>NaN</td>\n",
       "      <td>NaN</td>\n",
       "      <td>NaN</td>\n",
       "      <td>NaN</td>\n",
       "    </tr>\n",
       "    <tr>\n",
       "      <th>1</th>\n",
       "      <td>Curling</td>\n",
       "      <td>Mixed Doubles</td>\n",
       "      <td>beijing-2022</td>\n",
       "      <td>GameTeam</td>\n",
       "      <td>SILVER</td>\n",
       "      <td>[('Kristin SKASLIEN', 'https://olympics.com/en...</td>\n",
       "      <td>False</td>\n",
       "      <td>2</td>\n",
       "      <td>Norway</td>\n",
       "      <td>NO</td>\n",
       "      <td>NOR</td>\n",
       "      <td>NaN</td>\n",
       "      <td>NaN</td>\n",
       "      <td>NaN</td>\n",
       "      <td>NaN</td>\n",
       "    </tr>\n",
       "    <tr>\n",
       "      <th>2</th>\n",
       "      <td>Curling</td>\n",
       "      <td>Mixed Doubles</td>\n",
       "      <td>beijing-2022</td>\n",
       "      <td>GameTeam</td>\n",
       "      <td>BRONZE</td>\n",
       "      <td>[('Almida DE VAL', 'https://olympics.com/en/at...</td>\n",
       "      <td>False</td>\n",
       "      <td>3</td>\n",
       "      <td>Sweden</td>\n",
       "      <td>SE</td>\n",
       "      <td>SWE</td>\n",
       "      <td>NaN</td>\n",
       "      <td>NaN</td>\n",
       "      <td>NaN</td>\n",
       "      <td>NaN</td>\n",
       "    </tr>\n",
       "    <tr>\n",
       "      <th>3</th>\n",
       "      <td>Curling</td>\n",
       "      <td>Mixed Doubles</td>\n",
       "      <td>beijing-2022</td>\n",
       "      <td>GameTeam</td>\n",
       "      <td>NaN</td>\n",
       "      <td>[('Jennifer DODDS', 'https://olympics.com/en/a...</td>\n",
       "      <td>False</td>\n",
       "      <td>4</td>\n",
       "      <td>Great Britain</td>\n",
       "      <td>GB</td>\n",
       "      <td>GBR</td>\n",
       "      <td>NaN</td>\n",
       "      <td>NaN</td>\n",
       "      <td>NaN</td>\n",
       "      <td>NaN</td>\n",
       "    </tr>\n",
       "    <tr>\n",
       "      <th>4</th>\n",
       "      <td>Curling</td>\n",
       "      <td>Mixed Doubles</td>\n",
       "      <td>beijing-2022</td>\n",
       "      <td>GameTeam</td>\n",
       "      <td>NaN</td>\n",
       "      <td>[('Rachel HOMAN', 'https://olympics.com/en/ath...</td>\n",
       "      <td>False</td>\n",
       "      <td>5</td>\n",
       "      <td>Canada</td>\n",
       "      <td>CA</td>\n",
       "      <td>CAN</td>\n",
       "      <td>NaN</td>\n",
       "      <td>NaN</td>\n",
       "      <td>NaN</td>\n",
       "      <td>NaN</td>\n",
       "    </tr>\n",
       "  </tbody>\n",
       "</table>\n",
       "</div>"
      ],
      "text/plain": [
       "  discipline_title    event_title     slug_game participant_type medal_type  \\\n",
       "0          Curling  Mixed Doubles  beijing-2022         GameTeam       GOLD   \n",
       "1          Curling  Mixed Doubles  beijing-2022         GameTeam     SILVER   \n",
       "2          Curling  Mixed Doubles  beijing-2022         GameTeam     BRONZE   \n",
       "3          Curling  Mixed Doubles  beijing-2022         GameTeam        NaN   \n",
       "4          Curling  Mixed Doubles  beijing-2022         GameTeam        NaN   \n",
       "\n",
       "                                            athletes rank_equal rank_position  \\\n",
       "0  [('Stefania CONSTANTINI', 'https://olympics.co...      False             1   \n",
       "1  [('Kristin SKASLIEN', 'https://olympics.com/en...      False             2   \n",
       "2  [('Almida DE VAL', 'https://olympics.com/en/at...      False             3   \n",
       "3  [('Jennifer DODDS', 'https://olympics.com/en/a...      False             4   \n",
       "4  [('Rachel HOMAN', 'https://olympics.com/en/ath...      False             5   \n",
       "\n",
       "    country_name country_code country_3_letter_code athlete_url  \\\n",
       "0          Italy           IT                   ITA         NaN   \n",
       "1         Norway           NO                   NOR         NaN   \n",
       "2         Sweden           SE                   SWE         NaN   \n",
       "3  Great Britain           GB                   GBR         NaN   \n",
       "4         Canada           CA                   CAN         NaN   \n",
       "\n",
       "  athlete_full_name value_unit value_type  \n",
       "0               NaN        NaN        NaN  \n",
       "1               NaN        NaN        NaN  \n",
       "2               NaN        NaN        NaN  \n",
       "3               NaN        NaN        NaN  \n",
       "4               NaN        NaN        NaN  "
      ]
     },
     "execution_count": 10,
     "metadata": {},
     "output_type": "execute_result"
    }
   ],
   "source": [
    "results.head()"
   ]
  },
  {
   "cell_type": "code",
   "execution_count": 11,
   "id": "0f4c6aca-a452-46ef-bbc8-431a13920ba7",
   "metadata": {
    "tags": []
   },
   "outputs": [
    {
     "name": "stdout",
     "output_type": "stream",
     "text": [
      "<class 'pandas.core.frame.DataFrame'>\n",
      "RangeIndex: 162804 entries, 0 to 162803\n",
      "Data columns (total 15 columns):\n",
      " #   Column                 Non-Null Count   Dtype \n",
      "---  ------                 --------------   ----- \n",
      " 0   discipline_title       162804 non-null  object\n",
      " 1   event_title            162804 non-null  object\n",
      " 2   slug_game              162804 non-null  object\n",
      " 3   participant_type       162804 non-null  object\n",
      " 4   medal_type             20206 non-null   object\n",
      " 5   athletes               7976 non-null    object\n",
      " 6   rank_equal             32526 non-null   object\n",
      " 7   rank_position          158926 non-null  object\n",
      " 8   country_name           162804 non-null  object\n",
      " 9   country_code           157768 non-null  object\n",
      " 10  country_3_letter_code  162804 non-null  object\n",
      " 11  athlete_url            129991 non-null  object\n",
      " 12  athlete_full_name      141646 non-null  object\n",
      " 13  value_unit             78646 non-null   object\n",
      " 14  value_type             90049 non-null   object\n",
      "dtypes: object(15)\n",
      "memory usage: 18.6+ MB\n"
     ]
    }
   ],
   "source": [
    "results.info()"
   ]
  },
  {
   "cell_type": "markdown",
   "id": "003454df-2610-484c-9fef-c5e589795e00",
   "metadata": {},
   "source": [
    "#### Results Column-name description\n",
    "\n",
    "1) `discipline_title` - Game name\n",
    "\n",
    "2) `event_title` - Game description / Participating Individuals gender\n",
    "\n",
    "3) `slug_game` - Event title alias\n",
    "\n",
    "4) `participant_type` - Athlete who participated individually or as a group\n",
    "\n",
    "5) `medal_type` - Type of medal won\n",
    "\n",
    "6) `athletes` - Athlete's name and domain name\n",
    "\n",
    "7) `rank_equal` - Unknown variable (True or False)\n",
    "\n",
    "8) `rank_position` - Athlete's Rank\n",
    "\n",
    "9) `country_name` - The Athlete's country\n",
    "\n",
    "10) `country_code` - Country code\n",
    "\n",
    "11) `country_3_letter_code` - Country's 3 letter code\n",
    "\n",
    "12) `athlete_url` - The athlete domain name\n",
    "\n",
    "13) `athlete_full_name` - Name of the athlete\n",
    "\n",
    "14) `value_unit` - Game value unit\n",
    "\n",
    "15) `value_type` - Game value type"
   ]
  },
  {
   "cell_type": "code",
   "execution_count": null,
   "id": "9db3edbb-49c1-4be9-9331-e1abf92666ce",
   "metadata": {},
   "outputs": [],
   "source": []
  },
  {
   "cell_type": "markdown",
   "id": "350f68b8-e4dc-4ae8-9302-6449b88724b8",
   "metadata": {},
   "source": [
    "![green-divider](https://user-images.githubusercontent.com/7065401/52071924-c003ad80-2562-11e9-8297-1c6595f8a7ff.png)"
   ]
  },
  {
   "cell_type": "markdown",
   "id": "ef956118-3f50-4e8a-adf6-6afb4189a835",
   "metadata": {},
   "source": [
    "![green-divider](https://user-images.githubusercontent.com/7065401/52071924-c003ad80-2562-11e9-8297-1c6595f8a7ff.png)\n",
    "\n",
    "# DATA CLEANING PROCESS\n",
    "\n",
    "![green-divider](https://user-images.githubusercontent.com/7065401/52071924-c003ad80-2562-11e9-8297-1c6595f8a7ff.png)"
   ]
  },
  {
   "cell_type": "markdown",
   "id": "3a558573-df4b-4d85-86c7-3b266ed2f05e",
   "metadata": {
    "jp-MarkdownHeadingCollapsed": true,
    "tags": []
   },
   "source": [
    "## For Athletes"
   ]
  },
  {
   "cell_type": "code",
   "execution_count": 12,
   "id": "54d1c477-5e66-4e36-9f4f-d0b4d12e9099",
   "metadata": {
    "tags": []
   },
   "outputs": [
    {
     "data": {
      "text/html": [
       "<div>\n",
       "<style scoped>\n",
       "    .dataframe tbody tr th:only-of-type {\n",
       "        vertical-align: middle;\n",
       "    }\n",
       "\n",
       "    .dataframe tbody tr th {\n",
       "        vertical-align: top;\n",
       "    }\n",
       "\n",
       "    .dataframe thead th {\n",
       "        text-align: right;\n",
       "    }\n",
       "</style>\n",
       "<table border=\"1\" class=\"dataframe\">\n",
       "  <thead>\n",
       "    <tr style=\"text-align: right;\">\n",
       "      <th></th>\n",
       "      <th>athlete_url</th>\n",
       "      <th>athlete_full_name</th>\n",
       "      <th>games_participations</th>\n",
       "      <th>first_game</th>\n",
       "      <th>athlete_year_birth</th>\n",
       "      <th>athlete_medals</th>\n",
       "      <th>bio</th>\n",
       "    </tr>\n",
       "  </thead>\n",
       "  <tbody>\n",
       "    <tr>\n",
       "      <th>0</th>\n",
       "      <td>https://olympics.com/en/athletes/cooper-woods-...</td>\n",
       "      <td>Cooper WOODS-TOPALOVIC</td>\n",
       "      <td>1</td>\n",
       "      <td>Beijing 2022</td>\n",
       "      <td>2000.0</td>\n",
       "      <td>NaN</td>\n",
       "      <td>NaN</td>\n",
       "    </tr>\n",
       "    <tr>\n",
       "      <th>1</th>\n",
       "      <td>https://olympics.com/en/athletes/elofsson</td>\n",
       "      <td>Felix ELOFSSON</td>\n",
       "      <td>2</td>\n",
       "      <td>PyeongChang 2018</td>\n",
       "      <td>1995.0</td>\n",
       "      <td>NaN</td>\n",
       "      <td>NaN</td>\n",
       "    </tr>\n",
       "    <tr>\n",
       "      <th>2</th>\n",
       "      <td>https://olympics.com/en/athletes/dylan-walczyk</td>\n",
       "      <td>Dylan WALCZYK</td>\n",
       "      <td>1</td>\n",
       "      <td>Beijing 2022</td>\n",
       "      <td>1993.0</td>\n",
       "      <td>NaN</td>\n",
       "      <td>NaN</td>\n",
       "    </tr>\n",
       "    <tr>\n",
       "      <th>3</th>\n",
       "      <td>https://olympics.com/en/athletes/olli-penttala</td>\n",
       "      <td>Olli PENTTALA</td>\n",
       "      <td>1</td>\n",
       "      <td>Beijing 2022</td>\n",
       "      <td>1995.0</td>\n",
       "      <td>NaN</td>\n",
       "      <td>NaN</td>\n",
       "    </tr>\n",
       "    <tr>\n",
       "      <th>4</th>\n",
       "      <td>https://olympics.com/en/athletes/reikherd</td>\n",
       "      <td>Dmitriy REIKHERD</td>\n",
       "      <td>1</td>\n",
       "      <td>Beijing 2022</td>\n",
       "      <td>1989.0</td>\n",
       "      <td>NaN</td>\n",
       "      <td>NaN</td>\n",
       "    </tr>\n",
       "  </tbody>\n",
       "</table>\n",
       "</div>"
      ],
      "text/plain": [
       "                                         athlete_url       athlete_full_name  \\\n",
       "0  https://olympics.com/en/athletes/cooper-woods-...  Cooper WOODS-TOPALOVIC   \n",
       "1          https://olympics.com/en/athletes/elofsson          Felix ELOFSSON   \n",
       "2     https://olympics.com/en/athletes/dylan-walczyk           Dylan WALCZYK   \n",
       "3     https://olympics.com/en/athletes/olli-penttala           Olli PENTTALA   \n",
       "4          https://olympics.com/en/athletes/reikherd        Dmitriy REIKHERD   \n",
       "\n",
       "   games_participations        first_game  athlete_year_birth athlete_medals  \\\n",
       "0                     1      Beijing 2022              2000.0            NaN   \n",
       "1                     2  PyeongChang 2018              1995.0            NaN   \n",
       "2                     1      Beijing 2022              1993.0            NaN   \n",
       "3                     1      Beijing 2022              1995.0            NaN   \n",
       "4                     1      Beijing 2022              1989.0            NaN   \n",
       "\n",
       "   bio  \n",
       "0  NaN  \n",
       "1  NaN  \n",
       "2  NaN  \n",
       "3  NaN  \n",
       "4  NaN  "
      ]
     },
     "execution_count": 12,
     "metadata": {},
     "output_type": "execute_result"
    }
   ],
   "source": [
    "athletes.head()"
   ]
  },
  {
   "cell_type": "code",
   "execution_count": 13,
   "id": "c3cbed63-860b-4020-9977-d4ce8a23c8b0",
   "metadata": {
    "tags": []
   },
   "outputs": [
    {
     "data": {
      "text/html": [
       "<div>\n",
       "<style scoped>\n",
       "    .dataframe tbody tr th:only-of-type {\n",
       "        vertical-align: middle;\n",
       "    }\n",
       "\n",
       "    .dataframe tbody tr th {\n",
       "        vertical-align: top;\n",
       "    }\n",
       "\n",
       "    .dataframe thead th {\n",
       "        text-align: right;\n",
       "    }\n",
       "</style>\n",
       "<table border=\"1\" class=\"dataframe\">\n",
       "  <thead>\n",
       "    <tr style=\"text-align: right;\">\n",
       "      <th></th>\n",
       "      <th>athlete_url</th>\n",
       "      <th>athlete_full_name</th>\n",
       "      <th>games_participations</th>\n",
       "      <th>first_game</th>\n",
       "      <th>athlete_year_birth</th>\n",
       "      <th>athlete_medals</th>\n",
       "      <th>bio</th>\n",
       "    </tr>\n",
       "  </thead>\n",
       "  <tbody>\n",
       "  </tbody>\n",
       "</table>\n",
       "</div>"
      ],
      "text/plain": [
       "Empty DataFrame\n",
       "Columns: [athlete_url, athlete_full_name, games_participations, first_game, athlete_year_birth, athlete_medals, bio]\n",
       "Index: []"
      ]
     },
     "execution_count": 13,
     "metadata": {},
     "output_type": "execute_result"
    }
   ],
   "source": [
    "# Identifying dulicates in the athletes dataframe\n",
    "# No duplicates\n",
    "\n",
    "athletes[athletes.duplicated()]"
   ]
  },
  {
   "cell_type": "code",
   "execution_count": 14,
   "id": "b5a706b4-3c8a-4316-b338-d9cbfeed41ab",
   "metadata": {
    "tags": []
   },
   "outputs": [
    {
     "name": "stdout",
     "output_type": "stream",
     "text": [
      "<class 'pandas.core.frame.DataFrame'>\n",
      "RangeIndex: 75904 entries, 0 to 75903\n",
      "Data columns (total 7 columns):\n",
      " #   Column                Non-Null Count  Dtype  \n",
      "---  ------                --------------  -----  \n",
      " 0   athlete_url           75904 non-null  object \n",
      " 1   athlete_full_name     75904 non-null  object \n",
      " 2   games_participations  75904 non-null  int64  \n",
      " 3   first_game            75882 non-null  object \n",
      " 4   athlete_year_birth    73448 non-null  float64\n",
      " 5   athlete_medals        15352 non-null  object \n",
      " 6   bio                   22842 non-null  object \n",
      "dtypes: float64(1), int64(1), object(5)\n",
      "memory usage: 4.1+ MB\n"
     ]
    }
   ],
   "source": [
    "athletes.info()"
   ]
  },
  {
   "cell_type": "code",
   "execution_count": 15,
   "id": "6100ed8a-7d3b-4f71-8092-a8d7255d36c4",
   "metadata": {
    "tags": []
   },
   "outputs": [
    {
     "data": {
      "text/html": [
       "<div>\n",
       "<style scoped>\n",
       "    .dataframe tbody tr th:only-of-type {\n",
       "        vertical-align: middle;\n",
       "    }\n",
       "\n",
       "    .dataframe tbody tr th {\n",
       "        vertical-align: top;\n",
       "    }\n",
       "\n",
       "    .dataframe thead th {\n",
       "        text-align: right;\n",
       "    }\n",
       "</style>\n",
       "<table border=\"1\" class=\"dataframe\">\n",
       "  <thead>\n",
       "    <tr style=\"text-align: right;\">\n",
       "      <th></th>\n",
       "      <th>athlete_url</th>\n",
       "      <th>athlete_full_name</th>\n",
       "      <th>games_participations</th>\n",
       "      <th>first_game</th>\n",
       "      <th>athlete_year_birth</th>\n",
       "    </tr>\n",
       "  </thead>\n",
       "  <tbody>\n",
       "    <tr>\n",
       "      <th>0</th>\n",
       "      <td>https://olympics.com/en/athletes/cooper-woods-...</td>\n",
       "      <td>Cooper WOODS-TOPALOVIC</td>\n",
       "      <td>1</td>\n",
       "      <td>Beijing 2022</td>\n",
       "      <td>2000.0</td>\n",
       "    </tr>\n",
       "    <tr>\n",
       "      <th>1</th>\n",
       "      <td>https://olympics.com/en/athletes/elofsson</td>\n",
       "      <td>Felix ELOFSSON</td>\n",
       "      <td>2</td>\n",
       "      <td>PyeongChang 2018</td>\n",
       "      <td>1995.0</td>\n",
       "    </tr>\n",
       "    <tr>\n",
       "      <th>2</th>\n",
       "      <td>https://olympics.com/en/athletes/dylan-walczyk</td>\n",
       "      <td>Dylan WALCZYK</td>\n",
       "      <td>1</td>\n",
       "      <td>Beijing 2022</td>\n",
       "      <td>1993.0</td>\n",
       "    </tr>\n",
       "    <tr>\n",
       "      <th>3</th>\n",
       "      <td>https://olympics.com/en/athletes/olli-penttala</td>\n",
       "      <td>Olli PENTTALA</td>\n",
       "      <td>1</td>\n",
       "      <td>Beijing 2022</td>\n",
       "      <td>1995.0</td>\n",
       "    </tr>\n",
       "    <tr>\n",
       "      <th>4</th>\n",
       "      <td>https://olympics.com/en/athletes/reikherd</td>\n",
       "      <td>Dmitriy REIKHERD</td>\n",
       "      <td>1</td>\n",
       "      <td>Beijing 2022</td>\n",
       "      <td>1989.0</td>\n",
       "    </tr>\n",
       "  </tbody>\n",
       "</table>\n",
       "</div>"
      ],
      "text/plain": [
       "                                         athlete_url       athlete_full_name  \\\n",
       "0  https://olympics.com/en/athletes/cooper-woods-...  Cooper WOODS-TOPALOVIC   \n",
       "1          https://olympics.com/en/athletes/elofsson          Felix ELOFSSON   \n",
       "2     https://olympics.com/en/athletes/dylan-walczyk           Dylan WALCZYK   \n",
       "3     https://olympics.com/en/athletes/olli-penttala           Olli PENTTALA   \n",
       "4          https://olympics.com/en/athletes/reikherd        Dmitriy REIKHERD   \n",
       "\n",
       "   games_participations        first_game  athlete_year_birth  \n",
       "0                     1      Beijing 2022              2000.0  \n",
       "1                     2  PyeongChang 2018              1995.0  \n",
       "2                     1      Beijing 2022              1993.0  \n",
       "3                     1      Beijing 2022              1995.0  \n",
       "4                     1      Beijing 2022              1989.0  "
      ]
     },
     "execution_count": 15,
     "metadata": {},
     "output_type": "execute_result"
    }
   ],
   "source": [
    "# Drop Unwanted columns (athlete_medals, and bio)\n",
    "\n",
    "athletes.drop(columns = ['athlete_medals', 'bio'], inplace = True)\n",
    "athletes.head()"
   ]
  },
  {
   "cell_type": "code",
   "execution_count": 16,
   "id": "3ce07cef-1a9d-42cd-97c4-e4b5471fa749",
   "metadata": {
    "tags": []
   },
   "outputs": [
    {
     "name": "stderr",
     "output_type": "stream",
     "text": [
      "C:\\Users\\SIRE KINGING\\AppData\\Local\\Temp\\ipykernel_11136\\2932348136.py:3: FutureWarning: In a future version of pandas all arguments of StringMethods.rsplit except for the argument 'pat' will be keyword-only.\n",
      "  athletes['game_year'] = athletes['first_game'].str.rsplit(' ', 1, expand=True)[1]\n"
     ]
    },
    {
     "data": {
      "text/html": [
       "<div>\n",
       "<style scoped>\n",
       "    .dataframe tbody tr th:only-of-type {\n",
       "        vertical-align: middle;\n",
       "    }\n",
       "\n",
       "    .dataframe tbody tr th {\n",
       "        vertical-align: top;\n",
       "    }\n",
       "\n",
       "    .dataframe thead th {\n",
       "        text-align: right;\n",
       "    }\n",
       "</style>\n",
       "<table border=\"1\" class=\"dataframe\">\n",
       "  <thead>\n",
       "    <tr style=\"text-align: right;\">\n",
       "      <th></th>\n",
       "      <th>athlete_url</th>\n",
       "      <th>athlete_full_name</th>\n",
       "      <th>games_participations</th>\n",
       "      <th>first_game</th>\n",
       "      <th>athlete_year_birth</th>\n",
       "      <th>game_year</th>\n",
       "    </tr>\n",
       "  </thead>\n",
       "  <tbody>\n",
       "    <tr>\n",
       "      <th>0</th>\n",
       "      <td>https://olympics.com/en/athletes/cooper-woods-...</td>\n",
       "      <td>Cooper WOODS-TOPALOVIC</td>\n",
       "      <td>1</td>\n",
       "      <td>Beijing 2022</td>\n",
       "      <td>2000.0</td>\n",
       "      <td>2022</td>\n",
       "    </tr>\n",
       "    <tr>\n",
       "      <th>1</th>\n",
       "      <td>https://olympics.com/en/athletes/elofsson</td>\n",
       "      <td>Felix ELOFSSON</td>\n",
       "      <td>2</td>\n",
       "      <td>PyeongChang 2018</td>\n",
       "      <td>1995.0</td>\n",
       "      <td>2018</td>\n",
       "    </tr>\n",
       "    <tr>\n",
       "      <th>2</th>\n",
       "      <td>https://olympics.com/en/athletes/dylan-walczyk</td>\n",
       "      <td>Dylan WALCZYK</td>\n",
       "      <td>1</td>\n",
       "      <td>Beijing 2022</td>\n",
       "      <td>1993.0</td>\n",
       "      <td>2022</td>\n",
       "    </tr>\n",
       "    <tr>\n",
       "      <th>3</th>\n",
       "      <td>https://olympics.com/en/athletes/olli-penttala</td>\n",
       "      <td>Olli PENTTALA</td>\n",
       "      <td>1</td>\n",
       "      <td>Beijing 2022</td>\n",
       "      <td>1995.0</td>\n",
       "      <td>2022</td>\n",
       "    </tr>\n",
       "    <tr>\n",
       "      <th>4</th>\n",
       "      <td>https://olympics.com/en/athletes/reikherd</td>\n",
       "      <td>Dmitriy REIKHERD</td>\n",
       "      <td>1</td>\n",
       "      <td>Beijing 2022</td>\n",
       "      <td>1989.0</td>\n",
       "      <td>2022</td>\n",
       "    </tr>\n",
       "  </tbody>\n",
       "</table>\n",
       "</div>"
      ],
      "text/plain": [
       "                                         athlete_url       athlete_full_name  \\\n",
       "0  https://olympics.com/en/athletes/cooper-woods-...  Cooper WOODS-TOPALOVIC   \n",
       "1          https://olympics.com/en/athletes/elofsson          Felix ELOFSSON   \n",
       "2     https://olympics.com/en/athletes/dylan-walczyk           Dylan WALCZYK   \n",
       "3     https://olympics.com/en/athletes/olli-penttala           Olli PENTTALA   \n",
       "4          https://olympics.com/en/athletes/reikherd        Dmitriy REIKHERD   \n",
       "\n",
       "   games_participations        first_game  athlete_year_birth game_year  \n",
       "0                     1      Beijing 2022              2000.0      2022  \n",
       "1                     2  PyeongChang 2018              1995.0      2018  \n",
       "2                     1      Beijing 2022              1993.0      2022  \n",
       "3                     1      Beijing 2022              1995.0      2022  \n",
       "4                     1      Beijing 2022              1989.0      2022  "
      ]
     },
     "execution_count": 16,
     "metadata": {},
     "output_type": "execute_result"
    }
   ],
   "source": [
    "# Add wanted column (game_year)\n",
    "\n",
    "athletes['game_year'] = athletes['first_game'].str.rsplit(' ', 1, expand=True)[1]\n",
    "athletes.head()"
   ]
  },
  {
   "cell_type": "code",
   "execution_count": 17,
   "id": "4dbe00f4-f307-45a9-9dab-f08953520c05",
   "metadata": {
    "tags": []
   },
   "outputs": [
    {
     "data": {
      "text/html": [
       "<div>\n",
       "<style scoped>\n",
       "    .dataframe tbody tr th:only-of-type {\n",
       "        vertical-align: middle;\n",
       "    }\n",
       "\n",
       "    .dataframe tbody tr th {\n",
       "        vertical-align: top;\n",
       "    }\n",
       "\n",
       "    .dataframe thead th {\n",
       "        text-align: right;\n",
       "    }\n",
       "</style>\n",
       "<table border=\"1\" class=\"dataframe\">\n",
       "  <thead>\n",
       "    <tr style=\"text-align: right;\">\n",
       "      <th></th>\n",
       "      <th>athlete_url</th>\n",
       "      <th>athlete_full_name</th>\n",
       "      <th>games_participations</th>\n",
       "      <th>first_game</th>\n",
       "      <th>athlete_year_birth</th>\n",
       "      <th>game_year</th>\n",
       "    </tr>\n",
       "  </thead>\n",
       "  <tbody>\n",
       "    <tr>\n",
       "      <th>0</th>\n",
       "      <td>https://olympics.com/en/athletes/cooper-woods-...</td>\n",
       "      <td>Cooper WOODS-TOPALOVIC</td>\n",
       "      <td>1</td>\n",
       "      <td>Beijing 2022</td>\n",
       "      <td>2000.0</td>\n",
       "      <td>2022.0</td>\n",
       "    </tr>\n",
       "    <tr>\n",
       "      <th>1</th>\n",
       "      <td>https://olympics.com/en/athletes/elofsson</td>\n",
       "      <td>Felix ELOFSSON</td>\n",
       "      <td>2</td>\n",
       "      <td>PyeongChang 2018</td>\n",
       "      <td>1995.0</td>\n",
       "      <td>2018.0</td>\n",
       "    </tr>\n",
       "    <tr>\n",
       "      <th>2</th>\n",
       "      <td>https://olympics.com/en/athletes/dylan-walczyk</td>\n",
       "      <td>Dylan WALCZYK</td>\n",
       "      <td>1</td>\n",
       "      <td>Beijing 2022</td>\n",
       "      <td>1993.0</td>\n",
       "      <td>2022.0</td>\n",
       "    </tr>\n",
       "    <tr>\n",
       "      <th>3</th>\n",
       "      <td>https://olympics.com/en/athletes/olli-penttala</td>\n",
       "      <td>Olli PENTTALA</td>\n",
       "      <td>1</td>\n",
       "      <td>Beijing 2022</td>\n",
       "      <td>1995.0</td>\n",
       "      <td>2022.0</td>\n",
       "    </tr>\n",
       "    <tr>\n",
       "      <th>4</th>\n",
       "      <td>https://olympics.com/en/athletes/reikherd</td>\n",
       "      <td>Dmitriy REIKHERD</td>\n",
       "      <td>1</td>\n",
       "      <td>Beijing 2022</td>\n",
       "      <td>1989.0</td>\n",
       "      <td>2022.0</td>\n",
       "    </tr>\n",
       "  </tbody>\n",
       "</table>\n",
       "</div>"
      ],
      "text/plain": [
       "                                         athlete_url       athlete_full_name  \\\n",
       "0  https://olympics.com/en/athletes/cooper-woods-...  Cooper WOODS-TOPALOVIC   \n",
       "1          https://olympics.com/en/athletes/elofsson          Felix ELOFSSON   \n",
       "2     https://olympics.com/en/athletes/dylan-walczyk           Dylan WALCZYK   \n",
       "3     https://olympics.com/en/athletes/olli-penttala           Olli PENTTALA   \n",
       "4          https://olympics.com/en/athletes/reikherd        Dmitriy REIKHERD   \n",
       "\n",
       "   games_participations        first_game  athlete_year_birth  game_year  \n",
       "0                     1      Beijing 2022              2000.0     2022.0  \n",
       "1                     2  PyeongChang 2018              1995.0     2018.0  \n",
       "2                     1      Beijing 2022              1993.0     2022.0  \n",
       "3                     1      Beijing 2022              1995.0     2022.0  \n",
       "4                     1      Beijing 2022              1989.0     2022.0  "
      ]
     },
     "execution_count": 17,
     "metadata": {},
     "output_type": "execute_result"
    }
   ],
   "source": [
    "# Change the data-type of wanted columns (athlete_year_birth and game_year)\n",
    "\n",
    "athletes['athlete_year_birth'] = pd.to_numeric(athletes['athlete_year_birth'], errors='coerce')\n",
    "athletes['game_year'] = pd.to_numeric(athletes['game_year'], errors='coerce')\n",
    "athletes.head()"
   ]
  },
  {
   "cell_type": "code",
   "execution_count": 18,
   "id": "0e510f04-a057-4872-b6d5-232ff0bdafd7",
   "metadata": {
    "tags": []
   },
   "outputs": [
    {
     "data": {
      "text/html": [
       "<div>\n",
       "<style scoped>\n",
       "    .dataframe tbody tr th:only-of-type {\n",
       "        vertical-align: middle;\n",
       "    }\n",
       "\n",
       "    .dataframe tbody tr th {\n",
       "        vertical-align: top;\n",
       "    }\n",
       "\n",
       "    .dataframe thead th {\n",
       "        text-align: right;\n",
       "    }\n",
       "</style>\n",
       "<table border=\"1\" class=\"dataframe\">\n",
       "  <thead>\n",
       "    <tr style=\"text-align: right;\">\n",
       "      <th></th>\n",
       "      <th>athlete_url</th>\n",
       "      <th>athlete_full_name</th>\n",
       "      <th>games_participations</th>\n",
       "      <th>first_game</th>\n",
       "      <th>athlete_year_birth</th>\n",
       "      <th>game_year</th>\n",
       "      <th>age</th>\n",
       "    </tr>\n",
       "  </thead>\n",
       "  <tbody>\n",
       "    <tr>\n",
       "      <th>0</th>\n",
       "      <td>https://olympics.com/en/athletes/cooper-woods-...</td>\n",
       "      <td>Cooper WOODS-TOPALOVIC</td>\n",
       "      <td>1</td>\n",
       "      <td>Beijing 2022</td>\n",
       "      <td>2000.0</td>\n",
       "      <td>2022.0</td>\n",
       "      <td>22.0</td>\n",
       "    </tr>\n",
       "    <tr>\n",
       "      <th>1</th>\n",
       "      <td>https://olympics.com/en/athletes/elofsson</td>\n",
       "      <td>Felix ELOFSSON</td>\n",
       "      <td>2</td>\n",
       "      <td>PyeongChang 2018</td>\n",
       "      <td>1995.0</td>\n",
       "      <td>2018.0</td>\n",
       "      <td>23.0</td>\n",
       "    </tr>\n",
       "    <tr>\n",
       "      <th>2</th>\n",
       "      <td>https://olympics.com/en/athletes/dylan-walczyk</td>\n",
       "      <td>Dylan WALCZYK</td>\n",
       "      <td>1</td>\n",
       "      <td>Beijing 2022</td>\n",
       "      <td>1993.0</td>\n",
       "      <td>2022.0</td>\n",
       "      <td>29.0</td>\n",
       "    </tr>\n",
       "    <tr>\n",
       "      <th>3</th>\n",
       "      <td>https://olympics.com/en/athletes/olli-penttala</td>\n",
       "      <td>Olli PENTTALA</td>\n",
       "      <td>1</td>\n",
       "      <td>Beijing 2022</td>\n",
       "      <td>1995.0</td>\n",
       "      <td>2022.0</td>\n",
       "      <td>27.0</td>\n",
       "    </tr>\n",
       "    <tr>\n",
       "      <th>4</th>\n",
       "      <td>https://olympics.com/en/athletes/reikherd</td>\n",
       "      <td>Dmitriy REIKHERD</td>\n",
       "      <td>1</td>\n",
       "      <td>Beijing 2022</td>\n",
       "      <td>1989.0</td>\n",
       "      <td>2022.0</td>\n",
       "      <td>33.0</td>\n",
       "    </tr>\n",
       "  </tbody>\n",
       "</table>\n",
       "</div>"
      ],
      "text/plain": [
       "                                         athlete_url       athlete_full_name  \\\n",
       "0  https://olympics.com/en/athletes/cooper-woods-...  Cooper WOODS-TOPALOVIC   \n",
       "1          https://olympics.com/en/athletes/elofsson          Felix ELOFSSON   \n",
       "2     https://olympics.com/en/athletes/dylan-walczyk           Dylan WALCZYK   \n",
       "3     https://olympics.com/en/athletes/olli-penttala           Olli PENTTALA   \n",
       "4          https://olympics.com/en/athletes/reikherd        Dmitriy REIKHERD   \n",
       "\n",
       "   games_participations        first_game  athlete_year_birth  game_year   age  \n",
       "0                     1      Beijing 2022              2000.0     2022.0  22.0  \n",
       "1                     2  PyeongChang 2018              1995.0     2018.0  23.0  \n",
       "2                     1      Beijing 2022              1993.0     2022.0  29.0  \n",
       "3                     1      Beijing 2022              1995.0     2022.0  27.0  \n",
       "4                     1      Beijing 2022              1989.0     2022.0  33.0  "
      ]
     },
     "execution_count": 18,
     "metadata": {},
     "output_type": "execute_result"
    }
   ],
   "source": [
    "# Add new wanted column (age)\n",
    "\n",
    "athletes['age'] = athletes['game_year'] - athletes['athlete_year_birth']\n",
    "athletes.head()"
   ]
  },
  {
   "cell_type": "code",
   "execution_count": null,
   "id": "13cbed28-7615-4817-8138-ccc7c2fc8290",
   "metadata": {},
   "outputs": [],
   "source": []
  },
  {
   "cell_type": "markdown",
   "id": "2fba6556-3d36-49f5-8e59-feaf80987a6c",
   "metadata": {},
   "source": [
    "![green-divider](https://user-images.githubusercontent.com/7065401/52071924-c003ad80-2562-11e9-8297-1c6595f8a7ff.png)"
   ]
  },
  {
   "cell_type": "markdown",
   "id": "c85b608d-b9f3-42c2-ae84-f27362691560",
   "metadata": {
    "jp-MarkdownHeadingCollapsed": true,
    "tags": []
   },
   "source": [
    "## For Hosts"
   ]
  },
  {
   "cell_type": "code",
   "execution_count": 19,
   "id": "5be245e6-db2a-4f60-abc5-dc1631b45d67",
   "metadata": {
    "tags": []
   },
   "outputs": [
    {
     "data": {
      "text/html": [
       "<div>\n",
       "<style scoped>\n",
       "    .dataframe tbody tr th:only-of-type {\n",
       "        vertical-align: middle;\n",
       "    }\n",
       "\n",
       "    .dataframe tbody tr th {\n",
       "        vertical-align: top;\n",
       "    }\n",
       "\n",
       "    .dataframe thead th {\n",
       "        text-align: right;\n",
       "    }\n",
       "</style>\n",
       "<table border=\"1\" class=\"dataframe\">\n",
       "  <thead>\n",
       "    <tr style=\"text-align: right;\">\n",
       "      <th></th>\n",
       "      <th>game_slug</th>\n",
       "      <th>game_end_date</th>\n",
       "      <th>game_start_date</th>\n",
       "      <th>game_location</th>\n",
       "      <th>game_name</th>\n",
       "      <th>game_season</th>\n",
       "      <th>game_year</th>\n",
       "    </tr>\n",
       "  </thead>\n",
       "  <tbody>\n",
       "    <tr>\n",
       "      <th>0</th>\n",
       "      <td>beijing-2022</td>\n",
       "      <td>2022-02-20 12:00:00+00:00</td>\n",
       "      <td>2022-02-04 15:00:00+00:00</td>\n",
       "      <td>China</td>\n",
       "      <td>Beijing 2022</td>\n",
       "      <td>Winter</td>\n",
       "      <td>2022</td>\n",
       "    </tr>\n",
       "    <tr>\n",
       "      <th>1</th>\n",
       "      <td>tokyo-2020</td>\n",
       "      <td>2021-08-08 14:00:00+00:00</td>\n",
       "      <td>2021-07-23 11:00:00+00:00</td>\n",
       "      <td>Japan</td>\n",
       "      <td>Tokyo 2020</td>\n",
       "      <td>Summer</td>\n",
       "      <td>2020</td>\n",
       "    </tr>\n",
       "    <tr>\n",
       "      <th>2</th>\n",
       "      <td>pyeongchang-2018</td>\n",
       "      <td>2018-02-25 08:00:00+00:00</td>\n",
       "      <td>2018-02-08 23:00:00+00:00</td>\n",
       "      <td>Republic of Korea</td>\n",
       "      <td>PyeongChang 2018</td>\n",
       "      <td>Winter</td>\n",
       "      <td>2018</td>\n",
       "    </tr>\n",
       "    <tr>\n",
       "      <th>3</th>\n",
       "      <td>rio-2016</td>\n",
       "      <td>2016-08-21 21:00:00+00:00</td>\n",
       "      <td>2016-08-05 12:00:00+00:00</td>\n",
       "      <td>Brazil</td>\n",
       "      <td>Rio 2016</td>\n",
       "      <td>Summer</td>\n",
       "      <td>2016</td>\n",
       "    </tr>\n",
       "    <tr>\n",
       "      <th>4</th>\n",
       "      <td>sochi-2014</td>\n",
       "      <td>2014-02-23 16:00:00+00:00</td>\n",
       "      <td>2014-02-07 04:00:00+00:00</td>\n",
       "      <td>Russian Federation</td>\n",
       "      <td>Sochi 2014</td>\n",
       "      <td>Winter</td>\n",
       "      <td>2014</td>\n",
       "    </tr>\n",
       "  </tbody>\n",
       "</table>\n",
       "</div>"
      ],
      "text/plain": [
       "          game_slug             game_end_date           game_start_date  \\\n",
       "0      beijing-2022 2022-02-20 12:00:00+00:00 2022-02-04 15:00:00+00:00   \n",
       "1        tokyo-2020 2021-08-08 14:00:00+00:00 2021-07-23 11:00:00+00:00   \n",
       "2  pyeongchang-2018 2018-02-25 08:00:00+00:00 2018-02-08 23:00:00+00:00   \n",
       "3          rio-2016 2016-08-21 21:00:00+00:00 2016-08-05 12:00:00+00:00   \n",
       "4        sochi-2014 2014-02-23 16:00:00+00:00 2014-02-07 04:00:00+00:00   \n",
       "\n",
       "        game_location         game_name game_season  game_year  \n",
       "0               China      Beijing 2022      Winter       2022  \n",
       "1               Japan        Tokyo 2020      Summer       2020  \n",
       "2   Republic of Korea  PyeongChang 2018      Winter       2018  \n",
       "3              Brazil          Rio 2016      Summer       2016  \n",
       "4  Russian Federation        Sochi 2014      Winter       2014  "
      ]
     },
     "execution_count": 19,
     "metadata": {},
     "output_type": "execute_result"
    }
   ],
   "source": [
    "# Reimport Hosts dataframe to set datetime datatype for game_end_date and game_start_date column\n",
    "\n",
    "hosts = pd.read_csv('olympic_hosts.csv', parse_dates = ['game_end_date', 'game_start_date'])\n",
    "hosts.head()"
   ]
  },
  {
   "cell_type": "code",
   "execution_count": 20,
   "id": "c21a8422-95f5-42b3-ba6a-1a42a6dfed3a",
   "metadata": {
    "tags": []
   },
   "outputs": [
    {
     "data": {
      "text/html": [
       "<div>\n",
       "<style scoped>\n",
       "    .dataframe tbody tr th:only-of-type {\n",
       "        vertical-align: middle;\n",
       "    }\n",
       "\n",
       "    .dataframe tbody tr th {\n",
       "        vertical-align: top;\n",
       "    }\n",
       "\n",
       "    .dataframe thead th {\n",
       "        text-align: right;\n",
       "    }\n",
       "</style>\n",
       "<table border=\"1\" class=\"dataframe\">\n",
       "  <thead>\n",
       "    <tr style=\"text-align: right;\">\n",
       "      <th></th>\n",
       "      <th>game_slug</th>\n",
       "      <th>game_end_date</th>\n",
       "      <th>game_start_date</th>\n",
       "      <th>game_location</th>\n",
       "      <th>game_name</th>\n",
       "      <th>game_season</th>\n",
       "      <th>game_year</th>\n",
       "    </tr>\n",
       "  </thead>\n",
       "  <tbody>\n",
       "  </tbody>\n",
       "</table>\n",
       "</div>"
      ],
      "text/plain": [
       "Empty DataFrame\n",
       "Columns: [game_slug, game_end_date, game_start_date, game_location, game_name, game_season, game_year]\n",
       "Index: []"
      ]
     },
     "execution_count": 20,
     "metadata": {},
     "output_type": "execute_result"
    }
   ],
   "source": [
    "# Identifying dulicates in the hosts dataframe\n",
    "# No duplicates\n",
    "\n",
    "hosts[hosts.duplicated()]"
   ]
  },
  {
   "cell_type": "code",
   "execution_count": 21,
   "id": "efb9e20e-4e97-4fe1-80d4-b771525a9634",
   "metadata": {
    "tags": []
   },
   "outputs": [
    {
     "name": "stdout",
     "output_type": "stream",
     "text": [
      "<class 'pandas.core.frame.DataFrame'>\n",
      "RangeIndex: 53 entries, 0 to 52\n",
      "Data columns (total 7 columns):\n",
      " #   Column           Non-Null Count  Dtype              \n",
      "---  ------           --------------  -----              \n",
      " 0   game_slug        53 non-null     object             \n",
      " 1   game_end_date    53 non-null     datetime64[ns, UTC]\n",
      " 2   game_start_date  53 non-null     datetime64[ns, UTC]\n",
      " 3   game_location    53 non-null     object             \n",
      " 4   game_name        53 non-null     object             \n",
      " 5   game_season      53 non-null     object             \n",
      " 6   game_year        53 non-null     int64              \n",
      "dtypes: datetime64[ns, UTC](2), int64(1), object(4)\n",
      "memory usage: 3.0+ KB\n"
     ]
    }
   ],
   "source": [
    "hosts.info()"
   ]
  },
  {
   "cell_type": "code",
   "execution_count": 22,
   "id": "23d74c98-c78e-49a0-9711-9df2bdb6bafc",
   "metadata": {
    "tags": []
   },
   "outputs": [
    {
     "data": {
      "text/html": [
       "<div>\n",
       "<style scoped>\n",
       "    .dataframe tbody tr th:only-of-type {\n",
       "        vertical-align: middle;\n",
       "    }\n",
       "\n",
       "    .dataframe tbody tr th {\n",
       "        vertical-align: top;\n",
       "    }\n",
       "\n",
       "    .dataframe thead th {\n",
       "        text-align: right;\n",
       "    }\n",
       "</style>\n",
       "<table border=\"1\" class=\"dataframe\">\n",
       "  <thead>\n",
       "    <tr style=\"text-align: right;\">\n",
       "      <th></th>\n",
       "      <th>game_slug</th>\n",
       "      <th>game_end_date</th>\n",
       "      <th>game_start_date</th>\n",
       "      <th>game_location</th>\n",
       "      <th>game_name</th>\n",
       "      <th>game_season</th>\n",
       "      <th>game_year</th>\n",
       "      <th>duration</th>\n",
       "    </tr>\n",
       "  </thead>\n",
       "  <tbody>\n",
       "    <tr>\n",
       "      <th>0</th>\n",
       "      <td>beijing-2022</td>\n",
       "      <td>2022-02-20 12:00:00+00:00</td>\n",
       "      <td>2022-02-04 15:00:00+00:00</td>\n",
       "      <td>China</td>\n",
       "      <td>Beijing 2022</td>\n",
       "      <td>Winter</td>\n",
       "      <td>2022</td>\n",
       "      <td>15 days 21:00:00</td>\n",
       "    </tr>\n",
       "    <tr>\n",
       "      <th>1</th>\n",
       "      <td>tokyo-2020</td>\n",
       "      <td>2021-08-08 14:00:00+00:00</td>\n",
       "      <td>2021-07-23 11:00:00+00:00</td>\n",
       "      <td>Japan</td>\n",
       "      <td>Tokyo 2020</td>\n",
       "      <td>Summer</td>\n",
       "      <td>2020</td>\n",
       "      <td>16 days 03:00:00</td>\n",
       "    </tr>\n",
       "    <tr>\n",
       "      <th>2</th>\n",
       "      <td>pyeongchang-2018</td>\n",
       "      <td>2018-02-25 08:00:00+00:00</td>\n",
       "      <td>2018-02-08 23:00:00+00:00</td>\n",
       "      <td>Republic of Korea</td>\n",
       "      <td>PyeongChang 2018</td>\n",
       "      <td>Winter</td>\n",
       "      <td>2018</td>\n",
       "      <td>16 days 09:00:00</td>\n",
       "    </tr>\n",
       "    <tr>\n",
       "      <th>3</th>\n",
       "      <td>rio-2016</td>\n",
       "      <td>2016-08-21 21:00:00+00:00</td>\n",
       "      <td>2016-08-05 12:00:00+00:00</td>\n",
       "      <td>Brazil</td>\n",
       "      <td>Rio 2016</td>\n",
       "      <td>Summer</td>\n",
       "      <td>2016</td>\n",
       "      <td>16 days 09:00:00</td>\n",
       "    </tr>\n",
       "    <tr>\n",
       "      <th>4</th>\n",
       "      <td>sochi-2014</td>\n",
       "      <td>2014-02-23 16:00:00+00:00</td>\n",
       "      <td>2014-02-07 04:00:00+00:00</td>\n",
       "      <td>Russian Federation</td>\n",
       "      <td>Sochi 2014</td>\n",
       "      <td>Winter</td>\n",
       "      <td>2014</td>\n",
       "      <td>16 days 12:00:00</td>\n",
       "    </tr>\n",
       "  </tbody>\n",
       "</table>\n",
       "</div>"
      ],
      "text/plain": [
       "          game_slug             game_end_date           game_start_date  \\\n",
       "0      beijing-2022 2022-02-20 12:00:00+00:00 2022-02-04 15:00:00+00:00   \n",
       "1        tokyo-2020 2021-08-08 14:00:00+00:00 2021-07-23 11:00:00+00:00   \n",
       "2  pyeongchang-2018 2018-02-25 08:00:00+00:00 2018-02-08 23:00:00+00:00   \n",
       "3          rio-2016 2016-08-21 21:00:00+00:00 2016-08-05 12:00:00+00:00   \n",
       "4        sochi-2014 2014-02-23 16:00:00+00:00 2014-02-07 04:00:00+00:00   \n",
       "\n",
       "        game_location         game_name game_season  game_year  \\\n",
       "0               China      Beijing 2022      Winter       2022   \n",
       "1               Japan        Tokyo 2020      Summer       2020   \n",
       "2   Republic of Korea  PyeongChang 2018      Winter       2018   \n",
       "3              Brazil          Rio 2016      Summer       2016   \n",
       "4  Russian Federation        Sochi 2014      Winter       2014   \n",
       "\n",
       "          duration  \n",
       "0 15 days 21:00:00  \n",
       "1 16 days 03:00:00  \n",
       "2 16 days 09:00:00  \n",
       "3 16 days 09:00:00  \n",
       "4 16 days 12:00:00  "
      ]
     },
     "execution_count": 22,
     "metadata": {},
     "output_type": "execute_result"
    }
   ],
   "source": [
    "# Add wanted column (event_duration)\n",
    "\n",
    "hosts['duration'] = hosts['game_end_date'] - hosts['game_start_date']\n",
    "hosts.head()"
   ]
  },
  {
   "cell_type": "code",
   "execution_count": 23,
   "id": "d4c49317-779c-475f-b8e4-eab4a0bca7fc",
   "metadata": {
    "tags": []
   },
   "outputs": [
    {
     "data": {
      "text/plain": [
       "array(['China', 'Japan', 'Republic of Korea', 'Brazil',\n",
       "       'Russian Federation', 'Great Britain', 'Canada', 'Italy', 'Greece',\n",
       "       'United States', 'Australia', 'Norway', 'Spain', 'France',\n",
       "       'Yugoslavia', 'USSR', 'Austria', 'Federal Republic of Germany',\n",
       "       'Mexico', 'Australia, Sweden', 'Finland', 'Switzerland', 'Germany',\n",
       "       'Netherlands', 'Belgium', 'Sweden'], dtype=object)"
      ]
     },
     "execution_count": 23,
     "metadata": {},
     "output_type": "execute_result"
    }
   ],
   "source": [
    "hosts['game_location'].unique()"
   ]
  },
  {
   "cell_type": "code",
   "execution_count": 24,
   "id": "19e3269e-b27f-433c-8d1f-1a283c88ea66",
   "metadata": {
    "tags": []
   },
   "outputs": [
    {
     "data": {
      "text/plain": [
       "array(['China', 'Japan', 'Republic of Korea', 'Brazil',\n",
       "       'Russian Federation', 'Great Britain', 'Canada', 'Italy', 'Greece',\n",
       "       'United States', 'Australia', 'Norway', 'Spain', 'France',\n",
       "       'Yugoslavia', 'USSR', 'Austria', 'Federal Republic of Germany',\n",
       "       'Mexico', 'Australia and Sweden', 'Finland', 'Switzerland',\n",
       "       'Germany', 'Netherlands', 'Belgium', 'Sweden'], dtype=object)"
      ]
     },
     "execution_count": 24,
     "metadata": {},
     "output_type": "execute_result"
    }
   ],
   "source": [
    "# Replace unwanted characters (Australia, Sweden to Australia and Sweden)\n",
    "\n",
    "hosts['game_location'] = hosts['game_location'].str.replace('Australia, Sweden', 'Australia and Sweden')\n",
    "hosts['game_location'].unique()"
   ]
  },
  {
   "cell_type": "code",
   "execution_count": null,
   "id": "7f4cda71-dd53-423c-9624-526a8820ab0b",
   "metadata": {},
   "outputs": [],
   "source": []
  },
  {
   "cell_type": "markdown",
   "id": "58758cb8-7707-4442-9605-603c0fc0f8c5",
   "metadata": {},
   "source": [
    "![green-divider](https://user-images.githubusercontent.com/7065401/52071924-c003ad80-2562-11e9-8297-1c6595f8a7ff.png)"
   ]
  },
  {
   "cell_type": "markdown",
   "id": "e68fc169-a1b3-45fc-ac32-57dad3ab2c40",
   "metadata": {
    "jp-MarkdownHeadingCollapsed": true,
    "tags": []
   },
   "source": [
    "## For Medals"
   ]
  },
  {
   "cell_type": "code",
   "execution_count": 25,
   "id": "37636ac6-6d87-47d3-b16e-354d7f54c8de",
   "metadata": {
    "tags": []
   },
   "outputs": [
    {
     "data": {
      "text/html": [
       "<div>\n",
       "<style scoped>\n",
       "    .dataframe tbody tr th:only-of-type {\n",
       "        vertical-align: middle;\n",
       "    }\n",
       "\n",
       "    .dataframe tbody tr th {\n",
       "        vertical-align: top;\n",
       "    }\n",
       "\n",
       "    .dataframe thead th {\n",
       "        text-align: right;\n",
       "    }\n",
       "</style>\n",
       "<table border=\"1\" class=\"dataframe\">\n",
       "  <thead>\n",
       "    <tr style=\"text-align: right;\">\n",
       "      <th></th>\n",
       "      <th>discipline_title</th>\n",
       "      <th>slug_game</th>\n",
       "      <th>event_title</th>\n",
       "      <th>event_gender</th>\n",
       "      <th>medal_type</th>\n",
       "      <th>participant_type</th>\n",
       "      <th>participant_title</th>\n",
       "      <th>athlete_url</th>\n",
       "      <th>athlete_full_name</th>\n",
       "      <th>country_name</th>\n",
       "      <th>country_code</th>\n",
       "      <th>country_3_letter_code</th>\n",
       "    </tr>\n",
       "  </thead>\n",
       "  <tbody>\n",
       "    <tr>\n",
       "      <th>0</th>\n",
       "      <td>Curling</td>\n",
       "      <td>beijing-2022</td>\n",
       "      <td>Mixed Doubles</td>\n",
       "      <td>Mixed</td>\n",
       "      <td>GOLD</td>\n",
       "      <td>GameTeam</td>\n",
       "      <td>Italy</td>\n",
       "      <td>https://olympics.com/en/athletes/stefania-cons...</td>\n",
       "      <td>Stefania CONSTANTINI</td>\n",
       "      <td>Italy</td>\n",
       "      <td>IT</td>\n",
       "      <td>ITA</td>\n",
       "    </tr>\n",
       "    <tr>\n",
       "      <th>1</th>\n",
       "      <td>Curling</td>\n",
       "      <td>beijing-2022</td>\n",
       "      <td>Mixed Doubles</td>\n",
       "      <td>Mixed</td>\n",
       "      <td>GOLD</td>\n",
       "      <td>GameTeam</td>\n",
       "      <td>Italy</td>\n",
       "      <td>https://olympics.com/en/athletes/amos-mosaner</td>\n",
       "      <td>Amos MOSANER</td>\n",
       "      <td>Italy</td>\n",
       "      <td>IT</td>\n",
       "      <td>ITA</td>\n",
       "    </tr>\n",
       "    <tr>\n",
       "      <th>2</th>\n",
       "      <td>Curling</td>\n",
       "      <td>beijing-2022</td>\n",
       "      <td>Mixed Doubles</td>\n",
       "      <td>Mixed</td>\n",
       "      <td>SILVER</td>\n",
       "      <td>GameTeam</td>\n",
       "      <td>Norway</td>\n",
       "      <td>https://olympics.com/en/athletes/kristin-skaslien</td>\n",
       "      <td>Kristin SKASLIEN</td>\n",
       "      <td>Norway</td>\n",
       "      <td>NO</td>\n",
       "      <td>NOR</td>\n",
       "    </tr>\n",
       "    <tr>\n",
       "      <th>3</th>\n",
       "      <td>Curling</td>\n",
       "      <td>beijing-2022</td>\n",
       "      <td>Mixed Doubles</td>\n",
       "      <td>Mixed</td>\n",
       "      <td>SILVER</td>\n",
       "      <td>GameTeam</td>\n",
       "      <td>Norway</td>\n",
       "      <td>https://olympics.com/en/athletes/magnus-nedreg...</td>\n",
       "      <td>Magnus NEDREGOTTEN</td>\n",
       "      <td>Norway</td>\n",
       "      <td>NO</td>\n",
       "      <td>NOR</td>\n",
       "    </tr>\n",
       "    <tr>\n",
       "      <th>4</th>\n",
       "      <td>Curling</td>\n",
       "      <td>beijing-2022</td>\n",
       "      <td>Mixed Doubles</td>\n",
       "      <td>Mixed</td>\n",
       "      <td>BRONZE</td>\n",
       "      <td>GameTeam</td>\n",
       "      <td>Sweden</td>\n",
       "      <td>https://olympics.com/en/athletes/almida-de-val</td>\n",
       "      <td>Almida DE VAL</td>\n",
       "      <td>Sweden</td>\n",
       "      <td>SE</td>\n",
       "      <td>SWE</td>\n",
       "    </tr>\n",
       "  </tbody>\n",
       "</table>\n",
       "</div>"
      ],
      "text/plain": [
       "  discipline_title     slug_game    event_title event_gender medal_type  \\\n",
       "0          Curling  beijing-2022  Mixed Doubles        Mixed       GOLD   \n",
       "1          Curling  beijing-2022  Mixed Doubles        Mixed       GOLD   \n",
       "2          Curling  beijing-2022  Mixed Doubles        Mixed     SILVER   \n",
       "3          Curling  beijing-2022  Mixed Doubles        Mixed     SILVER   \n",
       "4          Curling  beijing-2022  Mixed Doubles        Mixed     BRONZE   \n",
       "\n",
       "  participant_type participant_title  \\\n",
       "0         GameTeam             Italy   \n",
       "1         GameTeam             Italy   \n",
       "2         GameTeam            Norway   \n",
       "3         GameTeam            Norway   \n",
       "4         GameTeam            Sweden   \n",
       "\n",
       "                                         athlete_url     athlete_full_name  \\\n",
       "0  https://olympics.com/en/athletes/stefania-cons...  Stefania CONSTANTINI   \n",
       "1      https://olympics.com/en/athletes/amos-mosaner          Amos MOSANER   \n",
       "2  https://olympics.com/en/athletes/kristin-skaslien      Kristin SKASLIEN   \n",
       "3  https://olympics.com/en/athletes/magnus-nedreg...    Magnus NEDREGOTTEN   \n",
       "4     https://olympics.com/en/athletes/almida-de-val         Almida DE VAL   \n",
       "\n",
       "  country_name country_code country_3_letter_code  \n",
       "0        Italy           IT                   ITA  \n",
       "1        Italy           IT                   ITA  \n",
       "2       Norway           NO                   NOR  \n",
       "3       Norway           NO                   NOR  \n",
       "4       Sweden           SE                   SWE  "
      ]
     },
     "execution_count": 25,
     "metadata": {},
     "output_type": "execute_result"
    }
   ],
   "source": [
    "medals.head()"
   ]
  },
  {
   "cell_type": "code",
   "execution_count": 26,
   "id": "b4357554-e1f6-46df-8dd6-a83fc50498c1",
   "metadata": {
    "tags": []
   },
   "outputs": [
    {
     "data": {
      "text/html": [
       "<div>\n",
       "<style scoped>\n",
       "    .dataframe tbody tr th:only-of-type {\n",
       "        vertical-align: middle;\n",
       "    }\n",
       "\n",
       "    .dataframe tbody tr th {\n",
       "        vertical-align: top;\n",
       "    }\n",
       "\n",
       "    .dataframe thead th {\n",
       "        text-align: right;\n",
       "    }\n",
       "</style>\n",
       "<table border=\"1\" class=\"dataframe\">\n",
       "  <thead>\n",
       "    <tr style=\"text-align: right;\">\n",
       "      <th></th>\n",
       "      <th>discipline_title</th>\n",
       "      <th>slug_game</th>\n",
       "      <th>event_title</th>\n",
       "      <th>event_gender</th>\n",
       "      <th>medal_type</th>\n",
       "      <th>participant_type</th>\n",
       "      <th>participant_title</th>\n",
       "      <th>athlete_url</th>\n",
       "      <th>athlete_full_name</th>\n",
       "      <th>country_name</th>\n",
       "      <th>country_code</th>\n",
       "      <th>country_3_letter_code</th>\n",
       "    </tr>\n",
       "  </thead>\n",
       "  <tbody>\n",
       "  </tbody>\n",
       "</table>\n",
       "</div>"
      ],
      "text/plain": [
       "Empty DataFrame\n",
       "Columns: [discipline_title, slug_game, event_title, event_gender, medal_type, participant_type, participant_title, athlete_url, athlete_full_name, country_name, country_code, country_3_letter_code]\n",
       "Index: []"
      ]
     },
     "execution_count": 26,
     "metadata": {},
     "output_type": "execute_result"
    }
   ],
   "source": [
    "# Identifying dulicates in the medals dataframe\n",
    "# No duplicates\n",
    "\n",
    "medals[medals.duplicated()]"
   ]
  },
  {
   "cell_type": "code",
   "execution_count": 27,
   "id": "11fa19d7-9c26-4929-9aab-305cf7688dbe",
   "metadata": {
    "tags": []
   },
   "outputs": [
    {
     "name": "stdout",
     "output_type": "stream",
     "text": [
      "<class 'pandas.core.frame.DataFrame'>\n",
      "RangeIndex: 21697 entries, 0 to 21696\n",
      "Data columns (total 12 columns):\n",
      " #   Column                 Non-Null Count  Dtype \n",
      "---  ------                 --------------  ----- \n",
      " 0   discipline_title       21697 non-null  object\n",
      " 1   slug_game              21697 non-null  object\n",
      " 2   event_title            21697 non-null  object\n",
      " 3   event_gender           21697 non-null  object\n",
      " 4   medal_type             21697 non-null  object\n",
      " 5   participant_type       21697 non-null  object\n",
      " 6   participant_title      6584 non-null   object\n",
      " 7   athlete_url            17027 non-null  object\n",
      " 8   athlete_full_name      18073 non-null  object\n",
      " 9   country_name           21697 non-null  object\n",
      " 10  country_code           20195 non-null  object\n",
      " 11  country_3_letter_code  21697 non-null  object\n",
      "dtypes: object(12)\n",
      "memory usage: 2.0+ MB\n"
     ]
    }
   ],
   "source": [
    "medals.info()"
   ]
  },
  {
   "cell_type": "code",
   "execution_count": 28,
   "id": "fc32ebe9-d489-43e1-8b25-f6cafb218244",
   "metadata": {
    "tags": []
   },
   "outputs": [
    {
     "data": {
      "text/html": [
       "<div>\n",
       "<style scoped>\n",
       "    .dataframe tbody tr th:only-of-type {\n",
       "        vertical-align: middle;\n",
       "    }\n",
       "\n",
       "    .dataframe tbody tr th {\n",
       "        vertical-align: top;\n",
       "    }\n",
       "\n",
       "    .dataframe thead th {\n",
       "        text-align: right;\n",
       "    }\n",
       "</style>\n",
       "<table border=\"1\" class=\"dataframe\">\n",
       "  <thead>\n",
       "    <tr style=\"text-align: right;\">\n",
       "      <th></th>\n",
       "      <th>discipline_title</th>\n",
       "      <th>slug_game</th>\n",
       "      <th>event_title</th>\n",
       "      <th>event_gender</th>\n",
       "      <th>medal_type</th>\n",
       "      <th>participant_type</th>\n",
       "      <th>athlete_url</th>\n",
       "      <th>athlete_full_name</th>\n",
       "      <th>country_name</th>\n",
       "    </tr>\n",
       "  </thead>\n",
       "  <tbody>\n",
       "    <tr>\n",
       "      <th>0</th>\n",
       "      <td>Curling</td>\n",
       "      <td>beijing-2022</td>\n",
       "      <td>Mixed Doubles</td>\n",
       "      <td>Mixed</td>\n",
       "      <td>GOLD</td>\n",
       "      <td>GameTeam</td>\n",
       "      <td>https://olympics.com/en/athletes/stefania-cons...</td>\n",
       "      <td>Stefania CONSTANTINI</td>\n",
       "      <td>Italy</td>\n",
       "    </tr>\n",
       "    <tr>\n",
       "      <th>1</th>\n",
       "      <td>Curling</td>\n",
       "      <td>beijing-2022</td>\n",
       "      <td>Mixed Doubles</td>\n",
       "      <td>Mixed</td>\n",
       "      <td>GOLD</td>\n",
       "      <td>GameTeam</td>\n",
       "      <td>https://olympics.com/en/athletes/amos-mosaner</td>\n",
       "      <td>Amos MOSANER</td>\n",
       "      <td>Italy</td>\n",
       "    </tr>\n",
       "    <tr>\n",
       "      <th>2</th>\n",
       "      <td>Curling</td>\n",
       "      <td>beijing-2022</td>\n",
       "      <td>Mixed Doubles</td>\n",
       "      <td>Mixed</td>\n",
       "      <td>SILVER</td>\n",
       "      <td>GameTeam</td>\n",
       "      <td>https://olympics.com/en/athletes/kristin-skaslien</td>\n",
       "      <td>Kristin SKASLIEN</td>\n",
       "      <td>Norway</td>\n",
       "    </tr>\n",
       "    <tr>\n",
       "      <th>3</th>\n",
       "      <td>Curling</td>\n",
       "      <td>beijing-2022</td>\n",
       "      <td>Mixed Doubles</td>\n",
       "      <td>Mixed</td>\n",
       "      <td>SILVER</td>\n",
       "      <td>GameTeam</td>\n",
       "      <td>https://olympics.com/en/athletes/magnus-nedreg...</td>\n",
       "      <td>Magnus NEDREGOTTEN</td>\n",
       "      <td>Norway</td>\n",
       "    </tr>\n",
       "    <tr>\n",
       "      <th>4</th>\n",
       "      <td>Curling</td>\n",
       "      <td>beijing-2022</td>\n",
       "      <td>Mixed Doubles</td>\n",
       "      <td>Mixed</td>\n",
       "      <td>BRONZE</td>\n",
       "      <td>GameTeam</td>\n",
       "      <td>https://olympics.com/en/athletes/almida-de-val</td>\n",
       "      <td>Almida DE VAL</td>\n",
       "      <td>Sweden</td>\n",
       "    </tr>\n",
       "  </tbody>\n",
       "</table>\n",
       "</div>"
      ],
      "text/plain": [
       "  discipline_title     slug_game    event_title event_gender medal_type  \\\n",
       "0          Curling  beijing-2022  Mixed Doubles        Mixed       GOLD   \n",
       "1          Curling  beijing-2022  Mixed Doubles        Mixed       GOLD   \n",
       "2          Curling  beijing-2022  Mixed Doubles        Mixed     SILVER   \n",
       "3          Curling  beijing-2022  Mixed Doubles        Mixed     SILVER   \n",
       "4          Curling  beijing-2022  Mixed Doubles        Mixed     BRONZE   \n",
       "\n",
       "  participant_type                                        athlete_url  \\\n",
       "0         GameTeam  https://olympics.com/en/athletes/stefania-cons...   \n",
       "1         GameTeam      https://olympics.com/en/athletes/amos-mosaner   \n",
       "2         GameTeam  https://olympics.com/en/athletes/kristin-skaslien   \n",
       "3         GameTeam  https://olympics.com/en/athletes/magnus-nedreg...   \n",
       "4         GameTeam     https://olympics.com/en/athletes/almida-de-val   \n",
       "\n",
       "      athlete_full_name country_name  \n",
       "0  Stefania CONSTANTINI        Italy  \n",
       "1          Amos MOSANER        Italy  \n",
       "2      Kristin SKASLIEN       Norway  \n",
       "3    Magnus NEDREGOTTEN       Norway  \n",
       "4         Almida DE VAL       Sweden  "
      ]
     },
     "execution_count": 28,
     "metadata": {},
     "output_type": "execute_result"
    }
   ],
   "source": [
    "# Drop unwanted columns (participant_title, country_code, and country_3_letter_code)\n",
    "\n",
    "medals.drop(columns = ['participant_title', 'country_code', 'country_3_letter_code'], inplace = True)\n",
    "medals.head()"
   ]
  },
  {
   "cell_type": "code",
   "execution_count": 29,
   "id": "b61ac5c4-7197-4da4-aba1-b628552e966e",
   "metadata": {
    "tags": []
   },
   "outputs": [
    {
     "name": "stdout",
     "output_type": "stream",
     "text": [
      "<class 'pandas.core.frame.DataFrame'>\n",
      "RangeIndex: 21697 entries, 0 to 21696\n",
      "Data columns (total 9 columns):\n",
      " #   Column             Non-Null Count  Dtype \n",
      "---  ------             --------------  ----- \n",
      " 0   discipline_title   21697 non-null  object\n",
      " 1   slug_game          21697 non-null  object\n",
      " 2   event_title        21697 non-null  object\n",
      " 3   event_gender       21697 non-null  object\n",
      " 4   medal_type         21697 non-null  object\n",
      " 5   participant_type   21697 non-null  object\n",
      " 6   athlete_url        17027 non-null  object\n",
      " 7   athlete_full_name  18073 non-null  object\n",
      " 8   country_name       21697 non-null  object\n",
      "dtypes: object(9)\n",
      "memory usage: 1.5+ MB\n"
     ]
    }
   ],
   "source": [
    "medals.info()"
   ]
  },
  {
   "cell_type": "code",
   "execution_count": null,
   "id": "53ebe76f-6acc-4ca1-b1f6-da2070c6b58b",
   "metadata": {},
   "outputs": [],
   "source": []
  },
  {
   "cell_type": "markdown",
   "id": "0cf273a2-5f98-4e5f-83e8-6777083d8468",
   "metadata": {},
   "source": [
    "![green-divider](https://user-images.githubusercontent.com/7065401/52071924-c003ad80-2562-11e9-8297-1c6595f8a7ff.png)"
   ]
  },
  {
   "cell_type": "markdown",
   "id": "eb59d040-b55e-4445-ae48-4d3568b2838f",
   "metadata": {
    "jp-MarkdownHeadingCollapsed": true,
    "tags": []
   },
   "source": [
    "## For Results"
   ]
  },
  {
   "cell_type": "code",
   "execution_count": 30,
   "id": "6e73dc29-b5a7-4ee0-b9a9-7a40cd624011",
   "metadata": {
    "tags": []
   },
   "outputs": [
    {
     "data": {
      "text/html": [
       "<div>\n",
       "<style scoped>\n",
       "    .dataframe tbody tr th:only-of-type {\n",
       "        vertical-align: middle;\n",
       "    }\n",
       "\n",
       "    .dataframe tbody tr th {\n",
       "        vertical-align: top;\n",
       "    }\n",
       "\n",
       "    .dataframe thead th {\n",
       "        text-align: right;\n",
       "    }\n",
       "</style>\n",
       "<table border=\"1\" class=\"dataframe\">\n",
       "  <thead>\n",
       "    <tr style=\"text-align: right;\">\n",
       "      <th></th>\n",
       "      <th>discipline_title</th>\n",
       "      <th>event_title</th>\n",
       "      <th>slug_game</th>\n",
       "      <th>participant_type</th>\n",
       "      <th>medal_type</th>\n",
       "      <th>athletes</th>\n",
       "      <th>rank_equal</th>\n",
       "      <th>rank_position</th>\n",
       "      <th>country_name</th>\n",
       "      <th>country_code</th>\n",
       "      <th>country_3_letter_code</th>\n",
       "      <th>athlete_url</th>\n",
       "      <th>athlete_full_name</th>\n",
       "      <th>value_unit</th>\n",
       "      <th>value_type</th>\n",
       "    </tr>\n",
       "  </thead>\n",
       "  <tbody>\n",
       "    <tr>\n",
       "      <th>0</th>\n",
       "      <td>Curling</td>\n",
       "      <td>Mixed Doubles</td>\n",
       "      <td>beijing-2022</td>\n",
       "      <td>GameTeam</td>\n",
       "      <td>GOLD</td>\n",
       "      <td>[('Stefania CONSTANTINI', 'https://olympics.co...</td>\n",
       "      <td>False</td>\n",
       "      <td>1</td>\n",
       "      <td>Italy</td>\n",
       "      <td>IT</td>\n",
       "      <td>ITA</td>\n",
       "      <td>NaN</td>\n",
       "      <td>NaN</td>\n",
       "      <td>NaN</td>\n",
       "      <td>NaN</td>\n",
       "    </tr>\n",
       "    <tr>\n",
       "      <th>1</th>\n",
       "      <td>Curling</td>\n",
       "      <td>Mixed Doubles</td>\n",
       "      <td>beijing-2022</td>\n",
       "      <td>GameTeam</td>\n",
       "      <td>SILVER</td>\n",
       "      <td>[('Kristin SKASLIEN', 'https://olympics.com/en...</td>\n",
       "      <td>False</td>\n",
       "      <td>2</td>\n",
       "      <td>Norway</td>\n",
       "      <td>NO</td>\n",
       "      <td>NOR</td>\n",
       "      <td>NaN</td>\n",
       "      <td>NaN</td>\n",
       "      <td>NaN</td>\n",
       "      <td>NaN</td>\n",
       "    </tr>\n",
       "    <tr>\n",
       "      <th>2</th>\n",
       "      <td>Curling</td>\n",
       "      <td>Mixed Doubles</td>\n",
       "      <td>beijing-2022</td>\n",
       "      <td>GameTeam</td>\n",
       "      <td>BRONZE</td>\n",
       "      <td>[('Almida DE VAL', 'https://olympics.com/en/at...</td>\n",
       "      <td>False</td>\n",
       "      <td>3</td>\n",
       "      <td>Sweden</td>\n",
       "      <td>SE</td>\n",
       "      <td>SWE</td>\n",
       "      <td>NaN</td>\n",
       "      <td>NaN</td>\n",
       "      <td>NaN</td>\n",
       "      <td>NaN</td>\n",
       "    </tr>\n",
       "    <tr>\n",
       "      <th>3</th>\n",
       "      <td>Curling</td>\n",
       "      <td>Mixed Doubles</td>\n",
       "      <td>beijing-2022</td>\n",
       "      <td>GameTeam</td>\n",
       "      <td>NaN</td>\n",
       "      <td>[('Jennifer DODDS', 'https://olympics.com/en/a...</td>\n",
       "      <td>False</td>\n",
       "      <td>4</td>\n",
       "      <td>Great Britain</td>\n",
       "      <td>GB</td>\n",
       "      <td>GBR</td>\n",
       "      <td>NaN</td>\n",
       "      <td>NaN</td>\n",
       "      <td>NaN</td>\n",
       "      <td>NaN</td>\n",
       "    </tr>\n",
       "    <tr>\n",
       "      <th>4</th>\n",
       "      <td>Curling</td>\n",
       "      <td>Mixed Doubles</td>\n",
       "      <td>beijing-2022</td>\n",
       "      <td>GameTeam</td>\n",
       "      <td>NaN</td>\n",
       "      <td>[('Rachel HOMAN', 'https://olympics.com/en/ath...</td>\n",
       "      <td>False</td>\n",
       "      <td>5</td>\n",
       "      <td>Canada</td>\n",
       "      <td>CA</td>\n",
       "      <td>CAN</td>\n",
       "      <td>NaN</td>\n",
       "      <td>NaN</td>\n",
       "      <td>NaN</td>\n",
       "      <td>NaN</td>\n",
       "    </tr>\n",
       "  </tbody>\n",
       "</table>\n",
       "</div>"
      ],
      "text/plain": [
       "  discipline_title    event_title     slug_game participant_type medal_type  \\\n",
       "0          Curling  Mixed Doubles  beijing-2022         GameTeam       GOLD   \n",
       "1          Curling  Mixed Doubles  beijing-2022         GameTeam     SILVER   \n",
       "2          Curling  Mixed Doubles  beijing-2022         GameTeam     BRONZE   \n",
       "3          Curling  Mixed Doubles  beijing-2022         GameTeam        NaN   \n",
       "4          Curling  Mixed Doubles  beijing-2022         GameTeam        NaN   \n",
       "\n",
       "                                            athletes rank_equal rank_position  \\\n",
       "0  [('Stefania CONSTANTINI', 'https://olympics.co...      False             1   \n",
       "1  [('Kristin SKASLIEN', 'https://olympics.com/en...      False             2   \n",
       "2  [('Almida DE VAL', 'https://olympics.com/en/at...      False             3   \n",
       "3  [('Jennifer DODDS', 'https://olympics.com/en/a...      False             4   \n",
       "4  [('Rachel HOMAN', 'https://olympics.com/en/ath...      False             5   \n",
       "\n",
       "    country_name country_code country_3_letter_code athlete_url  \\\n",
       "0          Italy           IT                   ITA         NaN   \n",
       "1         Norway           NO                   NOR         NaN   \n",
       "2         Sweden           SE                   SWE         NaN   \n",
       "3  Great Britain           GB                   GBR         NaN   \n",
       "4         Canada           CA                   CAN         NaN   \n",
       "\n",
       "  athlete_full_name value_unit value_type  \n",
       "0               NaN        NaN        NaN  \n",
       "1               NaN        NaN        NaN  \n",
       "2               NaN        NaN        NaN  \n",
       "3               NaN        NaN        NaN  \n",
       "4               NaN        NaN        NaN  "
      ]
     },
     "execution_count": 30,
     "metadata": {},
     "output_type": "execute_result"
    }
   ],
   "source": [
    "results.head()"
   ]
  },
  {
   "cell_type": "code",
   "execution_count": 31,
   "id": "029bf926-d0eb-4f2c-970c-b61b1f8e75a8",
   "metadata": {
    "tags": []
   },
   "outputs": [
    {
     "data": {
      "text/html": [
       "<div>\n",
       "<style scoped>\n",
       "    .dataframe tbody tr th:only-of-type {\n",
       "        vertical-align: middle;\n",
       "    }\n",
       "\n",
       "    .dataframe tbody tr th {\n",
       "        vertical-align: top;\n",
       "    }\n",
       "\n",
       "    .dataframe thead th {\n",
       "        text-align: right;\n",
       "    }\n",
       "</style>\n",
       "<table border=\"1\" class=\"dataframe\">\n",
       "  <thead>\n",
       "    <tr style=\"text-align: right;\">\n",
       "      <th></th>\n",
       "      <th>discipline_title</th>\n",
       "      <th>event_title</th>\n",
       "      <th>slug_game</th>\n",
       "      <th>participant_type</th>\n",
       "      <th>medal_type</th>\n",
       "      <th>athletes</th>\n",
       "      <th>rank_equal</th>\n",
       "      <th>rank_position</th>\n",
       "      <th>country_name</th>\n",
       "      <th>country_code</th>\n",
       "      <th>country_3_letter_code</th>\n",
       "      <th>athlete_url</th>\n",
       "      <th>athlete_full_name</th>\n",
       "      <th>value_unit</th>\n",
       "      <th>value_type</th>\n",
       "    </tr>\n",
       "  </thead>\n",
       "  <tbody>\n",
       "    <tr>\n",
       "      <th>22104</th>\n",
       "      <td>Bobsleigh</td>\n",
       "      <td>four-man men</td>\n",
       "      <td>sochi-2014</td>\n",
       "      <td>GameTeam</td>\n",
       "      <td>NaN</td>\n",
       "      <td>NaN</td>\n",
       "      <td>NaN</td>\n",
       "      <td>DSQ</td>\n",
       "      <td>Russian Federation</td>\n",
       "      <td>RU</td>\n",
       "      <td>RUS</td>\n",
       "      <td>NaN</td>\n",
       "      <td>NaN</td>\n",
       "      <td>NaN</td>\n",
       "      <td>IRM</td>\n",
       "    </tr>\n",
       "    <tr>\n",
       "      <th>147501</th>\n",
       "      <td>Bobsleigh</td>\n",
       "      <td>four-man men</td>\n",
       "      <td>lake-placid-1932</td>\n",
       "      <td>GameTeam</td>\n",
       "      <td>NaN</td>\n",
       "      <td>NaN</td>\n",
       "      <td>NaN</td>\n",
       "      <td>DNS</td>\n",
       "      <td>Switzerland</td>\n",
       "      <td>CH</td>\n",
       "      <td>SUI</td>\n",
       "      <td>NaN</td>\n",
       "      <td>NaN</td>\n",
       "      <td>NaN</td>\n",
       "      <td>IRM</td>\n",
       "    </tr>\n",
       "    <tr>\n",
       "      <th>147504</th>\n",
       "      <td>Bobsleigh</td>\n",
       "      <td>four-man men</td>\n",
       "      <td>lake-placid-1932</td>\n",
       "      <td>GameTeam</td>\n",
       "      <td>NaN</td>\n",
       "      <td>NaN</td>\n",
       "      <td>NaN</td>\n",
       "      <td>DNS</td>\n",
       "      <td>Germany</td>\n",
       "      <td>DE</td>\n",
       "      <td>GER</td>\n",
       "      <td>NaN</td>\n",
       "      <td>NaN</td>\n",
       "      <td>NaN</td>\n",
       "      <td>IRM</td>\n",
       "    </tr>\n",
       "    <tr>\n",
       "      <th>149859</th>\n",
       "      <td>Bobsleigh</td>\n",
       "      <td>fiveman men</td>\n",
       "      <td>st-moritz-1928</td>\n",
       "      <td>GameTeam</td>\n",
       "      <td>NaN</td>\n",
       "      <td>NaN</td>\n",
       "      <td>NaN</td>\n",
       "      <td>DNS</td>\n",
       "      <td>Czechoslovakia</td>\n",
       "      <td>CSHH</td>\n",
       "      <td>TCH</td>\n",
       "      <td>NaN</td>\n",
       "      <td>NaN</td>\n",
       "      <td>NaN</td>\n",
       "      <td>IRM</td>\n",
       "    </tr>\n",
       "    <tr>\n",
       "      <th>154361</th>\n",
       "      <td>Water Polo</td>\n",
       "      <td>Water Polo Women</td>\n",
       "      <td>antwerp-1920</td>\n",
       "      <td>GameTeam</td>\n",
       "      <td>NaN</td>\n",
       "      <td>NaN</td>\n",
       "      <td>NaN</td>\n",
       "      <td>1</td>\n",
       "      <td>Netherlands</td>\n",
       "      <td>NL</td>\n",
       "      <td>NED</td>\n",
       "      <td>NaN</td>\n",
       "      <td>NaN</td>\n",
       "      <td>2</td>\n",
       "      <td>SCORE</td>\n",
       "    </tr>\n",
       "  </tbody>\n",
       "</table>\n",
       "</div>"
      ],
      "text/plain": [
       "       discipline_title       event_title         slug_game participant_type  \\\n",
       "22104         Bobsleigh      four-man men        sochi-2014         GameTeam   \n",
       "147501        Bobsleigh      four-man men  lake-placid-1932         GameTeam   \n",
       "147504        Bobsleigh      four-man men  lake-placid-1932         GameTeam   \n",
       "149859        Bobsleigh       fiveman men    st-moritz-1928         GameTeam   \n",
       "154361       Water Polo  Water Polo Women      antwerp-1920         GameTeam   \n",
       "\n",
       "       medal_type athletes rank_equal rank_position        country_name  \\\n",
       "22104         NaN      NaN        NaN           DSQ  Russian Federation   \n",
       "147501        NaN      NaN        NaN           DNS         Switzerland   \n",
       "147504        NaN      NaN        NaN           DNS             Germany   \n",
       "149859        NaN      NaN        NaN           DNS      Czechoslovakia   \n",
       "154361        NaN      NaN        NaN             1         Netherlands   \n",
       "\n",
       "       country_code country_3_letter_code athlete_url athlete_full_name  \\\n",
       "22104            RU                   RUS         NaN               NaN   \n",
       "147501           CH                   SUI         NaN               NaN   \n",
       "147504           DE                   GER         NaN               NaN   \n",
       "149859         CSHH                   TCH         NaN               NaN   \n",
       "154361           NL                   NED         NaN               NaN   \n",
       "\n",
       "       value_unit value_type  \n",
       "22104         NaN        IRM  \n",
       "147501        NaN        IRM  \n",
       "147504        NaN        IRM  \n",
       "149859        NaN        IRM  \n",
       "154361          2      SCORE  "
      ]
     },
     "execution_count": 31,
     "metadata": {},
     "output_type": "execute_result"
    }
   ],
   "source": [
    "# Identifying dulicates in the results dataframe\n",
    "# There are duplicates in his dataframe\n",
    "\n",
    "results[results.duplicated()].head()"
   ]
  },
  {
   "cell_type": "code",
   "execution_count": 32,
   "id": "ea8ef828-6807-43be-b1e1-95c2010edaf8",
   "metadata": {
    "tags": []
   },
   "outputs": [],
   "source": [
    "# Removing duplicates in this dataframe\n",
    "\n",
    "results.drop_duplicates(inplace = True)"
   ]
  },
  {
   "cell_type": "code",
   "execution_count": 33,
   "id": "6a741466-8f23-4832-ac70-cd702317b0f9",
   "metadata": {
    "tags": []
   },
   "outputs": [
    {
     "data": {
      "text/plain": [
       "(162688, 15)"
      ]
     },
     "execution_count": 33,
     "metadata": {},
     "output_type": "execute_result"
    }
   ],
   "source": [
    "results.shape"
   ]
  },
  {
   "cell_type": "code",
   "execution_count": 34,
   "id": "eb54dd7a-b1b4-4004-a619-9215db808f0a",
   "metadata": {
    "tags": []
   },
   "outputs": [
    {
     "name": "stdout",
     "output_type": "stream",
     "text": [
      "<class 'pandas.core.frame.DataFrame'>\n",
      "Int64Index: 162688 entries, 0 to 162803\n",
      "Data columns (total 15 columns):\n",
      " #   Column                 Non-Null Count   Dtype \n",
      "---  ------                 --------------   ----- \n",
      " 0   discipline_title       162688 non-null  object\n",
      " 1   event_title            162688 non-null  object\n",
      " 2   slug_game              162688 non-null  object\n",
      " 3   participant_type       162688 non-null  object\n",
      " 4   medal_type             20193 non-null   object\n",
      " 5   athletes               7948 non-null    object\n",
      " 6   rank_equal             32526 non-null   object\n",
      " 7   rank_position          158810 non-null  object\n",
      " 8   country_name           162688 non-null  object\n",
      " 9   country_code           157656 non-null  object\n",
      " 10  country_3_letter_code  162688 non-null  object\n",
      " 11  athlete_url            129938 non-null  object\n",
      " 12  athlete_full_name      141585 non-null  object\n",
      " 13  value_unit             78582 non-null   object\n",
      " 14  value_type             89946 non-null   object\n",
      "dtypes: object(15)\n",
      "memory usage: 19.9+ MB\n"
     ]
    }
   ],
   "source": [
    "results.info()"
   ]
  },
  {
   "cell_type": "code",
   "execution_count": 35,
   "id": "4def4df3-4158-42cc-a327-d12faa9b8e46",
   "metadata": {
    "tags": []
   },
   "outputs": [
    {
     "data": {
      "text/html": [
       "<div>\n",
       "<style scoped>\n",
       "    .dataframe tbody tr th:only-of-type {\n",
       "        vertical-align: middle;\n",
       "    }\n",
       "\n",
       "    .dataframe tbody tr th {\n",
       "        vertical-align: top;\n",
       "    }\n",
       "\n",
       "    .dataframe thead th {\n",
       "        text-align: right;\n",
       "    }\n",
       "</style>\n",
       "<table border=\"1\" class=\"dataframe\">\n",
       "  <thead>\n",
       "    <tr style=\"text-align: right;\">\n",
       "      <th></th>\n",
       "      <th>discipline_title</th>\n",
       "      <th>event_title</th>\n",
       "      <th>slug_game</th>\n",
       "      <th>participant_type</th>\n",
       "      <th>medal_type</th>\n",
       "      <th>athletes</th>\n",
       "      <th>rank_position</th>\n",
       "      <th>country_name</th>\n",
       "      <th>athlete_url</th>\n",
       "      <th>athlete_full_name</th>\n",
       "    </tr>\n",
       "  </thead>\n",
       "  <tbody>\n",
       "    <tr>\n",
       "      <th>0</th>\n",
       "      <td>Curling</td>\n",
       "      <td>Mixed Doubles</td>\n",
       "      <td>beijing-2022</td>\n",
       "      <td>GameTeam</td>\n",
       "      <td>GOLD</td>\n",
       "      <td>[('Stefania CONSTANTINI', 'https://olympics.co...</td>\n",
       "      <td>1</td>\n",
       "      <td>Italy</td>\n",
       "      <td>NaN</td>\n",
       "      <td>NaN</td>\n",
       "    </tr>\n",
       "    <tr>\n",
       "      <th>1</th>\n",
       "      <td>Curling</td>\n",
       "      <td>Mixed Doubles</td>\n",
       "      <td>beijing-2022</td>\n",
       "      <td>GameTeam</td>\n",
       "      <td>SILVER</td>\n",
       "      <td>[('Kristin SKASLIEN', 'https://olympics.com/en...</td>\n",
       "      <td>2</td>\n",
       "      <td>Norway</td>\n",
       "      <td>NaN</td>\n",
       "      <td>NaN</td>\n",
       "    </tr>\n",
       "    <tr>\n",
       "      <th>2</th>\n",
       "      <td>Curling</td>\n",
       "      <td>Mixed Doubles</td>\n",
       "      <td>beijing-2022</td>\n",
       "      <td>GameTeam</td>\n",
       "      <td>BRONZE</td>\n",
       "      <td>[('Almida DE VAL', 'https://olympics.com/en/at...</td>\n",
       "      <td>3</td>\n",
       "      <td>Sweden</td>\n",
       "      <td>NaN</td>\n",
       "      <td>NaN</td>\n",
       "    </tr>\n",
       "    <tr>\n",
       "      <th>3</th>\n",
       "      <td>Curling</td>\n",
       "      <td>Mixed Doubles</td>\n",
       "      <td>beijing-2022</td>\n",
       "      <td>GameTeam</td>\n",
       "      <td>NaN</td>\n",
       "      <td>[('Jennifer DODDS', 'https://olympics.com/en/a...</td>\n",
       "      <td>4</td>\n",
       "      <td>Great Britain</td>\n",
       "      <td>NaN</td>\n",
       "      <td>NaN</td>\n",
       "    </tr>\n",
       "    <tr>\n",
       "      <th>4</th>\n",
       "      <td>Curling</td>\n",
       "      <td>Mixed Doubles</td>\n",
       "      <td>beijing-2022</td>\n",
       "      <td>GameTeam</td>\n",
       "      <td>NaN</td>\n",
       "      <td>[('Rachel HOMAN', 'https://olympics.com/en/ath...</td>\n",
       "      <td>5</td>\n",
       "      <td>Canada</td>\n",
       "      <td>NaN</td>\n",
       "      <td>NaN</td>\n",
       "    </tr>\n",
       "  </tbody>\n",
       "</table>\n",
       "</div>"
      ],
      "text/plain": [
       "  discipline_title    event_title     slug_game participant_type medal_type  \\\n",
       "0          Curling  Mixed Doubles  beijing-2022         GameTeam       GOLD   \n",
       "1          Curling  Mixed Doubles  beijing-2022         GameTeam     SILVER   \n",
       "2          Curling  Mixed Doubles  beijing-2022         GameTeam     BRONZE   \n",
       "3          Curling  Mixed Doubles  beijing-2022         GameTeam        NaN   \n",
       "4          Curling  Mixed Doubles  beijing-2022         GameTeam        NaN   \n",
       "\n",
       "                                            athletes rank_position  \\\n",
       "0  [('Stefania CONSTANTINI', 'https://olympics.co...             1   \n",
       "1  [('Kristin SKASLIEN', 'https://olympics.com/en...             2   \n",
       "2  [('Almida DE VAL', 'https://olympics.com/en/at...             3   \n",
       "3  [('Jennifer DODDS', 'https://olympics.com/en/a...             4   \n",
       "4  [('Rachel HOMAN', 'https://olympics.com/en/ath...             5   \n",
       "\n",
       "    country_name athlete_url athlete_full_name  \n",
       "0          Italy         NaN               NaN  \n",
       "1         Norway         NaN               NaN  \n",
       "2         Sweden         NaN               NaN  \n",
       "3  Great Britain         NaN               NaN  \n",
       "4         Canada         NaN               NaN  "
      ]
     },
     "execution_count": 35,
     "metadata": {},
     "output_type": "execute_result"
    }
   ],
   "source": [
    "# Drop unwanted columns (rank_equal, country_code, country_3_letter_code, value_unit, and value_type)\n",
    "\n",
    "results.drop(columns = ['rank_equal', 'country_code', 'country_3_letter_code', 'value_unit', 'value_type'], inplace = True)\n",
    "results.head()"
   ]
  },
  {
   "cell_type": "code",
   "execution_count": 36,
   "id": "de965fb9-e321-4533-a350-9ad20f838267",
   "metadata": {
    "tags": []
   },
   "outputs": [
    {
     "data": {
      "text/plain": [
       "rio-2016                       7672\n",
       "london-2012                    7531\n",
       "beijing-2008                   7360\n",
       "atlanta-1996                   7117\n",
       "sydney-2000                    7091\n",
       "athens-2004                    6979\n",
       "barcelona-1992                 6878\n",
       "tokyo-2020                     6863\n",
       "seoul-1988                     6348\n",
       "los-angeles-1984               5007\n",
       "helsinki-1952                  4626\n",
       "munich-1972                    3969\n",
       "beijing-2022                   3784\n",
       "pyeongchang-2018               3707\n",
       "montreal-1976                  3670\n",
       "sochi-2014                     3665\n",
       "mexico-city-1968               3569\n",
       "vancouver-2010                 3322\n",
       "turin-2006                     3256\n",
       "moscow-1980                    3214\n",
       "tokyo-1964                     3172\n",
       "rome-1960                      3170\n",
       "london-1948                    3134\n",
       "paris-1924                     3035\n",
       "salt-lake-city-2002            3008\n",
       "berlin-1936                    2921\n",
       "albertville-1992               2783\n",
       "melbourne-1956                 2706\n",
       "nagano-1998                    2659\n",
       "lillehammer-1994               2451\n",
       "stockholm-1912                 2392\n",
       "amsterdam-1928                 2144\n",
       "calgary-1988                   2078\n",
       "london-1908                    1813\n",
       "sarajevo-1984                  1664\n",
       "antwerp-1920                   1652\n",
       "paris-1900                     1458\n",
       "innsbruck-1976                 1396\n",
       "grenoble-1968                  1394\n",
       "lake-placid-1980               1318\n",
       "innsbruck-1964                 1313\n",
       "sapporo-1972                   1257\n",
       "st-louis-1904                  1150\n",
       "los-angeles-1932               1142\n",
       "cortina-d-ampezzo-1956         1021\n",
       "squaw-valley-1960               935\n",
       "st-moritz-1948                  856\n",
       "oslo-1952                       795\n",
       "garmisch-partenkirchen-1936     644\n",
       "athens-1896                     487\n",
       "st-moritz-1928                  374\n",
       "lake-placid-1932                371\n",
       "chamonix-1924                   367\n",
       "Name: slug_game, dtype: int64"
      ]
     },
     "execution_count": 36,
     "metadata": {},
     "output_type": "execute_result"
    }
   ],
   "source": [
    "results['slug_game'].value_counts()"
   ]
  },
  {
   "cell_type": "code",
   "execution_count": 37,
   "id": "cb581d67-eddc-4bbe-803a-143b43f1ce71",
   "metadata": {
    "tags": []
   },
   "outputs": [
    {
     "name": "stderr",
     "output_type": "stream",
     "text": [
      "C:\\Users\\SIRE KINGING\\AppData\\Local\\Temp\\ipykernel_11136\\919037826.py:3: FutureWarning: In a future version of pandas all arguments of StringMethods.rsplit except for the argument 'pat' will be keyword-only.\n",
      "  results['game_year'] = results['slug_game'].str.rsplit('-', 1, expand=True)[1]\n"
     ]
    },
    {
     "data": {
      "text/html": [
       "<div>\n",
       "<style scoped>\n",
       "    .dataframe tbody tr th:only-of-type {\n",
       "        vertical-align: middle;\n",
       "    }\n",
       "\n",
       "    .dataframe tbody tr th {\n",
       "        vertical-align: top;\n",
       "    }\n",
       "\n",
       "    .dataframe thead th {\n",
       "        text-align: right;\n",
       "    }\n",
       "</style>\n",
       "<table border=\"1\" class=\"dataframe\">\n",
       "  <thead>\n",
       "    <tr style=\"text-align: right;\">\n",
       "      <th></th>\n",
       "      <th>discipline_title</th>\n",
       "      <th>event_title</th>\n",
       "      <th>slug_game</th>\n",
       "      <th>participant_type</th>\n",
       "      <th>medal_type</th>\n",
       "      <th>athletes</th>\n",
       "      <th>rank_position</th>\n",
       "      <th>country_name</th>\n",
       "      <th>athlete_url</th>\n",
       "      <th>athlete_full_name</th>\n",
       "      <th>game_year</th>\n",
       "    </tr>\n",
       "  </thead>\n",
       "  <tbody>\n",
       "    <tr>\n",
       "      <th>0</th>\n",
       "      <td>Curling</td>\n",
       "      <td>Mixed Doubles</td>\n",
       "      <td>beijing-2022</td>\n",
       "      <td>GameTeam</td>\n",
       "      <td>GOLD</td>\n",
       "      <td>[('Stefania CONSTANTINI', 'https://olympics.co...</td>\n",
       "      <td>1</td>\n",
       "      <td>Italy</td>\n",
       "      <td>NaN</td>\n",
       "      <td>NaN</td>\n",
       "      <td>2022</td>\n",
       "    </tr>\n",
       "    <tr>\n",
       "      <th>1</th>\n",
       "      <td>Curling</td>\n",
       "      <td>Mixed Doubles</td>\n",
       "      <td>beijing-2022</td>\n",
       "      <td>GameTeam</td>\n",
       "      <td>SILVER</td>\n",
       "      <td>[('Kristin SKASLIEN', 'https://olympics.com/en...</td>\n",
       "      <td>2</td>\n",
       "      <td>Norway</td>\n",
       "      <td>NaN</td>\n",
       "      <td>NaN</td>\n",
       "      <td>2022</td>\n",
       "    </tr>\n",
       "    <tr>\n",
       "      <th>2</th>\n",
       "      <td>Curling</td>\n",
       "      <td>Mixed Doubles</td>\n",
       "      <td>beijing-2022</td>\n",
       "      <td>GameTeam</td>\n",
       "      <td>BRONZE</td>\n",
       "      <td>[('Almida DE VAL', 'https://olympics.com/en/at...</td>\n",
       "      <td>3</td>\n",
       "      <td>Sweden</td>\n",
       "      <td>NaN</td>\n",
       "      <td>NaN</td>\n",
       "      <td>2022</td>\n",
       "    </tr>\n",
       "    <tr>\n",
       "      <th>3</th>\n",
       "      <td>Curling</td>\n",
       "      <td>Mixed Doubles</td>\n",
       "      <td>beijing-2022</td>\n",
       "      <td>GameTeam</td>\n",
       "      <td>NaN</td>\n",
       "      <td>[('Jennifer DODDS', 'https://olympics.com/en/a...</td>\n",
       "      <td>4</td>\n",
       "      <td>Great Britain</td>\n",
       "      <td>NaN</td>\n",
       "      <td>NaN</td>\n",
       "      <td>2022</td>\n",
       "    </tr>\n",
       "    <tr>\n",
       "      <th>4</th>\n",
       "      <td>Curling</td>\n",
       "      <td>Mixed Doubles</td>\n",
       "      <td>beijing-2022</td>\n",
       "      <td>GameTeam</td>\n",
       "      <td>NaN</td>\n",
       "      <td>[('Rachel HOMAN', 'https://olympics.com/en/ath...</td>\n",
       "      <td>5</td>\n",
       "      <td>Canada</td>\n",
       "      <td>NaN</td>\n",
       "      <td>NaN</td>\n",
       "      <td>2022</td>\n",
       "    </tr>\n",
       "  </tbody>\n",
       "</table>\n",
       "</div>"
      ],
      "text/plain": [
       "  discipline_title    event_title     slug_game participant_type medal_type  \\\n",
       "0          Curling  Mixed Doubles  beijing-2022         GameTeam       GOLD   \n",
       "1          Curling  Mixed Doubles  beijing-2022         GameTeam     SILVER   \n",
       "2          Curling  Mixed Doubles  beijing-2022         GameTeam     BRONZE   \n",
       "3          Curling  Mixed Doubles  beijing-2022         GameTeam        NaN   \n",
       "4          Curling  Mixed Doubles  beijing-2022         GameTeam        NaN   \n",
       "\n",
       "                                            athletes rank_position  \\\n",
       "0  [('Stefania CONSTANTINI', 'https://olympics.co...             1   \n",
       "1  [('Kristin SKASLIEN', 'https://olympics.com/en...             2   \n",
       "2  [('Almida DE VAL', 'https://olympics.com/en/at...             3   \n",
       "3  [('Jennifer DODDS', 'https://olympics.com/en/a...             4   \n",
       "4  [('Rachel HOMAN', 'https://olympics.com/en/ath...             5   \n",
       "\n",
       "    country_name athlete_url athlete_full_name game_year  \n",
       "0          Italy         NaN               NaN      2022  \n",
       "1         Norway         NaN               NaN      2022  \n",
       "2         Sweden         NaN               NaN      2022  \n",
       "3  Great Britain         NaN               NaN      2022  \n",
       "4         Canada         NaN               NaN      2022  "
      ]
     },
     "execution_count": 37,
     "metadata": {},
     "output_type": "execute_result"
    }
   ],
   "source": [
    "# Add wanted column (game_year)\n",
    "\n",
    "results['game_year'] = results['slug_game'].str.rsplit('-', 1, expand=True)[1]\n",
    "results.head()"
   ]
  },
  {
   "cell_type": "code",
   "execution_count": 38,
   "id": "46b8e22d-8440-4aa4-a6ec-6c36c8b6cd94",
   "metadata": {
    "tags": []
   },
   "outputs": [
    {
     "name": "stdout",
     "output_type": "stream",
     "text": [
      "<class 'pandas.core.frame.DataFrame'>\n",
      "Int64Index: 162688 entries, 0 to 162803\n",
      "Data columns (total 11 columns):\n",
      " #   Column             Non-Null Count   Dtype \n",
      "---  ------             --------------   ----- \n",
      " 0   discipline_title   162688 non-null  object\n",
      " 1   event_title        162688 non-null  object\n",
      " 2   slug_game          162688 non-null  object\n",
      " 3   participant_type   162688 non-null  object\n",
      " 4   medal_type         20193 non-null   object\n",
      " 5   athletes           7948 non-null    object\n",
      " 6   rank_position      158810 non-null  object\n",
      " 7   country_name       162688 non-null  object\n",
      " 8   athlete_url        129938 non-null  object\n",
      " 9   athlete_full_name  141585 non-null  object\n",
      " 10  game_year          162688 non-null  object\n",
      "dtypes: object(11)\n",
      "memory usage: 14.9+ MB\n"
     ]
    }
   ],
   "source": [
    "results.info()"
   ]
  },
  {
   "cell_type": "code",
   "execution_count": null,
   "id": "a0b6b4b9-6d81-42e6-acd6-e4dc94fdde4f",
   "metadata": {},
   "outputs": [],
   "source": []
  },
  {
   "cell_type": "markdown",
   "id": "de92e898-57d5-48d9-8688-ea72516e9238",
   "metadata": {},
   "source": [
    "![green-divider](https://user-images.githubusercontent.com/7065401/52071924-c003ad80-2562-11e9-8297-1c6595f8a7ff.png)"
   ]
  },
  {
   "cell_type": "markdown",
   "id": "27f62c5c-c569-485a-901a-29cf5dd048a2",
   "metadata": {},
   "source": [
    "![green-divider](https://user-images.githubusercontent.com/7065401/52071924-c003ad80-2562-11e9-8297-1c6595f8a7ff.png)\n",
    "\n",
    "# ANALYSING THE REFINED OLYMPICS DATASET\n",
    "\n",
    "![green-divider](https://user-images.githubusercontent.com/7065401/52071924-c003ad80-2562-11e9-8297-1c6595f8a7ff.png)"
   ]
  },
  {
   "cell_type": "markdown",
   "id": "7dd40f3d-abe9-47af-aeb3-a5e672e41695",
   "metadata": {
    "jp-MarkdownHeadingCollapsed": true,
    "tags": []
   },
   "source": [
    "## 1) How many countries have hosted the Olympics overtime "
   ]
  },
  {
   "cell_type": "code",
   "execution_count": 39,
   "id": "7ef159c6-a202-481d-be62-697278872189",
   "metadata": {
    "tags": []
   },
   "outputs": [
    {
     "data": {
      "text/plain": [
       "26"
      ]
     },
     "execution_count": 39,
     "metadata": {},
     "output_type": "execute_result"
    }
   ],
   "source": [
    "# (26 countries)\n",
    "\n",
    "hosts['game_location'].nunique()"
   ]
  },
  {
   "cell_type": "code",
   "execution_count": null,
   "id": "fdfbe412-c5a2-4a60-9f60-2145e9c76ef6",
   "metadata": {},
   "outputs": [],
   "source": []
  },
  {
   "cell_type": "markdown",
   "id": "43004062-856b-4a54-991b-e6c1f53276ed",
   "metadata": {
    "tags": []
   },
   "source": [
    "## 2) Name of the countries that have hosted the Olympics overtime"
   ]
  },
  {
   "cell_type": "code",
   "execution_count": 40,
   "id": "ee47315b-59a5-4c3c-8d2a-02e08b35150d",
   "metadata": {
    "tags": []
   },
   "outputs": [
    {
     "data": {
      "text/plain": [
       "array(['China', 'Japan', 'Republic of Korea', 'Brazil',\n",
       "       'Russian Federation', 'Great Britain', 'Canada', 'Italy', 'Greece',\n",
       "       'United States', 'Australia', 'Norway', 'Spain', 'France',\n",
       "       'Yugoslavia', 'USSR', 'Austria', 'Federal Republic of Germany',\n",
       "       'Mexico', 'Australia and Sweden', 'Finland', 'Switzerland',\n",
       "       'Germany', 'Netherlands', 'Belgium', 'Sweden'], dtype=object)"
      ]
     },
     "execution_count": 40,
     "metadata": {},
     "output_type": "execute_result"
    }
   ],
   "source": [
    "# China, Japan, Republic of Korea, Brazil, Russian Federation, Great Britain, Canada, Italy, Greece,\n",
    "# United States, Australia, Norway, Spain, France, Yugoslavia, USSR, Austria, Federal Republic of Germany,\n",
    "# Mexico, Australia and Sweden, Finland, Switzerland, Germany, Netherlands, Belgium, Sweden\n",
    "\n",
    "hosts['game_location'].unique()"
   ]
  },
  {
   "cell_type": "code",
   "execution_count": null,
   "id": "f13de51d-d8fc-4a7a-b6ff-73abf978b42f",
   "metadata": {},
   "outputs": [],
   "source": []
  },
  {
   "cell_type": "markdown",
   "id": "b80d273a-2c8b-412c-af1f-e1a69c626f43",
   "metadata": {
    "jp-MarkdownHeadingCollapsed": true,
    "tags": []
   },
   "source": [
    "## 3) How many times has each country hosted the Olympics?"
   ]
  },
  {
   "cell_type": "code",
   "execution_count": 41,
   "id": "4a9894e3-7412-4595-bfd9-e96ea2aa0de8",
   "metadata": {
    "tags": []
   },
   "outputs": [
    {
     "data": {
      "text/plain": [
       "United States                  8\n",
       "France                         5\n",
       "Japan                          4\n",
       "Great Britain                  3\n",
       "Canada                         3\n",
       "Italy                          3\n",
       "Norway                         2\n",
       "Germany                        2\n",
       "Switzerland                    2\n",
       "Austria                        2\n",
       "China                          2\n",
       "Greece                         2\n",
       "Republic of Korea              2\n",
       "Australia                      1\n",
       "Spain                          1\n",
       "Yugoslavia                     1\n",
       "USSR                           1\n",
       "Russian Federation             1\n",
       "Federal Republic of Germany    1\n",
       "Mexico                         1\n",
       "Australia and Sweden           1\n",
       "Finland                        1\n",
       "Brazil                         1\n",
       "Netherlands                    1\n",
       "Belgium                        1\n",
       "Sweden                         1\n",
       "Name: game_location, dtype: int64"
      ]
     },
     "execution_count": 41,
     "metadata": {},
     "output_type": "execute_result"
    }
   ],
   "source": [
    "# How many times have these countries hosted the olympics (The top 3 hosts are United States, France and Japan)\n",
    "\n",
    "hosts['game_location'].value_counts()"
   ]
  },
  {
   "cell_type": "code",
   "execution_count": 42,
   "id": "9ff43ebf-c6c4-443e-b74c-8db51c6bfb2c",
   "metadata": {
    "tags": []
   },
   "outputs": [
    {
     "data": {
      "image/png": "[encoded data removed]",
      "text/plain": [
       "<Figure size 1200x1000 with 1 Axes>"
      ]
     },
     "metadata": {},
     "output_type": "display_data"
    }
   ],
   "source": [
    "plt.figure(figsize=(12, 10))\n",
    "plt.style.use('default')\n",
    "plt.style.use('seaborn-v0_8-whitegrid')\n",
    "hosts['game_location'].value_counts().sort_values().plot(kind = 'barh',\n",
    "                                                        colormap = 'terrain')\n",
    "plt.ylabel('Host Country', fontsize = 12)\n",
    "plt.xlabel('Number of Games hosted', fontsize = 12)\n",
    "plt.title('Olympics Games Hosted Per Country', fontsize = 15, color = 'purple')\n",
    "plt.show()"
   ]
  },
  {
   "cell_type": "code",
   "execution_count": null,
   "id": "6854e2fc-0637-4819-8b7c-1db43c2f06b5",
   "metadata": {},
   "outputs": [],
   "source": []
  },
  {
   "cell_type": "markdown",
   "id": "94925a8f-cf31-4f2f-9212-cdf9c7434579",
   "metadata": {
    "jp-MarkdownHeadingCollapsed": true,
    "tags": []
   },
   "source": [
    "## 4) In what season was Olympics hosted the most"
   ]
  },
  {
   "cell_type": "code",
   "execution_count": 43,
   "id": "3e8fa5ed-16ea-4213-9069-a77c9f673ef6",
   "metadata": {
    "tags": []
   },
   "outputs": [
    {
     "data": {
      "text/plain": [
       "Summer    29\n",
       "Winter    24\n",
       "Name: game_season, dtype: int64"
      ]
     },
     "execution_count": 43,
     "metadata": {},
     "output_type": "execute_result"
    }
   ],
   "source": [
    "# Olympics was hosted more in the Summer season\n",
    "\n",
    "hosts['game_season'].value_counts()"
   ]
  },
  {
   "cell_type": "code",
   "execution_count": 44,
   "id": "62f29b97-036a-48e3-82f2-450217a5f5b5",
   "metadata": {
    "tags": []
   },
   "outputs": [
    {
     "data": {
      "image/png": "[encoded data removed]",
      "text/plain": [
       "<Figure size 1000x700 with 1 Axes>"
      ]
     },
     "metadata": {},
     "output_type": "display_data"
    }
   ],
   "source": [
    "plt.figure(figsize=(10, 7))\n",
    "hosts['game_season'].value_counts().plot(kind = 'pie', autopct = '%1.0f%%',\n",
    "                                        explode = (0, 0.02), fontsize = 15)\n",
    "plt.ylabel('Olympic_game_season', fontsize = 12)\n",
    "plt.title('Percentage of Olympics Games Hosted Overtime (Per Season)', fontsize = 15, color = 'purple')\n",
    "plt.show()"
   ]
  },
  {
   "cell_type": "code",
   "execution_count": null,
   "id": "4cb6d181-252b-4e13-9d84-11e5f3433cf8",
   "metadata": {},
   "outputs": [],
   "source": []
  },
  {
   "cell_type": "markdown",
   "id": "58c0d369-6b65-4997-99a1-5e3ae072b2f4",
   "metadata": {
    "jp-MarkdownHeadingCollapsed": true,
    "tags": []
   },
   "source": [
    "## 5) Countries that have hosted the Olympics per season and in both seasons (Winter and Summer)"
   ]
  },
  {
   "cell_type": "code",
   "execution_count": 45,
   "id": "9021b46c-d05b-498d-ae32-692640cc8c5f",
   "metadata": {
    "tags": []
   },
   "outputs": [
    {
     "data": {
      "text/html": [
       "<div>\n",
       "<style scoped>\n",
       "    .dataframe tbody tr th:only-of-type {\n",
       "        vertical-align: middle;\n",
       "    }\n",
       "\n",
       "    .dataframe tbody tr th {\n",
       "        vertical-align: top;\n",
       "    }\n",
       "\n",
       "    .dataframe thead th {\n",
       "        text-align: right;\n",
       "    }\n",
       "</style>\n",
       "<table border=\"1\" class=\"dataframe\">\n",
       "  <thead>\n",
       "    <tr style=\"text-align: right;\">\n",
       "      <th></th>\n",
       "      <th>game_slug</th>\n",
       "      <th>game_end_date</th>\n",
       "      <th>game_start_date</th>\n",
       "      <th>game_location</th>\n",
       "      <th>game_name</th>\n",
       "      <th>game_season</th>\n",
       "      <th>game_year</th>\n",
       "      <th>duration</th>\n",
       "    </tr>\n",
       "  </thead>\n",
       "  <tbody>\n",
       "    <tr>\n",
       "      <th>0</th>\n",
       "      <td>beijing-2022</td>\n",
       "      <td>2022-02-20 12:00:00+00:00</td>\n",
       "      <td>2022-02-04 15:00:00+00:00</td>\n",
       "      <td>China</td>\n",
       "      <td>Beijing 2022</td>\n",
       "      <td>Winter</td>\n",
       "      <td>2022</td>\n",
       "      <td>15 days 21:00:00</td>\n",
       "    </tr>\n",
       "    <tr>\n",
       "      <th>1</th>\n",
       "      <td>tokyo-2020</td>\n",
       "      <td>2021-08-08 14:00:00+00:00</td>\n",
       "      <td>2021-07-23 11:00:00+00:00</td>\n",
       "      <td>Japan</td>\n",
       "      <td>Tokyo 2020</td>\n",
       "      <td>Summer</td>\n",
       "      <td>2020</td>\n",
       "      <td>16 days 03:00:00</td>\n",
       "    </tr>\n",
       "    <tr>\n",
       "      <th>2</th>\n",
       "      <td>pyeongchang-2018</td>\n",
       "      <td>2018-02-25 08:00:00+00:00</td>\n",
       "      <td>2018-02-08 23:00:00+00:00</td>\n",
       "      <td>Republic of Korea</td>\n",
       "      <td>PyeongChang 2018</td>\n",
       "      <td>Winter</td>\n",
       "      <td>2018</td>\n",
       "      <td>16 days 09:00:00</td>\n",
       "    </tr>\n",
       "    <tr>\n",
       "      <th>3</th>\n",
       "      <td>rio-2016</td>\n",
       "      <td>2016-08-21 21:00:00+00:00</td>\n",
       "      <td>2016-08-05 12:00:00+00:00</td>\n",
       "      <td>Brazil</td>\n",
       "      <td>Rio 2016</td>\n",
       "      <td>Summer</td>\n",
       "      <td>2016</td>\n",
       "      <td>16 days 09:00:00</td>\n",
       "    </tr>\n",
       "    <tr>\n",
       "      <th>4</th>\n",
       "      <td>sochi-2014</td>\n",
       "      <td>2014-02-23 16:00:00+00:00</td>\n",
       "      <td>2014-02-07 04:00:00+00:00</td>\n",
       "      <td>Russian Federation</td>\n",
       "      <td>Sochi 2014</td>\n",
       "      <td>Winter</td>\n",
       "      <td>2014</td>\n",
       "      <td>16 days 12:00:00</td>\n",
       "    </tr>\n",
       "  </tbody>\n",
       "</table>\n",
       "</div>"
      ],
      "text/plain": [
       "          game_slug             game_end_date           game_start_date  \\\n",
       "0      beijing-2022 2022-02-20 12:00:00+00:00 2022-02-04 15:00:00+00:00   \n",
       "1        tokyo-2020 2021-08-08 14:00:00+00:00 2021-07-23 11:00:00+00:00   \n",
       "2  pyeongchang-2018 2018-02-25 08:00:00+00:00 2018-02-08 23:00:00+00:00   \n",
       "3          rio-2016 2016-08-21 21:00:00+00:00 2016-08-05 12:00:00+00:00   \n",
       "4        sochi-2014 2014-02-23 16:00:00+00:00 2014-02-07 04:00:00+00:00   \n",
       "\n",
       "        game_location         game_name game_season  game_year  \\\n",
       "0               China      Beijing 2022      Winter       2022   \n",
       "1               Japan        Tokyo 2020      Summer       2020   \n",
       "2   Republic of Korea  PyeongChang 2018      Winter       2018   \n",
       "3              Brazil          Rio 2016      Summer       2016   \n",
       "4  Russian Federation        Sochi 2014      Winter       2014   \n",
       "\n",
       "          duration  \n",
       "0 15 days 21:00:00  \n",
       "1 16 days 03:00:00  \n",
       "2 16 days 09:00:00  \n",
       "3 16 days 09:00:00  \n",
       "4 16 days 12:00:00  "
      ]
     },
     "execution_count": 45,
     "metadata": {},
     "output_type": "execute_result"
    }
   ],
   "source": [
    "hosts.head()"
   ]
  },
  {
   "cell_type": "code",
   "execution_count": 46,
   "id": "dff8502d-e4dd-4c93-88fc-8bd37dc51862",
   "metadata": {
    "tags": []
   },
   "outputs": [
    {
     "data": {
      "text/html": [
       "<div>\n",
       "<style scoped>\n",
       "    .dataframe tbody tr th:only-of-type {\n",
       "        vertical-align: middle;\n",
       "    }\n",
       "\n",
       "    .dataframe tbody tr th {\n",
       "        vertical-align: top;\n",
       "    }\n",
       "\n",
       "    .dataframe thead th {\n",
       "        text-align: right;\n",
       "    }\n",
       "</style>\n",
       "<table border=\"1\" class=\"dataframe\">\n",
       "  <thead>\n",
       "    <tr style=\"text-align: right;\">\n",
       "      <th>game_season</th>\n",
       "      <th>Summer</th>\n",
       "      <th>Winter</th>\n",
       "    </tr>\n",
       "    <tr>\n",
       "      <th>game_location</th>\n",
       "      <th></th>\n",
       "      <th></th>\n",
       "    </tr>\n",
       "  </thead>\n",
       "  <tbody>\n",
       "    <tr>\n",
       "      <th>Australia</th>\n",
       "      <td>1.0</td>\n",
       "      <td>NaN</td>\n",
       "    </tr>\n",
       "    <tr>\n",
       "      <th>Australia and Sweden</th>\n",
       "      <td>1.0</td>\n",
       "      <td>NaN</td>\n",
       "    </tr>\n",
       "    <tr>\n",
       "      <th>Austria</th>\n",
       "      <td>NaN</td>\n",
       "      <td>2.0</td>\n",
       "    </tr>\n",
       "    <tr>\n",
       "      <th>Belgium</th>\n",
       "      <td>1.0</td>\n",
       "      <td>NaN</td>\n",
       "    </tr>\n",
       "    <tr>\n",
       "      <th>Brazil</th>\n",
       "      <td>1.0</td>\n",
       "      <td>NaN</td>\n",
       "    </tr>\n",
       "    <tr>\n",
       "      <th>Canada</th>\n",
       "      <td>1.0</td>\n",
       "      <td>2.0</td>\n",
       "    </tr>\n",
       "    <tr>\n",
       "      <th>China</th>\n",
       "      <td>1.0</td>\n",
       "      <td>1.0</td>\n",
       "    </tr>\n",
       "    <tr>\n",
       "      <th>Federal Republic of Germany</th>\n",
       "      <td>1.0</td>\n",
       "      <td>NaN</td>\n",
       "    </tr>\n",
       "    <tr>\n",
       "      <th>Finland</th>\n",
       "      <td>1.0</td>\n",
       "      <td>NaN</td>\n",
       "    </tr>\n",
       "    <tr>\n",
       "      <th>France</th>\n",
       "      <td>2.0</td>\n",
       "      <td>3.0</td>\n",
       "    </tr>\n",
       "    <tr>\n",
       "      <th>Germany</th>\n",
       "      <td>1.0</td>\n",
       "      <td>1.0</td>\n",
       "    </tr>\n",
       "    <tr>\n",
       "      <th>Great Britain</th>\n",
       "      <td>3.0</td>\n",
       "      <td>NaN</td>\n",
       "    </tr>\n",
       "    <tr>\n",
       "      <th>Greece</th>\n",
       "      <td>2.0</td>\n",
       "      <td>NaN</td>\n",
       "    </tr>\n",
       "    <tr>\n",
       "      <th>Italy</th>\n",
       "      <td>1.0</td>\n",
       "      <td>2.0</td>\n",
       "    </tr>\n",
       "    <tr>\n",
       "      <th>Japan</th>\n",
       "      <td>2.0</td>\n",
       "      <td>2.0</td>\n",
       "    </tr>\n",
       "    <tr>\n",
       "      <th>Mexico</th>\n",
       "      <td>1.0</td>\n",
       "      <td>NaN</td>\n",
       "    </tr>\n",
       "    <tr>\n",
       "      <th>Netherlands</th>\n",
       "      <td>1.0</td>\n",
       "      <td>NaN</td>\n",
       "    </tr>\n",
       "    <tr>\n",
       "      <th>Norway</th>\n",
       "      <td>NaN</td>\n",
       "      <td>2.0</td>\n",
       "    </tr>\n",
       "    <tr>\n",
       "      <th>Republic of Korea</th>\n",
       "      <td>1.0</td>\n",
       "      <td>1.0</td>\n",
       "    </tr>\n",
       "    <tr>\n",
       "      <th>Russian Federation</th>\n",
       "      <td>NaN</td>\n",
       "      <td>1.0</td>\n",
       "    </tr>\n",
       "    <tr>\n",
       "      <th>Spain</th>\n",
       "      <td>1.0</td>\n",
       "      <td>NaN</td>\n",
       "    </tr>\n",
       "    <tr>\n",
       "      <th>Sweden</th>\n",
       "      <td>1.0</td>\n",
       "      <td>NaN</td>\n",
       "    </tr>\n",
       "    <tr>\n",
       "      <th>Switzerland</th>\n",
       "      <td>NaN</td>\n",
       "      <td>2.0</td>\n",
       "    </tr>\n",
       "    <tr>\n",
       "      <th>USSR</th>\n",
       "      <td>1.0</td>\n",
       "      <td>NaN</td>\n",
       "    </tr>\n",
       "    <tr>\n",
       "      <th>United States</th>\n",
       "      <td>4.0</td>\n",
       "      <td>4.0</td>\n",
       "    </tr>\n",
       "    <tr>\n",
       "      <th>Yugoslavia</th>\n",
       "      <td>NaN</td>\n",
       "      <td>1.0</td>\n",
       "    </tr>\n",
       "  </tbody>\n",
       "</table>\n",
       "</div>"
      ],
      "text/plain": [
       "game_season                  Summer  Winter\n",
       "game_location                              \n",
       "Australia                       1.0     NaN\n",
       "Australia and Sweden            1.0     NaN\n",
       "Austria                         NaN     2.0\n",
       "Belgium                         1.0     NaN\n",
       "Brazil                          1.0     NaN\n",
       "Canada                          1.0     2.0\n",
       "China                           1.0     1.0\n",
       "Federal Republic of Germany     1.0     NaN\n",
       "Finland                         1.0     NaN\n",
       "France                          2.0     3.0\n",
       "Germany                         1.0     1.0\n",
       "Great Britain                   3.0     NaN\n",
       "Greece                          2.0     NaN\n",
       "Italy                           1.0     2.0\n",
       "Japan                           2.0     2.0\n",
       "Mexico                          1.0     NaN\n",
       "Netherlands                     1.0     NaN\n",
       "Norway                          NaN     2.0\n",
       "Republic of Korea               1.0     1.0\n",
       "Russian Federation              NaN     1.0\n",
       "Spain                           1.0     NaN\n",
       "Sweden                          1.0     NaN\n",
       "Switzerland                     NaN     2.0\n",
       "USSR                            1.0     NaN\n",
       "United States                   4.0     4.0\n",
       "Yugoslavia                      NaN     1.0"
      ]
     },
     "execution_count": 46,
     "metadata": {},
     "output_type": "execute_result"
    }
   ],
   "source": [
    "hosts_per_season = hosts.groupby('game_location')['game_season'].value_counts().unstack()\n",
    "hosts_per_season"
   ]
  },
  {
   "cell_type": "code",
   "execution_count": 47,
   "id": "8f2b46e2-af63-4ac5-a07b-f17a11434f07",
   "metadata": {
    "tags": []
   },
   "outputs": [
    {
     "data": {
      "text/html": [
       "<div>\n",
       "<style scoped>\n",
       "    .dataframe tbody tr th:only-of-type {\n",
       "        vertical-align: middle;\n",
       "    }\n",
       "\n",
       "    .dataframe tbody tr th {\n",
       "        vertical-align: top;\n",
       "    }\n",
       "\n",
       "    .dataframe thead th {\n",
       "        text-align: right;\n",
       "    }\n",
       "</style>\n",
       "<table border=\"1\" class=\"dataframe\">\n",
       "  <thead>\n",
       "    <tr style=\"text-align: right;\">\n",
       "      <th>game_season</th>\n",
       "      <th>Summer</th>\n",
       "      <th>Winter</th>\n",
       "    </tr>\n",
       "    <tr>\n",
       "      <th>game_location</th>\n",
       "      <th></th>\n",
       "      <th></th>\n",
       "    </tr>\n",
       "  </thead>\n",
       "  <tbody>\n",
       "    <tr>\n",
       "      <th>Australia</th>\n",
       "      <td>1</td>\n",
       "      <td>0</td>\n",
       "    </tr>\n",
       "    <tr>\n",
       "      <th>Australia and Sweden</th>\n",
       "      <td>1</td>\n",
       "      <td>0</td>\n",
       "    </tr>\n",
       "    <tr>\n",
       "      <th>Austria</th>\n",
       "      <td>0</td>\n",
       "      <td>2</td>\n",
       "    </tr>\n",
       "    <tr>\n",
       "      <th>Belgium</th>\n",
       "      <td>1</td>\n",
       "      <td>0</td>\n",
       "    </tr>\n",
       "    <tr>\n",
       "      <th>Brazil</th>\n",
       "      <td>1</td>\n",
       "      <td>0</td>\n",
       "    </tr>\n",
       "    <tr>\n",
       "      <th>Canada</th>\n",
       "      <td>1</td>\n",
       "      <td>2</td>\n",
       "    </tr>\n",
       "    <tr>\n",
       "      <th>China</th>\n",
       "      <td>1</td>\n",
       "      <td>1</td>\n",
       "    </tr>\n",
       "    <tr>\n",
       "      <th>Federal Republic of Germany</th>\n",
       "      <td>1</td>\n",
       "      <td>0</td>\n",
       "    </tr>\n",
       "    <tr>\n",
       "      <th>Finland</th>\n",
       "      <td>1</td>\n",
       "      <td>0</td>\n",
       "    </tr>\n",
       "    <tr>\n",
       "      <th>France</th>\n",
       "      <td>2</td>\n",
       "      <td>3</td>\n",
       "    </tr>\n",
       "    <tr>\n",
       "      <th>Germany</th>\n",
       "      <td>1</td>\n",
       "      <td>1</td>\n",
       "    </tr>\n",
       "    <tr>\n",
       "      <th>Great Britain</th>\n",
       "      <td>3</td>\n",
       "      <td>0</td>\n",
       "    </tr>\n",
       "    <tr>\n",
       "      <th>Greece</th>\n",
       "      <td>2</td>\n",
       "      <td>0</td>\n",
       "    </tr>\n",
       "    <tr>\n",
       "      <th>Italy</th>\n",
       "      <td>1</td>\n",
       "      <td>2</td>\n",
       "    </tr>\n",
       "    <tr>\n",
       "      <th>Japan</th>\n",
       "      <td>2</td>\n",
       "      <td>2</td>\n",
       "    </tr>\n",
       "    <tr>\n",
       "      <th>Mexico</th>\n",
       "      <td>1</td>\n",
       "      <td>0</td>\n",
       "    </tr>\n",
       "    <tr>\n",
       "      <th>Netherlands</th>\n",
       "      <td>1</td>\n",
       "      <td>0</td>\n",
       "    </tr>\n",
       "    <tr>\n",
       "      <th>Norway</th>\n",
       "      <td>0</td>\n",
       "      <td>2</td>\n",
       "    </tr>\n",
       "    <tr>\n",
       "      <th>Republic of Korea</th>\n",
       "      <td>1</td>\n",
       "      <td>1</td>\n",
       "    </tr>\n",
       "    <tr>\n",
       "      <th>Russian Federation</th>\n",
       "      <td>0</td>\n",
       "      <td>1</td>\n",
       "    </tr>\n",
       "    <tr>\n",
       "      <th>Spain</th>\n",
       "      <td>1</td>\n",
       "      <td>0</td>\n",
       "    </tr>\n",
       "    <tr>\n",
       "      <th>Sweden</th>\n",
       "      <td>1</td>\n",
       "      <td>0</td>\n",
       "    </tr>\n",
       "    <tr>\n",
       "      <th>Switzerland</th>\n",
       "      <td>0</td>\n",
       "      <td>2</td>\n",
       "    </tr>\n",
       "    <tr>\n",
       "      <th>USSR</th>\n",
       "      <td>1</td>\n",
       "      <td>0</td>\n",
       "    </tr>\n",
       "    <tr>\n",
       "      <th>United States</th>\n",
       "      <td>4</td>\n",
       "      <td>4</td>\n",
       "    </tr>\n",
       "    <tr>\n",
       "      <th>Yugoslavia</th>\n",
       "      <td>0</td>\n",
       "      <td>1</td>\n",
       "    </tr>\n",
       "  </tbody>\n",
       "</table>\n",
       "</div>"
      ],
      "text/plain": [
       "game_season                  Summer  Winter\n",
       "game_location                              \n",
       "Australia                         1       0\n",
       "Australia and Sweden              1       0\n",
       "Austria                           0       2\n",
       "Belgium                           1       0\n",
       "Brazil                            1       0\n",
       "Canada                            1       2\n",
       "China                             1       1\n",
       "Federal Republic of Germany       1       0\n",
       "Finland                           1       0\n",
       "France                            2       3\n",
       "Germany                           1       1\n",
       "Great Britain                     3       0\n",
       "Greece                            2       0\n",
       "Italy                             1       2\n",
       "Japan                             2       2\n",
       "Mexico                            1       0\n",
       "Netherlands                       1       0\n",
       "Norway                            0       2\n",
       "Republic of Korea                 1       1\n",
       "Russian Federation                0       1\n",
       "Spain                             1       0\n",
       "Sweden                            1       0\n",
       "Switzerland                       0       2\n",
       "USSR                              1       0\n",
       "United States                     4       4\n",
       "Yugoslavia                        0       1"
      ]
     },
     "execution_count": 47,
     "metadata": {},
     "output_type": "execute_result"
    }
   ],
   "source": [
    "# Change the NaN values to O\n",
    "\n",
    "hosts_per_season['Summer'] = hosts_per_season['Summer'].fillna(0)\n",
    "hosts_per_season['Winter'] = hosts_per_season['Winter'].fillna(0)\n",
    "\n",
    "# Change datatype from float to int\n",
    "\n",
    "hosts_per_season['Summer'] = hosts_per_season['Summer'].astype('int')\n",
    "hosts_per_season['Winter'] = hosts_per_season['Winter'].astype('int')\n",
    "\n",
    "hosts_per_season"
   ]
  },
  {
   "cell_type": "code",
   "execution_count": 48,
   "id": "ce5ceb63-ee57-4766-b9a5-0cff77e03329",
   "metadata": {
    "tags": []
   },
   "outputs": [
    {
     "data": {
      "text/html": [
       "<div>\n",
       "<style scoped>\n",
       "    .dataframe tbody tr th:only-of-type {\n",
       "        vertical-align: middle;\n",
       "    }\n",
       "\n",
       "    .dataframe tbody tr th {\n",
       "        vertical-align: top;\n",
       "    }\n",
       "\n",
       "    .dataframe thead th {\n",
       "        text-align: right;\n",
       "    }\n",
       "</style>\n",
       "<table border=\"1\" class=\"dataframe\">\n",
       "  <thead>\n",
       "    <tr style=\"text-align: right;\">\n",
       "      <th>game_season</th>\n",
       "      <th>Summer</th>\n",
       "      <th>Winter</th>\n",
       "    </tr>\n",
       "    <tr>\n",
       "      <th>game_location</th>\n",
       "      <th></th>\n",
       "      <th></th>\n",
       "    </tr>\n",
       "  </thead>\n",
       "  <tbody>\n",
       "    <tr>\n",
       "      <th>Australia</th>\n",
       "      <td>1</td>\n",
       "      <td>0</td>\n",
       "    </tr>\n",
       "    <tr>\n",
       "      <th>Australia and Sweden</th>\n",
       "      <td>1</td>\n",
       "      <td>0</td>\n",
       "    </tr>\n",
       "    <tr>\n",
       "      <th>Belgium</th>\n",
       "      <td>1</td>\n",
       "      <td>0</td>\n",
       "    </tr>\n",
       "    <tr>\n",
       "      <th>Brazil</th>\n",
       "      <td>1</td>\n",
       "      <td>0</td>\n",
       "    </tr>\n",
       "    <tr>\n",
       "      <th>Federal Republic of Germany</th>\n",
       "      <td>1</td>\n",
       "      <td>0</td>\n",
       "    </tr>\n",
       "    <tr>\n",
       "      <th>Finland</th>\n",
       "      <td>1</td>\n",
       "      <td>0</td>\n",
       "    </tr>\n",
       "    <tr>\n",
       "      <th>Great Britain</th>\n",
       "      <td>3</td>\n",
       "      <td>0</td>\n",
       "    </tr>\n",
       "    <tr>\n",
       "      <th>Greece</th>\n",
       "      <td>2</td>\n",
       "      <td>0</td>\n",
       "    </tr>\n",
       "    <tr>\n",
       "      <th>Mexico</th>\n",
       "      <td>1</td>\n",
       "      <td>0</td>\n",
       "    </tr>\n",
       "    <tr>\n",
       "      <th>Netherlands</th>\n",
       "      <td>1</td>\n",
       "      <td>0</td>\n",
       "    </tr>\n",
       "    <tr>\n",
       "      <th>Spain</th>\n",
       "      <td>1</td>\n",
       "      <td>0</td>\n",
       "    </tr>\n",
       "    <tr>\n",
       "      <th>Sweden</th>\n",
       "      <td>1</td>\n",
       "      <td>0</td>\n",
       "    </tr>\n",
       "    <tr>\n",
       "      <th>USSR</th>\n",
       "      <td>1</td>\n",
       "      <td>0</td>\n",
       "    </tr>\n",
       "  </tbody>\n",
       "</table>\n",
       "</div>"
      ],
      "text/plain": [
       "game_season                  Summer  Winter\n",
       "game_location                              \n",
       "Australia                         1       0\n",
       "Australia and Sweden              1       0\n",
       "Belgium                           1       0\n",
       "Brazil                            1       0\n",
       "Federal Republic of Germany       1       0\n",
       "Finland                           1       0\n",
       "Great Britain                     3       0\n",
       "Greece                            2       0\n",
       "Mexico                            1       0\n",
       "Netherlands                       1       0\n",
       "Spain                             1       0\n",
       "Sweden                            1       0\n",
       "USSR                              1       0"
      ]
     },
     "execution_count": 48,
     "metadata": {},
     "output_type": "execute_result"
    }
   ],
   "source": [
    "# Countries that only hosted in the Summer only (13 countries)\n",
    "# Australia, Australia and Sweden, Belgium, Brazil, \n",
    "# Federal Republic of Germany, Finland, Great Britain, Greece\n",
    "# Mexico, Netherlands, Spain, Sweden, and USSR\n",
    "\n",
    "summer_hosts = hosts_per_season.loc[(hosts_per_season['Summer'] >= 1) & (hosts_per_season['Winter'] < 1)]\n",
    "summer_hosts"
   ]
  },
  {
   "cell_type": "code",
   "execution_count": 49,
   "id": "cd516676-4a0b-4078-aa7e-db63b6ea15ac",
   "metadata": {
    "tags": []
   },
   "outputs": [
    {
     "data": {
      "text/html": [
       "<div>\n",
       "<style scoped>\n",
       "    .dataframe tbody tr th:only-of-type {\n",
       "        vertical-align: middle;\n",
       "    }\n",
       "\n",
       "    .dataframe tbody tr th {\n",
       "        vertical-align: top;\n",
       "    }\n",
       "\n",
       "    .dataframe thead th {\n",
       "        text-align: right;\n",
       "    }\n",
       "</style>\n",
       "<table border=\"1\" class=\"dataframe\">\n",
       "  <thead>\n",
       "    <tr style=\"text-align: right;\">\n",
       "      <th>game_season</th>\n",
       "      <th>Summer</th>\n",
       "      <th>Winter</th>\n",
       "    </tr>\n",
       "    <tr>\n",
       "      <th>game_location</th>\n",
       "      <th></th>\n",
       "      <th></th>\n",
       "    </tr>\n",
       "  </thead>\n",
       "  <tbody>\n",
       "    <tr>\n",
       "      <th>Austria</th>\n",
       "      <td>0</td>\n",
       "      <td>2</td>\n",
       "    </tr>\n",
       "    <tr>\n",
       "      <th>Norway</th>\n",
       "      <td>0</td>\n",
       "      <td>2</td>\n",
       "    </tr>\n",
       "    <tr>\n",
       "      <th>Russian Federation</th>\n",
       "      <td>0</td>\n",
       "      <td>1</td>\n",
       "    </tr>\n",
       "    <tr>\n",
       "      <th>Switzerland</th>\n",
       "      <td>0</td>\n",
       "      <td>2</td>\n",
       "    </tr>\n",
       "    <tr>\n",
       "      <th>Yugoslavia</th>\n",
       "      <td>0</td>\n",
       "      <td>1</td>\n",
       "    </tr>\n",
       "  </tbody>\n",
       "</table>\n",
       "</div>"
      ],
      "text/plain": [
       "game_season         Summer  Winter\n",
       "game_location                     \n",
       "Austria                  0       2\n",
       "Norway                   0       2\n",
       "Russian Federation       0       1\n",
       "Switzerland              0       2\n",
       "Yugoslavia               0       1"
      ]
     },
     "execution_count": 49,
     "metadata": {},
     "output_type": "execute_result"
    }
   ],
   "source": [
    "# Countries that only hosted in the Winter (5 countries)\n",
    "# Austria, Norway, Russian Federation, Switzerland, and Yugoslavia\n",
    "\n",
    "winter_hosts = hosts_per_season.loc[(hosts_per_season['Summer'] < 1) & (hosts_per_season['Winter'] >= 1)]\n",
    "winter_hosts"
   ]
  },
  {
   "cell_type": "code",
   "execution_count": null,
   "id": "65b229fd-a296-402b-8d35-dab8666f1483",
   "metadata": {},
   "outputs": [],
   "source": []
  },
  {
   "cell_type": "code",
   "execution_count": 50,
   "id": "63ac3cb7-e499-410b-93c4-13aa6fb16d23",
   "metadata": {
    "tags": []
   },
   "outputs": [
    {
     "data": {
      "text/html": [
       "<div>\n",
       "<style scoped>\n",
       "    .dataframe tbody tr th:only-of-type {\n",
       "        vertical-align: middle;\n",
       "    }\n",
       "\n",
       "    .dataframe tbody tr th {\n",
       "        vertical-align: top;\n",
       "    }\n",
       "\n",
       "    .dataframe thead th {\n",
       "        text-align: right;\n",
       "    }\n",
       "</style>\n",
       "<table border=\"1\" class=\"dataframe\">\n",
       "  <thead>\n",
       "    <tr style=\"text-align: right;\">\n",
       "      <th>game_season</th>\n",
       "      <th>Summer</th>\n",
       "      <th>Winter</th>\n",
       "    </tr>\n",
       "    <tr>\n",
       "      <th>game_location</th>\n",
       "      <th></th>\n",
       "      <th></th>\n",
       "    </tr>\n",
       "  </thead>\n",
       "  <tbody>\n",
       "    <tr>\n",
       "      <th>Canada</th>\n",
       "      <td>1</td>\n",
       "      <td>2</td>\n",
       "    </tr>\n",
       "    <tr>\n",
       "      <th>China</th>\n",
       "      <td>1</td>\n",
       "      <td>1</td>\n",
       "    </tr>\n",
       "    <tr>\n",
       "      <th>France</th>\n",
       "      <td>2</td>\n",
       "      <td>3</td>\n",
       "    </tr>\n",
       "    <tr>\n",
       "      <th>Germany</th>\n",
       "      <td>1</td>\n",
       "      <td>1</td>\n",
       "    </tr>\n",
       "    <tr>\n",
       "      <th>Italy</th>\n",
       "      <td>1</td>\n",
       "      <td>2</td>\n",
       "    </tr>\n",
       "    <tr>\n",
       "      <th>Japan</th>\n",
       "      <td>2</td>\n",
       "      <td>2</td>\n",
       "    </tr>\n",
       "    <tr>\n",
       "      <th>Republic of Korea</th>\n",
       "      <td>1</td>\n",
       "      <td>1</td>\n",
       "    </tr>\n",
       "    <tr>\n",
       "      <th>United States</th>\n",
       "      <td>4</td>\n",
       "      <td>4</td>\n",
       "    </tr>\n",
       "  </tbody>\n",
       "</table>\n",
       "</div>"
      ],
      "text/plain": [
       "game_season        Summer  Winter\n",
       "game_location                    \n",
       "Canada                  1       2\n",
       "China                   1       1\n",
       "France                  2       3\n",
       "Germany                 1       1\n",
       "Italy                   1       2\n",
       "Japan                   2       2\n",
       "Republic of Korea       1       1\n",
       "United States           4       4"
      ]
     },
     "execution_count": 50,
     "metadata": {},
     "output_type": "execute_result"
    }
   ],
   "source": [
    "# Countries that only hosted in both seasons (8 Countries)\n",
    "# Canada, China, France, Germany, Italy, Japan, Republic of Korea, United States\n",
    "\n",
    "both_season_hosts = hosts_per_season.loc[(hosts_per_season['Summer'] >= 1) & (hosts_per_season['Winter'] >= 1)]\n",
    "both_season_hosts"
   ]
  },
  {
   "cell_type": "code",
   "execution_count": 119,
   "id": "c4c53016-ea4f-4d0c-93e8-57398f2678e3",
   "metadata": {
    "tags": []
   },
   "outputs": [
    {
     "data": {
      "image/png": "[encoded data removed]",
      "text/plain": [
       "<Figure size 2200x1500 with 4 Axes>"
      ]
     },
     "metadata": {},
     "output_type": "display_data"
    }
   ],
   "source": [
    "fig, axs = plt.subplots(2, 2, figsize = (22, 15))\n",
    "\n",
    "winter_hosts['Winter'].plot.barh(ax = axs[0][0],\n",
    "                                 color = \"#26de81\",\n",
    "                                 fontsize = 14)\n",
    "axs[0][0].set_title(\"Countries that hosted only in Winter\", fontsize = 16, color = 'red')\n",
    "axs[0][0].set_ylabel('country', fontsize = 15)\n",
    "axs[0][0].set_xticks([0.00, 0.25, 0.5, 0.75, 1.00, 1.25, 1.50, 1.75, 2.00],\n",
    "          labels = ['', '', '', '', '1', '', '', '', '2'], fontsize = 13)\n",
    "\n",
    "\n",
    "summer_hosts['Summer'].plot.barh(ax = axs[0][1],\n",
    "                                 color = \"#fd9644\",\n",
    "                                 fontsize = 14)\n",
    "axs[0][1].set_title(\"Countries that hosted only in Summer\", fontsize = 16, color = 'red')\n",
    "axs[0][1].set_ylabel('')\n",
    "axs[0][1].set_xticks([0.00, 0.25, 0.5, 0.75, 1.00, 1.25, 1.50, 1.75, 2.00, 2.25, 2.50, 2.75, 3.00],\n",
    "          labels = ['', '', '', '', '1', '', '', '', '2', '', '', '', '3'], fontsize = 13)\n",
    "\n",
    "\n",
    "both_season_hosts.plot.barh(ax = axs[1][0],\n",
    "                            fontsize = 14)\n",
    "axs[1][0].set_title(\"Countries that have hosted in both Seasons\", fontsize = 16, color = 'red')\n",
    "axs[1][0].set_xlabel('How many times each country hosted', fontsize = 15)\n",
    "axs[1][0].set_ylabel('country', fontsize = 15)\n",
    "axs[1][0].set_xticks([0.00, 0.25, 0.5, 0.75, 1.00, 1.25, 1.50, 1.75, 2.00, 2.25, 2.50, 2.75, 3.00, 3.25, 3.50, 3.75, 4.00],\n",
    "          labels = ['', '', '', '', '1', '', '', '', '2', '', '', '', '3', '', '', '', '4'], fontsize = 13)\n",
    "axs[1][0].legend(fontsize = 15)\n",
    "\n",
    "\n",
    "hosts_per_season.plot.barh(ax = axs[1][1],\n",
    "                           fontsize = 14)\n",
    "axs[1][1].set_title(\"All host Countries and Seasons\", fontsize = 16, color = 'red')\n",
    "axs[1][1].set_xlabel('How many times each country hosted', fontsize = 15)\n",
    "axs[1][1].set_ylabel('')\n",
    "axs[1][1].set_xticks([0.00, 0.25, 0.5, 0.75, 1.00, 1.25, 1.50, 1.75, 2.00, 2.25, 2.50, 2.75, 3.00, 3.25, 3.50, 3.75, 4.00],\n",
    "          labels = ['', '', '', '', '1', '', '', '', '2', '', '', '', '3', '', '', '', '4'], fontsize = 13)\n",
    "axs[1][1].legend(fontsize = 15)\n",
    "\n",
    "plt.suptitle(\"Olympics Games Hosted Per Country (By Seasons)\", fontsize = 30, color = 'purple')\n",
    "plt.tight_layout()\n",
    "plt.show()"
   ]
  },
  {
   "cell_type": "code",
   "execution_count": null,
   "id": "b2fae6bb-5eff-4e7b-9895-bf71c6597a58",
   "metadata": {},
   "outputs": [],
   "source": []
  },
  {
   "cell_type": "markdown",
   "id": "d51aa54c-b0e7-4fc3-af55-ad15048d4cbf",
   "metadata": {
    "jp-MarkdownHeadingCollapsed": true,
    "tags": []
   },
   "source": [
    "## 6) The Longest period Olympics games held and host country"
   ]
  },
  {
   "cell_type": "code",
   "execution_count": 52,
   "id": "c5696133-7851-4df2-888b-a409c6e7989c",
   "metadata": {
    "tags": []
   },
   "outputs": [
    {
     "data": {
      "text/html": [
       "<div>\n",
       "<style scoped>\n",
       "    .dataframe tbody tr th:only-of-type {\n",
       "        vertical-align: middle;\n",
       "    }\n",
       "\n",
       "    .dataframe tbody tr th {\n",
       "        vertical-align: top;\n",
       "    }\n",
       "\n",
       "    .dataframe thead th {\n",
       "        text-align: right;\n",
       "    }\n",
       "</style>\n",
       "<table border=\"1\" class=\"dataframe\">\n",
       "  <thead>\n",
       "    <tr style=\"text-align: right;\">\n",
       "      <th></th>\n",
       "      <th>game_slug</th>\n",
       "      <th>game_end_date</th>\n",
       "      <th>game_start_date</th>\n",
       "      <th>game_location</th>\n",
       "      <th>game_name</th>\n",
       "      <th>game_season</th>\n",
       "      <th>game_year</th>\n",
       "      <th>duration</th>\n",
       "    </tr>\n",
       "  </thead>\n",
       "  <tbody>\n",
       "    <tr>\n",
       "      <th>49</th>\n",
       "      <td>london-1908</td>\n",
       "      <td>1908-10-31 20:09:00+00:00</td>\n",
       "      <td>1908-04-27 08:00:00+00:00</td>\n",
       "      <td>Great Britain</td>\n",
       "      <td>London 1908</td>\n",
       "      <td>Summer</td>\n",
       "      <td>1908</td>\n",
       "      <td>187 days 12:09:00</td>\n",
       "    </tr>\n",
       "  </tbody>\n",
       "</table>\n",
       "</div>"
      ],
      "text/plain": [
       "      game_slug             game_end_date           game_start_date  \\\n",
       "49  london-1908 1908-10-31 20:09:00+00:00 1908-04-27 08:00:00+00:00   \n",
       "\n",
       "    game_location    game_name game_season  game_year          duration  \n",
       "49  Great Britain  London 1908      Summer       1908 187 days 12:09:00  "
      ]
     },
     "execution_count": 52,
     "metadata": {},
     "output_type": "execute_result"
    }
   ],
   "source": [
    "# London 1908 olympics held for 187 days in great britain\n",
    "\n",
    "hosts.sort_values('duration', ascending = False).head(1)"
   ]
  },
  {
   "cell_type": "code",
   "execution_count": null,
   "id": "e8dda301-f1dd-45e2-bc8a-e49de99ab866",
   "metadata": {},
   "outputs": [],
   "source": []
  },
  {
   "cell_type": "markdown",
   "id": "fde1602e-5c95-4cc4-9a79-9a7e447ba4ce",
   "metadata": {
    "jp-MarkdownHeadingCollapsed": true,
    "tags": []
   },
   "source": [
    "## 7) The shortest period Olympics games held and host country"
   ]
  },
  {
   "cell_type": "code",
   "execution_count": 53,
   "id": "e47daed5-4685-4b0c-869b-b19f2d7f9f09",
   "metadata": {
    "tags": []
   },
   "outputs": [
    {
     "data": {
      "text/html": [
       "<div>\n",
       "<style scoped>\n",
       "    .dataframe tbody tr th:only-of-type {\n",
       "        vertical-align: middle;\n",
       "    }\n",
       "\n",
       "    .dataframe tbody tr th {\n",
       "        vertical-align: top;\n",
       "    }\n",
       "\n",
       "    .dataframe thead th {\n",
       "        text-align: right;\n",
       "    }\n",
       "</style>\n",
       "<table border=\"1\" class=\"dataframe\">\n",
       "  <thead>\n",
       "    <tr style=\"text-align: right;\">\n",
       "      <th></th>\n",
       "      <th>game_slug</th>\n",
       "      <th>game_end_date</th>\n",
       "      <th>game_start_date</th>\n",
       "      <th>game_location</th>\n",
       "      <th>game_name</th>\n",
       "      <th>game_season</th>\n",
       "      <th>game_year</th>\n",
       "      <th>duration</th>\n",
       "    </tr>\n",
       "  </thead>\n",
       "  <tbody>\n",
       "    <tr>\n",
       "      <th>44</th>\n",
       "      <td>st-moritz-1928</td>\n",
       "      <td>1928-02-19 08:00:00+00:00</td>\n",
       "      <td>1928-02-11 08:00:00+00:00</td>\n",
       "      <td>Switzerland</td>\n",
       "      <td>St. Moritz 1928</td>\n",
       "      <td>Winter</td>\n",
       "      <td>1928</td>\n",
       "      <td>8 days</td>\n",
       "    </tr>\n",
       "  </tbody>\n",
       "</table>\n",
       "</div>"
      ],
      "text/plain": [
       "         game_slug             game_end_date           game_start_date  \\\n",
       "44  st-moritz-1928 1928-02-19 08:00:00+00:00 1928-02-11 08:00:00+00:00   \n",
       "\n",
       "   game_location        game_name game_season  game_year duration  \n",
       "44   Switzerland  St. Moritz 1928      Winter       1928   8 days  "
      ]
     },
     "execution_count": 53,
     "metadata": {},
     "output_type": "execute_result"
    }
   ],
   "source": [
    "# St. Moritz 1928 olympics held for 8 days in Switzerland\n",
    "\n",
    "hosts.sort_values('duration', ascending = False).tail(1)"
   ]
  },
  {
   "cell_type": "code",
   "execution_count": null,
   "id": "313ea7fd-0f92-4df1-bf78-ac6fe4775c10",
   "metadata": {},
   "outputs": [],
   "source": []
  },
  {
   "cell_type": "markdown",
   "id": "11b25c04-7fdd-4760-bc9b-ee6c3b4f4d4a",
   "metadata": {
    "jp-MarkdownHeadingCollapsed": true,
    "tags": []
   },
   "source": [
    "## 8) Olympics games duration Overtime (Trend)"
   ]
  },
  {
   "cell_type": "code",
   "execution_count": 54,
   "id": "287715b5-651a-4064-a8d7-90b44c540450",
   "metadata": {
    "tags": []
   },
   "outputs": [
    {
     "data": {
      "image/png": "[encoded data removed]",
      "text/plain": [
       "<Figure size 1200x1000 with 1 Axes>"
      ]
     },
     "metadata": {},
     "output_type": "display_data"
    }
   ],
   "source": [
    "plt.figure(figsize=(12, 10))\n",
    "plt.style.use('default')\n",
    "plt.style.use('seaborn-v0_8-whitegrid')\n",
    "\n",
    "plt.plot(hosts['game_year'], hosts['duration'].dt.days, marker='o', linestyle='-', color='b')\n",
    "\n",
    "plt.annotate('Olympic games completed under 20 days', \n",
    "             xy=(2022, 27), \n",
    "             xytext=(1958, 22), fontsize = 14, color = 'green')\n",
    "\n",
    "plt.annotate('', \n",
    "             xy=(2022, 20), \n",
    "             xytext=(1932, 20),\n",
    "             arrowprops=dict(arrowstyle='<->', color='black'))\n",
    "\n",
    "plt.xlabel('Olympic Game Year', fontsize = 12)\n",
    "plt.ylabel('Duration (days)', fontsize = 12)\n",
    "plt.title('Duration of Olympic Games Over Time', fontsize = 15, color = 'purple')\n",
    "plt.show()"
   ]
  },
  {
   "cell_type": "markdown",
   "id": "4b62f8c4-a2a8-4d88-8def-735f058a936a",
   "metadata": {
    "tags": []
   },
   "source": [
    "###### Answer\n",
    "\n",
    "###### After Year 1930, Olympic games has always been completed under 20 days `(Check - Duration of Olympic Games Over Time image above)`"
   ]
  },
  {
   "cell_type": "code",
   "execution_count": 55,
   "id": "5ca278ab-b89e-4865-b26e-43a26d676c0c",
   "metadata": {
    "tags": []
   },
   "outputs": [
    {
     "data": {
      "text/plain": [
       "Timedelta('17 days 12:00:00')"
      ]
     },
     "execution_count": 55,
     "metadata": {},
     "output_type": "execute_result"
    }
   ],
   "source": [
    "# Proof\n",
    "\n",
    "hosts.loc[hosts['game_year'] > 1930]['duration'].max()"
   ]
  },
  {
   "cell_type": "code",
   "execution_count": null,
   "id": "27ade775-db4e-4d8c-98a9-c464a4319dcd",
   "metadata": {},
   "outputs": [],
   "source": []
  },
  {
   "cell_type": "markdown",
   "id": "ad4e8bf0-caeb-4a14-b50c-26cd321472a6",
   "metadata": {
    "jp-MarkdownHeadingCollapsed": true,
    "tags": []
   },
   "source": [
    "## 9) What is the total number of athletes who have participated in the Olympics each year?"
   ]
  },
  {
   "cell_type": "code",
   "execution_count": 56,
   "id": "f3219e0f-ee54-4808-ada3-2a1049e53b72",
   "metadata": {
    "tags": []
   },
   "outputs": [
    {
     "data": {
      "text/plain": [
       "array(['Mari EDER', 'Roberts SLOTINS', 'Oussama MELLOULI',\n",
       "       'Cathal DANIELS', 'Klemen BAUER', 'Julian EBERHARD',\n",
       "       'Antonin GUIGONNAT', 'George BUTA', 'Jeremy FINELLO',\n",
       "       'Andrejs RASTORGUJEVS', 'Tomas HASILLA', 'Ho Jun KIM',\n",
       "       'Walid MOHAMED', 'Evgeniy GARANICHEV', 'Wei YANG', 'Luis MARTINEZ',\n",
       "       'Mohamed HASSAN', 'James SHAW', 'Jerzy PAWLOWSKI',\n",
       "       'William BRADLEY', 'John GRAY', 'Samuel MELLOR'], dtype=object)"
      ]
     },
     "execution_count": 56,
     "metadata": {},
     "output_type": "execute_result"
    }
   ],
   "source": [
    "# Athletes with no game participation (22 Athletes)\n",
    "\n",
    "athletes.loc[athletes['games_participations'] == 0]['athlete_full_name'].unique()"
   ]
  },
  {
   "cell_type": "code",
   "execution_count": 57,
   "id": "c2c5ea4a-fefb-46ed-bc42-5b2351c6c5da",
   "metadata": {
    "tags": []
   },
   "outputs": [
    {
     "data": {
      "text/html": [
       "<div>\n",
       "<style scoped>\n",
       "    .dataframe tbody tr th:only-of-type {\n",
       "        vertical-align: middle;\n",
       "    }\n",
       "\n",
       "    .dataframe tbody tr th {\n",
       "        vertical-align: top;\n",
       "    }\n",
       "\n",
       "    .dataframe thead th {\n",
       "        text-align: right;\n",
       "    }\n",
       "</style>\n",
       "<table border=\"1\" class=\"dataframe\">\n",
       "  <thead>\n",
       "    <tr style=\"text-align: right;\">\n",
       "      <th></th>\n",
       "      <th>athlete_url</th>\n",
       "      <th>athlete_full_name</th>\n",
       "      <th>games_participations</th>\n",
       "      <th>first_game</th>\n",
       "      <th>athlete_year_birth</th>\n",
       "      <th>game_year</th>\n",
       "      <th>age</th>\n",
       "    </tr>\n",
       "  </thead>\n",
       "  <tbody>\n",
       "    <tr>\n",
       "      <th>0</th>\n",
       "      <td>https://olympics.com/en/athletes/cooper-woods-...</td>\n",
       "      <td>Cooper WOODS-TOPALOVIC</td>\n",
       "      <td>1</td>\n",
       "      <td>Beijing 2022</td>\n",
       "      <td>2000.0</td>\n",
       "      <td>2022.0</td>\n",
       "      <td>22.0</td>\n",
       "    </tr>\n",
       "    <tr>\n",
       "      <th>1</th>\n",
       "      <td>https://olympics.com/en/athletes/elofsson</td>\n",
       "      <td>Felix ELOFSSON</td>\n",
       "      <td>2</td>\n",
       "      <td>PyeongChang 2018</td>\n",
       "      <td>1995.0</td>\n",
       "      <td>2018.0</td>\n",
       "      <td>23.0</td>\n",
       "    </tr>\n",
       "    <tr>\n",
       "      <th>2</th>\n",
       "      <td>https://olympics.com/en/athletes/dylan-walczyk</td>\n",
       "      <td>Dylan WALCZYK</td>\n",
       "      <td>1</td>\n",
       "      <td>Beijing 2022</td>\n",
       "      <td>1993.0</td>\n",
       "      <td>2022.0</td>\n",
       "      <td>29.0</td>\n",
       "    </tr>\n",
       "    <tr>\n",
       "      <th>3</th>\n",
       "      <td>https://olympics.com/en/athletes/olli-penttala</td>\n",
       "      <td>Olli PENTTALA</td>\n",
       "      <td>1</td>\n",
       "      <td>Beijing 2022</td>\n",
       "      <td>1995.0</td>\n",
       "      <td>2022.0</td>\n",
       "      <td>27.0</td>\n",
       "    </tr>\n",
       "    <tr>\n",
       "      <th>4</th>\n",
       "      <td>https://olympics.com/en/athletes/reikherd</td>\n",
       "      <td>Dmitriy REIKHERD</td>\n",
       "      <td>1</td>\n",
       "      <td>Beijing 2022</td>\n",
       "      <td>1989.0</td>\n",
       "      <td>2022.0</td>\n",
       "      <td>33.0</td>\n",
       "    </tr>\n",
       "    <tr>\n",
       "      <th>...</th>\n",
       "      <td>...</td>\n",
       "      <td>...</td>\n",
       "      <td>...</td>\n",
       "      <td>...</td>\n",
       "      <td>...</td>\n",
       "      <td>...</td>\n",
       "      <td>...</td>\n",
       "    </tr>\n",
       "    <tr>\n",
       "      <th>75899</th>\n",
       "      <td>https://olympics.com/en/athletes/douglas-weigle</td>\n",
       "      <td>Douglas WEIGLE</td>\n",
       "      <td>1</td>\n",
       "      <td>Innsbruck 1976</td>\n",
       "      <td>1955.0</td>\n",
       "      <td>1976.0</td>\n",
       "      <td>21.0</td>\n",
       "    </tr>\n",
       "    <tr>\n",
       "      <th>75900</th>\n",
       "      <td>https://olympics.com/en/athletes/stefania-bertele</td>\n",
       "      <td>Stefania BERTELE</td>\n",
       "      <td>1</td>\n",
       "      <td>Innsbruck 1976</td>\n",
       "      <td>1957.0</td>\n",
       "      <td>1976.0</td>\n",
       "      <td>19.0</td>\n",
       "    </tr>\n",
       "    <tr>\n",
       "      <th>75901</th>\n",
       "      <td>https://olympics.com/en/athletes/walter-cecconi</td>\n",
       "      <td>Walter CECCONI</td>\n",
       "      <td>1</td>\n",
       "      <td>Innsbruck 1976</td>\n",
       "      <td>1957.0</td>\n",
       "      <td>1976.0</td>\n",
       "      <td>19.0</td>\n",
       "    </tr>\n",
       "    <tr>\n",
       "      <th>75902</th>\n",
       "      <td>https://olympics.com/en/athletes/susan-kelley</td>\n",
       "      <td>Susan KELLEY</td>\n",
       "      <td>1</td>\n",
       "      <td>Innsbruck 1976</td>\n",
       "      <td>1954.0</td>\n",
       "      <td>1976.0</td>\n",
       "      <td>22.0</td>\n",
       "    </tr>\n",
       "    <tr>\n",
       "      <th>75903</th>\n",
       "      <td>https://olympics.com/en/athletes/andrew-stroukoff</td>\n",
       "      <td>Andrew STROUKOFF</td>\n",
       "      <td>1</td>\n",
       "      <td>Innsbruck 1976</td>\n",
       "      <td>1960.0</td>\n",
       "      <td>1976.0</td>\n",
       "      <td>16.0</td>\n",
       "    </tr>\n",
       "  </tbody>\n",
       "</table>\n",
       "<p>75882 rows × 7 columns</p>\n",
       "</div>"
      ],
      "text/plain": [
       "                                             athlete_url  \\\n",
       "0      https://olympics.com/en/athletes/cooper-woods-...   \n",
       "1              https://olympics.com/en/athletes/elofsson   \n",
       "2         https://olympics.com/en/athletes/dylan-walczyk   \n",
       "3         https://olympics.com/en/athletes/olli-penttala   \n",
       "4              https://olympics.com/en/athletes/reikherd   \n",
       "...                                                  ...   \n",
       "75899    https://olympics.com/en/athletes/douglas-weigle   \n",
       "75900  https://olympics.com/en/athletes/stefania-bertele   \n",
       "75901    https://olympics.com/en/athletes/walter-cecconi   \n",
       "75902      https://olympics.com/en/athletes/susan-kelley   \n",
       "75903  https://olympics.com/en/athletes/andrew-stroukoff   \n",
       "\n",
       "            athlete_full_name  games_participations        first_game  \\\n",
       "0      Cooper WOODS-TOPALOVIC                     1      Beijing 2022   \n",
       "1              Felix ELOFSSON                     2  PyeongChang 2018   \n",
       "2               Dylan WALCZYK                     1      Beijing 2022   \n",
       "3               Olli PENTTALA                     1      Beijing 2022   \n",
       "4            Dmitriy REIKHERD                     1      Beijing 2022   \n",
       "...                       ...                   ...               ...   \n",
       "75899          Douglas WEIGLE                     1    Innsbruck 1976   \n",
       "75900        Stefania BERTELE                     1    Innsbruck 1976   \n",
       "75901          Walter CECCONI                     1    Innsbruck 1976   \n",
       "75902            Susan KELLEY                     1    Innsbruck 1976   \n",
       "75903        Andrew STROUKOFF                     1    Innsbruck 1976   \n",
       "\n",
       "       athlete_year_birth  game_year   age  \n",
       "0                  2000.0     2022.0  22.0  \n",
       "1                  1995.0     2018.0  23.0  \n",
       "2                  1993.0     2022.0  29.0  \n",
       "3                  1995.0     2022.0  27.0  \n",
       "4                  1989.0     2022.0  33.0  \n",
       "...                   ...        ...   ...  \n",
       "75899              1955.0     1976.0  21.0  \n",
       "75900              1957.0     1976.0  19.0  \n",
       "75901              1957.0     1976.0  19.0  \n",
       "75902              1954.0     1976.0  22.0  \n",
       "75903              1960.0     1976.0  16.0  \n",
       "\n",
       "[75882 rows x 7 columns]"
      ]
     },
     "execution_count": 57,
     "metadata": {},
     "output_type": "execute_result"
    }
   ],
   "source": [
    "# Athletes with atleast 1 game participation\n",
    "\n",
    "part_athletes = athletes.loc[~(athletes['games_participations'] == 0)]\n",
    "part_athletes"
   ]
  },
  {
   "cell_type": "code",
   "execution_count": 58,
   "id": "07825bc5-c879-4581-ae61-c1b57e560e9a",
   "metadata": {
    "tags": []
   },
   "outputs": [
    {
     "name": "stderr",
     "output_type": "stream",
     "text": [
      "C:\\Users\\SIRE KINGING\\AppData\\Local\\Temp\\ipykernel_11136\\332724815.py:3: SettingWithCopyWarning: \n",
      "A value is trying to be set on a copy of a slice from a DataFrame.\n",
      "Try using .loc[row_indexer,col_indexer] = value instead\n",
      "\n",
      "See the caveats in the documentation: https://pandas.pydata.org/pandas-docs/stable/user_guide/indexing.html#returning-a-view-versus-a-copy\n",
      "  part_athletes['game_year'] = part_athletes['game_year'].astype('int')\n"
     ]
    }
   ],
   "source": [
    "# Changing selected column datatype (game_year)\n",
    "\n",
    "part_athletes['game_year'] = part_athletes['game_year'].astype('int')"
   ]
  },
  {
   "cell_type": "code",
   "execution_count": 59,
   "id": "5457752a-6e51-4cb8-a04d-6154f9344bea",
   "metadata": {
    "tags": []
   },
   "outputs": [
    {
     "name": "stdout",
     "output_type": "stream",
     "text": [
      "<class 'pandas.core.frame.DataFrame'>\n",
      "Int64Index: 75882 entries, 0 to 75903\n",
      "Data columns (total 7 columns):\n",
      " #   Column                Non-Null Count  Dtype  \n",
      "---  ------                --------------  -----  \n",
      " 0   athlete_url           75882 non-null  object \n",
      " 1   athlete_full_name     75882 non-null  object \n",
      " 2   games_participations  75882 non-null  int64  \n",
      " 3   first_game            75882 non-null  object \n",
      " 4   athlete_year_birth    73429 non-null  float64\n",
      " 5   game_year             75882 non-null  int32  \n",
      " 6   age                   73429 non-null  float64\n",
      "dtypes: float64(2), int32(1), int64(1), object(3)\n",
      "memory usage: 4.3+ MB\n"
     ]
    }
   ],
   "source": [
    "part_athletes.info()"
   ]
  },
  {
   "cell_type": "code",
   "execution_count": 60,
   "id": "53c253c8-1e39-4cda-9de1-5a06ba8fb998",
   "metadata": {
    "tags": []
   },
   "outputs": [
    {
     "data": {
      "text/html": [
       "<div>\n",
       "<style scoped>\n",
       "    .dataframe tbody tr th:only-of-type {\n",
       "        vertical-align: middle;\n",
       "    }\n",
       "\n",
       "    .dataframe tbody tr th {\n",
       "        vertical-align: top;\n",
       "    }\n",
       "\n",
       "    .dataframe thead th {\n",
       "        text-align: right;\n",
       "    }\n",
       "</style>\n",
       "<table border=\"1\" class=\"dataframe\">\n",
       "  <thead>\n",
       "    <tr style=\"text-align: right;\">\n",
       "      <th></th>\n",
       "      <th>athlete_count</th>\n",
       "    </tr>\n",
       "    <tr>\n",
       "      <th>game_year</th>\n",
       "      <th></th>\n",
       "    </tr>\n",
       "  </thead>\n",
       "  <tbody>\n",
       "    <tr>\n",
       "      <th>1896</th>\n",
       "      <td>111</td>\n",
       "    </tr>\n",
       "    <tr>\n",
       "      <th>1900</th>\n",
       "      <td>346</td>\n",
       "    </tr>\n",
       "    <tr>\n",
       "      <th>1904</th>\n",
       "      <td>344</td>\n",
       "    </tr>\n",
       "    <tr>\n",
       "      <th>1908</th>\n",
       "      <td>749</td>\n",
       "    </tr>\n",
       "    <tr>\n",
       "      <th>1912</th>\n",
       "      <td>831</td>\n",
       "    </tr>\n",
       "    <tr>\n",
       "      <th>1920</th>\n",
       "      <td>835</td>\n",
       "    </tr>\n",
       "    <tr>\n",
       "      <th>1924</th>\n",
       "      <td>1047</td>\n",
       "    </tr>\n",
       "    <tr>\n",
       "      <th>1928</th>\n",
       "      <td>814</td>\n",
       "    </tr>\n",
       "    <tr>\n",
       "      <th>1932</th>\n",
       "      <td>686</td>\n",
       "    </tr>\n",
       "    <tr>\n",
       "      <th>1936</th>\n",
       "      <td>1731</td>\n",
       "    </tr>\n",
       "    <tr>\n",
       "      <th>1948</th>\n",
       "      <td>1893</td>\n",
       "    </tr>\n",
       "    <tr>\n",
       "      <th>1952</th>\n",
       "      <td>2067</td>\n",
       "    </tr>\n",
       "    <tr>\n",
       "      <th>1956</th>\n",
       "      <td>1448</td>\n",
       "    </tr>\n",
       "    <tr>\n",
       "      <th>1960</th>\n",
       "      <td>2351</td>\n",
       "    </tr>\n",
       "    <tr>\n",
       "      <th>1964</th>\n",
       "      <td>2282</td>\n",
       "    </tr>\n",
       "    <tr>\n",
       "      <th>1968</th>\n",
       "      <td>2610</td>\n",
       "    </tr>\n",
       "    <tr>\n",
       "      <th>1972</th>\n",
       "      <td>2884</td>\n",
       "    </tr>\n",
       "    <tr>\n",
       "      <th>1976</th>\n",
       "      <td>2688</td>\n",
       "    </tr>\n",
       "    <tr>\n",
       "      <th>1980</th>\n",
       "      <td>2341</td>\n",
       "    </tr>\n",
       "    <tr>\n",
       "      <th>1984</th>\n",
       "      <td>3856</td>\n",
       "    </tr>\n",
       "    <tr>\n",
       "      <th>1988</th>\n",
       "      <td>4379</td>\n",
       "    </tr>\n",
       "    <tr>\n",
       "      <th>1992</th>\n",
       "      <td>4845</td>\n",
       "    </tr>\n",
       "    <tr>\n",
       "      <th>1994</th>\n",
       "      <td>561</td>\n",
       "    </tr>\n",
       "    <tr>\n",
       "      <th>1996</th>\n",
       "      <td>3854</td>\n",
       "    </tr>\n",
       "    <tr>\n",
       "      <th>1998</th>\n",
       "      <td>834</td>\n",
       "    </tr>\n",
       "    <tr>\n",
       "      <th>2000</th>\n",
       "      <td>3738</td>\n",
       "    </tr>\n",
       "    <tr>\n",
       "      <th>2002</th>\n",
       "      <td>927</td>\n",
       "    </tr>\n",
       "    <tr>\n",
       "      <th>2004</th>\n",
       "      <td>3634</td>\n",
       "    </tr>\n",
       "    <tr>\n",
       "      <th>2006</th>\n",
       "      <td>1002</td>\n",
       "    </tr>\n",
       "    <tr>\n",
       "      <th>2008</th>\n",
       "      <td>3934</td>\n",
       "    </tr>\n",
       "    <tr>\n",
       "      <th>2010</th>\n",
       "      <td>1027</td>\n",
       "    </tr>\n",
       "    <tr>\n",
       "      <th>2012</th>\n",
       "      <td>3906</td>\n",
       "    </tr>\n",
       "    <tr>\n",
       "      <th>2014</th>\n",
       "      <td>1164</td>\n",
       "    </tr>\n",
       "    <tr>\n",
       "      <th>2016</th>\n",
       "      <td>4111</td>\n",
       "    </tr>\n",
       "    <tr>\n",
       "      <th>2018</th>\n",
       "      <td>1086</td>\n",
       "    </tr>\n",
       "    <tr>\n",
       "      <th>2020</th>\n",
       "      <td>3832</td>\n",
       "    </tr>\n",
       "    <tr>\n",
       "      <th>2022</th>\n",
       "      <td>1134</td>\n",
       "    </tr>\n",
       "  </tbody>\n",
       "</table>\n",
       "</div>"
      ],
      "text/plain": [
       "           athlete_count\n",
       "game_year               \n",
       "1896                 111\n",
       "1900                 346\n",
       "1904                 344\n",
       "1908                 749\n",
       "1912                 831\n",
       "1920                 835\n",
       "1924                1047\n",
       "1928                 814\n",
       "1932                 686\n",
       "1936                1731\n",
       "1948                1893\n",
       "1952                2067\n",
       "1956                1448\n",
       "1960                2351\n",
       "1964                2282\n",
       "1968                2610\n",
       "1972                2884\n",
       "1976                2688\n",
       "1980                2341\n",
       "1984                3856\n",
       "1988                4379\n",
       "1992                4845\n",
       "1994                 561\n",
       "1996                3854\n",
       "1998                 834\n",
       "2000                3738\n",
       "2002                 927\n",
       "2004                3634\n",
       "2006                1002\n",
       "2008                3934\n",
       "2010                1027\n",
       "2012                3906\n",
       "2014                1164\n",
       "2016                4111\n",
       "2018                1086\n",
       "2020                3832\n",
       "2022                1134"
      ]
     },
     "execution_count": 60,
     "metadata": {},
     "output_type": "execute_result"
    }
   ],
   "source": [
    "# Number of participating athletes per year\n",
    "\n",
    "part_athletes_pyear = part_athletes.groupby('game_year')[['athlete_full_name']].count()\n",
    "part_athletes_pyear = part_athletes_pyear.rename(columns = {'athlete_full_name' : 'athlete_count'})\n",
    "part_athletes_pyear"
   ]
  },
  {
   "cell_type": "code",
   "execution_count": 61,
   "id": "c3023c01-ba64-48ce-8542-f7a2f34f41f8",
   "metadata": {
    "tags": []
   },
   "outputs": [
    {
     "data": {
      "image/png": "[encoded data removed]",
      "text/plain": [
       "<Figure size 1700x1000 with 1 Axes>"
      ]
     },
     "metadata": {},
     "output_type": "display_data"
    }
   ],
   "source": [
    "plt.figure(figsize=(17, 10))\n",
    "\n",
    "sns.countplot(data = part_athletes, x = part_athletes['game_year'].astype('int'), palette = 'magma')\n",
    "\n",
    "plt.xticks(rotation = 45)\n",
    "plt.ylabel('Number of athletes', fontsize = 12)\n",
    "plt.xlabel('Olympic Game Year', fontsize = 12)\n",
    "plt.title('Number of Participating athletes Per Year', fontsize = 15, color = 'purple')\n",
    "plt.show()"
   ]
  },
  {
   "cell_type": "markdown",
   "id": "a3b170e5-c59c-4895-bb20-18efffcd339b",
   "metadata": {},
   "source": [
    "###### Answer\n",
    "\n",
    "###### Olympic games held in 1896, 1900, 1904, 1908, 1912, 1920, 1928, 1932, 1994, 1998, and 2002 had less than 1000 athletes participating\n",
    "\n",
    "###### Olympic games held in 1988, 1992, and 2016 had more than 4000 athletes participating\n",
    "\n",
    "###### 1896 Olympic game has the lowest number of participating athletes in history\n",
    "\n",
    "###### 1992 Olympic game had the highest number of participating athletes in history"
   ]
  },
  {
   "cell_type": "code",
   "execution_count": null,
   "id": "b0a072c2-a970-46d2-a163-b8ba171171b0",
   "metadata": {},
   "outputs": [],
   "source": []
  },
  {
   "cell_type": "markdown",
   "id": "63573e27-97ce-41a5-80a2-cf18d315fbc1",
   "metadata": {
    "jp-MarkdownHeadingCollapsed": true,
    "tags": []
   },
   "source": [
    "## 10) Athlete with the highest number of game participation"
   ]
  },
  {
   "cell_type": "code",
   "execution_count": 62,
   "id": "ba23c558-5550-4484-9567-881dace0447a",
   "metadata": {
    "tags": []
   },
   "outputs": [
    {
     "data": {
      "text/plain": [
       "10"
      ]
     },
     "execution_count": 62,
     "metadata": {},
     "output_type": "execute_result"
    }
   ],
   "source": [
    "athletes['games_participations'].max()"
   ]
  },
  {
   "cell_type": "code",
   "execution_count": 63,
   "id": "a1af21d6-7001-464a-9d91-8b78c1385b02",
   "metadata": {
    "tags": []
   },
   "outputs": [
    {
     "data": {
      "text/html": [
       "<div>\n",
       "<style scoped>\n",
       "    .dataframe tbody tr th:only-of-type {\n",
       "        vertical-align: middle;\n",
       "    }\n",
       "\n",
       "    .dataframe tbody tr th {\n",
       "        vertical-align: top;\n",
       "    }\n",
       "\n",
       "    .dataframe thead th {\n",
       "        text-align: right;\n",
       "    }\n",
       "</style>\n",
       "<table border=\"1\" class=\"dataframe\">\n",
       "  <thead>\n",
       "    <tr style=\"text-align: right;\">\n",
       "      <th></th>\n",
       "      <th>athlete_url</th>\n",
       "      <th>athlete_full_name</th>\n",
       "      <th>games_participations</th>\n",
       "      <th>first_game</th>\n",
       "      <th>athlete_year_birth</th>\n",
       "      <th>game_year</th>\n",
       "      <th>age</th>\n",
       "    </tr>\n",
       "  </thead>\n",
       "  <tbody>\n",
       "    <tr>\n",
       "      <th>13932</th>\n",
       "      <td>https://olympics.com/en/athletes/ian-millar</td>\n",
       "      <td>Ian MILLAR</td>\n",
       "      <td>10</td>\n",
       "      <td>Munich 1972</td>\n",
       "      <td>1947.0</td>\n",
       "      <td>1972.0</td>\n",
       "      <td>25.0</td>\n",
       "    </tr>\n",
       "  </tbody>\n",
       "</table>\n",
       "</div>"
      ],
      "text/plain": [
       "                                       athlete_url athlete_full_name  \\\n",
       "13932  https://olympics.com/en/athletes/ian-millar        Ian MILLAR   \n",
       "\n",
       "       games_participations   first_game  athlete_year_birth  game_year   age  \n",
       "13932                    10  Munich 1972              1947.0     1972.0  25.0  "
      ]
     },
     "execution_count": 63,
     "metadata": {},
     "output_type": "execute_result"
    }
   ],
   "source": [
    "# Ian MILLAR in Munich 1972 Olympic games participated in 10 games\n",
    "\n",
    "athletes.loc[athletes['games_participations'] == 10]"
   ]
  },
  {
   "cell_type": "code",
   "execution_count": null,
   "id": "d8e3aae0-ca34-43bd-a778-c468be88e69b",
   "metadata": {},
   "outputs": [],
   "source": []
  },
  {
   "cell_type": "markdown",
   "id": "4eb69a3b-f70a-4761-bd9c-b983eb45ceaf",
   "metadata": {
    "jp-MarkdownHeadingCollapsed": true,
    "tags": []
   },
   "source": [
    "## 11) All Olympic Sport Games in history"
   ]
  },
  {
   "cell_type": "code",
   "execution_count": 64,
   "id": "a43490d9-c60f-4508-b5f7-fcd38895e70e",
   "metadata": {
    "tags": []
   },
   "outputs": [
    {
     "data": {
      "text/plain": [
       "array(['Curling', 'Freestyle Skiing', 'Short Track Speed Skating',\n",
       "       'Snowboard', 'Ski Jumping', 'Figure skating', 'Luge', 'Ice Hockey',\n",
       "       'Biathlon', 'Alpine Skiing', 'Skeleton', 'Cross Country Skiing',\n",
       "       'Speed skating', 'Nordic Combined', 'Bobsleigh', 'Shooting',\n",
       "       'Diving', 'Canoe Sprint', 'Cycling Road', 'Football', 'Boxing',\n",
       "       'Artistic Swimming', 'Handball', 'Rugby Sevens',\n",
       "       'Cycling BMX Racing', 'Triathlon', 'Surfing', 'Table Tennis',\n",
       "       'Canoe Slalom', 'Marathon Swimming', 'Trampoline Gymnastics',\n",
       "       'Volleyball', 'Basketball', 'Taekwondo', 'Cycling Track',\n",
       "       'Fencing', 'Badminton', 'Water Polo', 'Sport Climbing',\n",
       "       'Wrestling', 'Tennis', 'Artistic Gymnastics', 'Golf',\n",
       "       'Cycling BMX Freestyle', 'Judo', 'Skateboarding', 'Archery',\n",
       "       'Weightlifting', 'Baseball/Softball', 'Equestrian',\n",
       "       'Modern Pentathlon', 'Athletics', 'Swimming', 'Sailing',\n",
       "       'Cycling Mountain Bike', 'Rowing', 'Karate', '3x3 Basketball',\n",
       "       'Rhythmic Gymnastics', 'Hockey', 'Beach Volleyball', 'Short Track',\n",
       "       'Cycling BMX', 'Rugby', 'Gymnastics Rhythmic',\n",
       "       'Equestrian Jumping', 'Gymnastics Artistic',\n",
       "       'Synchronized Swimming', 'Trampoline', 'Equestrian Eventing',\n",
       "       'Equestrian Dressage', 'Baseball', 'Softball', 'Canoe Marathon',\n",
       "       'Polo', 'Military Patrol', 'Tug of War', 'Equestrian  Vaulting',\n",
       "       'Jeu de Paume', 'Water Motorsports', 'Lacrosse', 'Rackets',\n",
       "       'Roque', 'Cricket', 'Croquet', 'Basque Pelota'], dtype=object)"
      ]
     },
     "execution_count": 64,
     "metadata": {},
     "output_type": "execute_result"
    }
   ],
   "source": [
    "# 86 games in history\n",
    "\n",
    "results['discipline_title'].unique()"
   ]
  },
  {
   "cell_type": "code",
   "execution_count": null,
   "id": "783ac58b-a50b-4497-b5e5-cb40e16f3ae2",
   "metadata": {},
   "outputs": [],
   "source": []
  },
  {
   "cell_type": "markdown",
   "id": "37668da9-929b-48a6-8488-fb54b2ff55b2",
   "metadata": {
    "jp-MarkdownHeadingCollapsed": true,
    "tags": []
   },
   "source": [
    "## 12) What are the most common sport(s) in Olympics history"
   ]
  },
  {
   "cell_type": "code",
   "execution_count": 65,
   "id": "866f9455-9c11-40b2-a7d8-26da3f7d5d5a",
   "metadata": {
    "tags": []
   },
   "outputs": [
    {
     "data": {
      "text/plain": [
       "discipline_title\n",
       "Athletics              29\n",
       "Fencing                29\n",
       "Swimming               29\n",
       "Wrestling              28\n",
       "Gymnastics Artistic    28\n",
       "Name: game_year, dtype: int64"
      ]
     },
     "execution_count": 65,
     "metadata": {},
     "output_type": "execute_result"
    }
   ],
   "source": [
    "# The most common games through out Olympic game years are Athletics, Fencing, and Swimming\n",
    "\n",
    "results.groupby('discipline_title')['game_year'].nunique().sort_values(ascending = False).head()"
   ]
  },
  {
   "cell_type": "code",
   "execution_count": null,
   "id": "ae936830-b9e5-4f02-80dd-a272ef39f680",
   "metadata": {},
   "outputs": [],
   "source": []
  },
  {
   "cell_type": "markdown",
   "id": "9947c78e-f637-40e0-ba13-12a76cced371",
   "metadata": {
    "jp-MarkdownHeadingCollapsed": true,
    "tags": []
   },
   "source": [
    "## 13) What is the gender distribution in medal wins across different sports?"
   ]
  },
  {
   "cell_type": "code",
   "execution_count": 66,
   "id": "ed4f2381-f78b-4f82-b86b-2bedb99f0a97",
   "metadata": {
    "tags": []
   },
   "outputs": [
    {
     "data": {
      "text/plain": [
       "Men      13932\n",
       "Women     6323\n",
       "Open       998\n",
       "Mixed      444\n",
       "Name: event_gender, dtype: int64"
      ]
     },
     "execution_count": 66,
     "metadata": {},
     "output_type": "execute_result"
    }
   ],
   "source": [
    "# Overtime, Men has won more medals than any other gender classification in history.\n",
    "\n",
    "medals['event_gender'].value_counts()"
   ]
  },
  {
   "cell_type": "code",
   "execution_count": 67,
   "id": "38a9d336-a62d-4788-8439-f4f59e1f0cd4",
   "metadata": {
    "tags": []
   },
   "outputs": [
    {
     "data": {
      "image/png": "[encoded data removed]",
      "text/plain": [
       "<Figure size 1000x700 with 1 Axes>"
      ]
     },
     "metadata": {},
     "output_type": "display_data"
    }
   ],
   "source": [
    "plt.figure(figsize=(10, 7))\n",
    "medals['event_gender'].value_counts().plot(kind = 'pie', autopct = '%1.0f%%',\n",
    "                                           fontsize = 15, explode = (0, 0, 0.09, 0.3))\n",
    "plt.ylabel('gender_class', fontsize = 12)\n",
    "plt.title('Percentage of Medals Won per Gender Classification Overtime', fontsize = 15, color = 'purple')\n",
    "plt.show()"
   ]
  },
  {
   "cell_type": "code",
   "execution_count": null,
   "id": "f5e84189-3c3f-498d-b789-ee9a5b18ee6f",
   "metadata": {},
   "outputs": [],
   "source": []
  },
  {
   "cell_type": "markdown",
   "id": "b0e68806-8faa-438b-b178-c65ae8f5286b",
   "metadata": {
    "tags": []
   },
   "source": [
    "## 14) Top 5 countries with the most Gold, Silver and bronze won in Olympics history"
   ]
  },
  {
   "cell_type": "code",
   "execution_count": 68,
   "id": "f0531ca4-9cd9-4452-91d6-451dcaaac6b1",
   "metadata": {
    "tags": []
   },
   "outputs": [
    {
     "data": {
      "text/plain": [
       "United States of America      1222\n",
       "Soviet Union                   510\n",
       "Germany                        385\n",
       "People's Republic of China     333\n",
       "Great Britain                  332\n",
       "Name: country_name, dtype: int64"
      ]
     },
     "execution_count": 68,
     "metadata": {},
     "output_type": "execute_result"
    }
   ],
   "source": [
    "gold_5 = medals.loc[medals['medal_type'] == 'GOLD']['country_name'].value_counts().head()\n",
    "gold_5"
   ]
  },
  {
   "cell_type": "code",
   "execution_count": 126,
   "id": "6c09d637-dad8-4faf-bcee-b8191e761879",
   "metadata": {
    "tags": []
   },
   "outputs": [
    {
     "data": {
      "image/png": "[encoded data removed]",
      "text/plain": [
       "<Figure size 1700x1000 with 1 Axes>"
      ]
     },
     "metadata": {},
     "output_type": "display_data"
    }
   ],
   "source": [
    "plt.figure(figsize=(17, 10))\n",
    "\n",
    "gold_5.sort_values().plot(kind = 'barh', color = 'coral', fontsize = 14)\n",
    "\n",
    "plt.ylabel('Country', fontsize = 15)\n",
    "plt.xlabel('Number of Gold won', fontsize = 14)\n",
    "plt.title('Top 5 Gold winning Countries', fontsize = 18, color = 'purple')\n",
    "plt.show()"
   ]
  },
  {
   "cell_type": "code",
   "execution_count": null,
   "id": "fc14d093-7017-4457-8303-c006ccd132a3",
   "metadata": {},
   "outputs": [],
   "source": []
  },
  {
   "cell_type": "code",
   "execution_count": 70,
   "id": "e556cb1f-2336-443e-91c0-38fe60a760ea",
   "metadata": {
    "tags": []
   },
   "outputs": [
    {
     "data": {
      "text/plain": [
       "United States of America    1000\n",
       "Germany                      399\n",
       "Soviet Union                 396\n",
       "Great Britain                363\n",
       "France                       305\n",
       "Name: country_name, dtype: int64"
      ]
     },
     "execution_count": 70,
     "metadata": {},
     "output_type": "execute_result"
    }
   ],
   "source": [
    "silver_5 = medals.loc[medals['medal_type'] == 'SILVER']['country_name'].value_counts().head()\n",
    "silver_5"
   ]
  },
  {
   "cell_type": "code",
   "execution_count": 125,
   "id": "4d01c750-361a-4067-a46c-90b237501dec",
   "metadata": {
    "tags": []
   },
   "outputs": [
    {
     "data": {
      "image/png": "[encoded data removed]",
      "text/plain": [
       "<Figure size 1700x1000 with 1 Axes>"
      ]
     },
     "metadata": {},
     "output_type": "display_data"
    }
   ],
   "source": [
    "plt.figure(figsize=(17, 10))\n",
    "\n",
    "silver_5.sort_values().plot(kind = 'barh', color = 'silver', fontsize = 14)\n",
    "\n",
    "plt.ylabel('Country', fontsize = 15)\n",
    "plt.xlabel('Number of Silver won', fontsize = 14)\n",
    "plt.title('Top 5 Silver winning Countries', fontsize = 18, color = 'purple')\n",
    "plt.show()"
   ]
  },
  {
   "cell_type": "code",
   "execution_count": null,
   "id": "448dd256-5962-4467-9389-15bdd43de63f",
   "metadata": {},
   "outputs": [],
   "source": []
  },
  {
   "cell_type": "code",
   "execution_count": 72,
   "id": "14ab8175-7cd1-4666-b184-976669ff5d16",
   "metadata": {
    "tags": []
   },
   "outputs": [
    {
     "data": {
      "text/plain": [
       "United States of America    872\n",
       "Germany                     383\n",
       "Soviet Union                366\n",
       "France                      365\n",
       "Great Britain               350\n",
       "Name: country_name, dtype: int64"
      ]
     },
     "execution_count": 72,
     "metadata": {},
     "output_type": "execute_result"
    }
   ],
   "source": [
    "bronze_5 = medals.loc[medals['medal_type'] == 'BRONZE']['country_name'].value_counts().head()\n",
    "bronze_5"
   ]
  },
  {
   "cell_type": "code",
   "execution_count": 127,
   "id": "8de6ee00-9c10-4bcf-9c9c-a27e73bd6d0c",
   "metadata": {
    "tags": []
   },
   "outputs": [
    {
     "data": {
      "image/png": "[encoded data removed]",
      "text/plain": [
       "<Figure size 1700x1000 with 1 Axes>"
      ]
     },
     "metadata": {},
     "output_type": "display_data"
    }
   ],
   "source": [
    "plt.figure(figsize=(17, 10))\n",
    "\n",
    "bronze_5.sort_values().plot(kind = 'barh', color = 'olive', fontsize = 14)\n",
    "\n",
    "plt.ylabel('Country', fontsize = 15)\n",
    "plt.xlabel('Number of bronze won', fontsize = 14)\n",
    "plt.title('Top 5 Bronze winning Countries', fontsize = 18, color = 'purple')\n",
    "plt.show()"
   ]
  },
  {
   "cell_type": "markdown",
   "id": "2c18659a-c8b7-4aa5-9ab1-45bf8ca089ab",
   "metadata": {},
   "source": [
    "###### Answer\n",
    "\n",
    "###### United states dominated the charts in all categories."
   ]
  },
  {
   "cell_type": "code",
   "execution_count": null,
   "id": "4c5a9697-2054-4bf9-ad14-b67bf504da77",
   "metadata": {},
   "outputs": [],
   "source": []
  },
  {
   "cell_type": "markdown",
   "id": "65e14975-7d5a-4b51-9813-708b8da70df7",
   "metadata": {
    "jp-MarkdownHeadingCollapsed": true,
    "tags": []
   },
   "source": [
    "## 15) Which athlete(s) have won the most medals in the history of the Olympics?"
   ]
  },
  {
   "cell_type": "code",
   "execution_count": 74,
   "id": "8e90500a-777a-4518-8c51-e408b8c058cd",
   "metadata": {
    "tags": []
   },
   "outputs": [
    {
     "data": {
      "text/plain": [
       "NaN                  3624\n",
       "Michael PHELPS         16\n",
       "Larisa LATYNINA        14\n",
       "Nikolay ANDRIANOV      12\n",
       "Marit BJOERGEN         12\n",
       "Name: athlete_full_name, dtype: int64"
      ]
     },
     "execution_count": 74,
     "metadata": {},
     "output_type": "execute_result"
    }
   ],
   "source": [
    "# Michael PHELPS, Larisa LATYNINA, Nikolay ANDRIANOV, and Marit BJOERGEN are 4 athletes with the most olympics medals in history\n",
    "# NOTE!!! This medal won values might not be accurate due to some missing data\n",
    "\n",
    "medals['athlete_full_name'].value_counts(dropna = False).head()"
   ]
  },
  {
   "cell_type": "code",
   "execution_count": null,
   "id": "71c67aef-f3ac-4be1-9843-fdf73b9c7646",
   "metadata": {},
   "outputs": [],
   "source": []
  },
  {
   "cell_type": "markdown",
   "id": "92f44842-29fc-4a3e-ac6d-6f6a7eba59eb",
   "metadata": {
    "jp-MarkdownHeadingCollapsed": true,
    "tags": []
   },
   "source": [
    "## 16) Athletes age distribution (Any anomalies?)"
   ]
  },
  {
   "cell_type": "code",
   "execution_count": 75,
   "id": "2bb45c6a-116b-43b9-80f5-8560945e2290",
   "metadata": {
    "tags": []
   },
   "outputs": [
    {
     "data": {
      "image/png": "[encoded data removed]",
      "text/plain": [
       "<Figure size 1700x1000 with 1 Axes>"
      ]
     },
     "metadata": {},
     "output_type": "display_data"
    }
   ],
   "source": [
    "plt.figure(figsize=(17, 10))\n",
    "\n",
    "athletes['age'].plot(kind = 'box')\n",
    "\n",
    "plt.title('Distribution of all Athletes age', fontsize = 18, color = 'purple')\n",
    "plt.show()"
   ]
  },
  {
   "cell_type": "code",
   "execution_count": 76,
   "id": "7924020d-17ca-4bc4-b987-e202a4368839",
   "metadata": {
    "tags": []
   },
   "outputs": [
    {
     "data": {
      "text/plain": [
       "25"
      ]
     },
     "execution_count": 76,
     "metadata": {},
     "output_type": "execute_result"
    }
   ],
   "source": [
    "# Average Age of athletes (all participants overtime) (25)\n",
    "\n",
    "int(athletes['age'].mean().round())"
   ]
  },
  {
   "cell_type": "code",
   "execution_count": 77,
   "id": "4a2e721a-cb4b-4431-bffe-fba25c26ec6d",
   "metadata": {
    "tags": []
   },
   "outputs": [
    {
     "data": {
      "text/plain": [
       "122"
      ]
     },
     "execution_count": 77,
     "metadata": {},
     "output_type": "execute_result"
    }
   ],
   "source": [
    "# The oldest athlete (participant) (122)\n",
    "\n",
    "int(athletes['age'].max())"
   ]
  },
  {
   "cell_type": "code",
   "execution_count": 78,
   "id": "beb02556-1556-4662-a471-28e07065f17c",
   "metadata": {
    "tags": []
   },
   "outputs": [
    {
     "data": {
      "text/plain": [
       "-97"
      ]
     },
     "execution_count": 78,
     "metadata": {},
     "output_type": "execute_result"
    }
   ],
   "source": [
    "# The  youngest athlete (participants) (-97)\n",
    "\n",
    "int(athletes['age'].min())"
   ]
  },
  {
   "cell_type": "code",
   "execution_count": 79,
   "id": "08db526b-0439-4168-9412-55b3c5f64248",
   "metadata": {
    "tags": []
   },
   "outputs": [
    {
     "data": {
      "text/html": [
       "<div>\n",
       "<style scoped>\n",
       "    .dataframe tbody tr th:only-of-type {\n",
       "        vertical-align: middle;\n",
       "    }\n",
       "\n",
       "    .dataframe tbody tr th {\n",
       "        vertical-align: top;\n",
       "    }\n",
       "\n",
       "    .dataframe thead th {\n",
       "        text-align: right;\n",
       "    }\n",
       "</style>\n",
       "<table border=\"1\" class=\"dataframe\">\n",
       "  <thead>\n",
       "    <tr style=\"text-align: right;\">\n",
       "      <th></th>\n",
       "      <th>athlete_url</th>\n",
       "      <th>athlete_full_name</th>\n",
       "      <th>games_participations</th>\n",
       "      <th>first_game</th>\n",
       "      <th>athlete_year_birth</th>\n",
       "      <th>game_year</th>\n",
       "      <th>age</th>\n",
       "    </tr>\n",
       "  </thead>\n",
       "  <tbody>\n",
       "    <tr>\n",
       "      <th>67816</th>\n",
       "      <td>https://olympics.com/en/athletes/harrison-smith</td>\n",
       "      <td>Harrison SMITH</td>\n",
       "      <td>1</td>\n",
       "      <td>Paris 1900</td>\n",
       "      <td>1997.0</td>\n",
       "      <td>1900.0</td>\n",
       "      <td>-97.0</td>\n",
       "    </tr>\n",
       "  </tbody>\n",
       "</table>\n",
       "</div>"
      ],
      "text/plain": [
       "                                           athlete_url athlete_full_name  \\\n",
       "67816  https://olympics.com/en/athletes/harrison-smith    Harrison SMITH   \n",
       "\n",
       "       games_participations  first_game  athlete_year_birth  game_year   age  \n",
       "67816                     1  Paris 1900              1997.0     1900.0 -97.0  "
      ]
     },
     "execution_count": 79,
     "metadata": {},
     "output_type": "execute_result"
    }
   ],
   "source": [
    "# Proof of data entry error\n",
    "\n",
    "athletes.loc[athletes['age'] == -97]"
   ]
  },
  {
   "cell_type": "markdown",
   "id": "327766aa-2003-48e7-a95d-22626012688c",
   "metadata": {},
   "source": [
    "###### Answer\n",
    "\n",
    "###### There are anomalies in the age range of athletes due to incorrect data entry (athlete_year_birth column). For example, the minimum age is -97, it is not possible for an athlete born in 1997 to participate in a game 97 years before his/her birthdate. \n",
    "###### Recommendation - The athlete_url page should be updated with correct data.  "
   ]
  },
  {
   "cell_type": "code",
   "execution_count": null,
   "id": "f4ee5859-9223-4bcd-b9ae-a2d18fc6699a",
   "metadata": {},
   "outputs": [],
   "source": []
  },
  {
   "cell_type": "markdown",
   "id": "b9e6d048-673b-4692-8082-36d60d045c7e",
   "metadata": {},
   "source": [
    "![green-divider](https://user-images.githubusercontent.com/7065401/52071924-c003ad80-2562-11e9-8297-1c6595f8a7ff.png)"
   ]
  }
 ],
 "metadata": {
  "kernelspec": {
   "display_name": "Python 3 (ipykernel)",
   "language": "python",
   "name": "python3"
  },
  "language_info": {
   "codemirror_mode": {
    "name": "ipython",
    "version": 3
   },
   "file_extension": ".py",
   "mimetype": "text/x-python",
   "name": "python",
   "nbconvert_exporter": "python",
   "pygments_lexer": "ipython3",
   "version": "3.10.9"
  }
 },
 "nbformat": 4,
 "nbformat_minor": 5
}
